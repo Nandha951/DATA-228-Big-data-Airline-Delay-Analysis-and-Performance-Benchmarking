{
 "cells": [
  {
   "cell_type": "code",
   "execution_count": 1,
   "id": "6361643f",
   "metadata": {},
   "outputs": [
    {
     "name": "stdout",
     "output_type": "stream",
     "text": [
      ":: loading settings :: url = jar:file:/usr/local/Cellar/apache-spark/3.5.5/libexec/jars/ivy-2.5.1.jar!/org/apache/ivy/core/settings/ivysettings.xml\n"
     ]
    },
    {
     "name": "stderr",
     "output_type": "stream",
     "text": [
      "Ivy Default Cache set to: /Users/soham/.ivy2/cache\n",
      "The jars for the packages stored in: /Users/soham/.ivy2/jars\n",
      "org.apache.hadoop#hadoop-aws added as a dependency\n",
      "com.amazonaws#aws-java-sdk-bundle added as a dependency\n",
      ":: resolving dependencies :: org.apache.spark#spark-submit-parent-9e29d862-b098-4ec7-aed7-49b5f49b296a;1.0\n",
      "\tconfs: [default]\n",
      "\tfound org.apache.hadoop#hadoop-aws;3.3.1 in central\n",
      "\tfound org.wildfly.openssl#wildfly-openssl;1.0.7.Final in central\n",
      "\tfound com.amazonaws#aws-java-sdk-bundle;1.11.1026 in central\n",
      ":: resolution report :: resolve 893ms :: artifacts dl 21ms\n",
      "\t:: modules in use:\n",
      "\tcom.amazonaws#aws-java-sdk-bundle;1.11.1026 from central in [default]\n",
      "\torg.apache.hadoop#hadoop-aws;3.3.1 from central in [default]\n",
      "\torg.wildfly.openssl#wildfly-openssl;1.0.7.Final from central in [default]\n",
      "\t:: evicted modules:\n",
      "\tcom.amazonaws#aws-java-sdk-bundle;1.11.901 by [com.amazonaws#aws-java-sdk-bundle;1.11.1026] in [default]\n",
      "\t---------------------------------------------------------------------\n",
      "\t|                  |            modules            ||   artifacts   |\n",
      "\t|       conf       | number| search|dwnlded|evicted|| number|dwnlded|\n",
      "\t---------------------------------------------------------------------\n",
      "\t|      default     |   4   |   0   |   0   |   1   ||   3   |   0   |\n",
      "\t---------------------------------------------------------------------\n",
      ":: retrieving :: org.apache.spark#spark-submit-parent-9e29d862-b098-4ec7-aed7-49b5f49b296a\n",
      "\tconfs: [default]\n",
      "\t0 artifacts copied, 3 already retrieved (0kB/53ms)\n",
      "25/05/09 11:21:08 WARN NativeCodeLoader: Unable to load native-hadoop library for your platform... using builtin-java classes where applicable\n",
      "Setting default log level to \"WARN\".\n",
      "To adjust logging level use sc.setLogLevel(newLevel). For SparkR, use setLogLevel(newLevel).\n"
     ]
    }
   ],
   "source": [
    "# Initialize findspark\n",
    "import findspark\n",
    "findspark.init()\n",
    "\n",
    "# Import SparkSession\n",
    "from pyspark.sql import SparkSession\n",
    "from dotenv import load_dotenv\n",
    "import os\n",
    "load_dotenv()\n",
    "AWS_ACCESS_KEY=os.getenv(\"AWS_ACCESS_KEY\")\n",
    "AWS_SECRET_KEY = os.getenv(\"AWS_SECRET_KEY\")\n",
    "\n",
    "# Create SparkSession with AWS packages\n",
    "spark = SparkSession.builder \\\n",
    "    .appName(\"Flight Delays Streaming in Notebook\") \\\n",
    "    .config(\"spark.jars.packages\", \"org.apache.hadoop:hadoop-aws:3.3.1,com.amazonaws:aws-java-sdk-bundle:1.11.1026\") \\\n",
    "    .config(\"spark.hadoop.fs.s3a.impl\", \"org.apache.hadoop.fs.s3a.S3AFileSystem\") \\\n",
    "    .config(\"spark.hadoop.fs.s3a.access.key\", AWS_ACCESS_KEY) \\\n",
    "    .config(\"spark.hadoop.fs.s3a.secret.key\", AWS_SECRET_KEY) \\\n",
    "    .config(\"spark.hadoop.fs.s3a.endpoint\", \"s3.amazonaws.com\") \\\n",
    "    .getOrCreate()\n",
    "\n",
    "# Set log level to avoid too much noise\n",
    "spark.sparkContext.setLogLevel(\"WARN\")\n",
    "\n"
   ]
  },
  {
   "cell_type": "code",
   "execution_count": 5,
   "id": "e977e6ea",
   "metadata": {},
   "outputs": [
    {
     "name": "stderr",
     "output_type": "stream",
     "text": [
      "                                                                                \r"
     ]
    }
   ],
   "source": [
    "from pyspark.sql.functions import avg, month, when, col, count, sum as _sum\n",
    "from pyspark.sql.types import DoubleType\n",
    "from pyspark.ml.feature import StringIndexer, VectorAssembler, StandardScaler, PCA\n",
    "from pyspark.ml.clustering import KMeans\n",
    "\n",
    "# 1. Read Data\n",
    "df = spark.read.csv(\"s3a://bigdata-flight-delays/2024_*.csv\", header=True, inferSchema=True)\n",
    "\n",
    "# 2. Cast delay columns\n",
    "delay_cols = [\n",
    "    \"DepDelayMinutes\", \"ArrDelayMinutes\", \"WeatherDelay\",\n",
    "    \"CarrierDelay\", \"NASDelay\", \"LateAircraftDelay\"\n",
    "]\n",
    "for colname in delay_cols:\n",
    "    df = df.withColumn(colname, col(colname).cast(\"float\"))\n",
    "\n",
    "# 3. Filter out cancelled flights\n",
    "df = df.filter((col(\"Cancelled\") == 0) | col(\"Cancelled\").isNull())\n",
    "\n",
    "# 4. Add Month and Season\n",
    "df = df.withColumn(\"Month\", month(\"FlightDate\").cast(\"int\"))\n",
    "df = df.withColumn(\"Season\", when(col(\"Month\").isin([12, 1, 2]), \"Winter\")\n",
    "                             .when(col(\"Month\").isin([3, 4, 5]), \"Spring\")\n",
    "                             .when(col(\"Month\").isin([6, 7, 8]), \"Summer\")\n",
    "                             .otherwise(\"Fall\"))\n",
    "\n",
    "\n",
    "# 6. Fill nulls in delay columns with 0\n",
    "df = df.fillna(0)\n",
    "\n"
   ]
  },
  {
   "cell_type": "code",
   "execution_count": null,
   "id": "bc214c6a",
   "metadata": {},
   "outputs": [
    {
     "name": "stderr",
     "output_type": "stream",
     "text": [
      "25/05/09 12:33:55 WARN AbstractS3ACommitterFactory: Using standard FileOutputCommitter to commit work. This is slow and potentially unsafe.\n",
      "25/05/09 12:33:57 WARN AbstractS3ACommitterFactory: Using standard FileOutputCommitter to commit work. This is slow and potentially unsafe.\n",
      "                                                                                \r"
     ]
    }
   ],
   "source": [
    "# 7. Group and aggregate\n",
    "df_grouped = df.groupBy(\"Origin\", \"Dest\", \"Reporting_Airline\", \"Season\", \"DayOfWeek\").agg(\n",
    "    count(\"*\").alias(\"TotalFlights\"),\n",
    "    sum(\"DepDel15\").alias(\"DepDelayedCount\"),\n",
    "    sum(\"ArrDel15\").alias(\"ArrDelayedCount\"),\n",
    "\n",
    "    avg(when(col(\"DepDel15\") ==1, col(\"DepDelayMinutes\"))).alias(\"AvgDepDelayDelayed\"),\n",
    "    avg(when(col(\"ArrDel15\") ==1, col(\"ArrDelayMinutes\"))).alias(\"AvgArrDelayDelayed\"),\n",
    "    avg(when(col(\"WeatherDelay\") > 0, col(\"WeatherDelay\"))).alias(\"AvgWeatherDelayDelayed\"),\n",
    "    avg(when(col(\"CarrierDelay\") > 0, col(\"CarrierDelay\"))).alias(\"AvgCarrierDelayDelayed\"),\n",
    "    avg(when(col(\"NASDelay\") > 0, col(\"NASDelay\"))).alias(\"AvgNASDelayDelayed\"),\n",
    "    avg(when(col(\"LateAircraftDelay\") > 0, col(\"LateAircraftDelay\"))).alias(\"AvgLateAircraftDelayDelayed\")\n",
    ")\n",
    "\n",
    "# 8. Compute % delayed\n",
    "df_grouped = df_grouped.withColumn(\"PctDepDelayed\", (col(\"DepDelayedCount\") / col(\"TotalFlights\")) * 100)\n",
    "df_grouped = df_grouped.withColumn(\"PctArrDelayed\", (col(\"ArrDelayedCount\") / col(\"TotalFlights\")) * 100)\n",
    "\n",
    "# 9. Save the grouped data to S3 in 1 file using coalesce\n",
    "df_grouped = df_grouped.coalesce(1).write.csv(\"s3a://bigdata-flight-delays/flight_grouped\", header=True, mode=\"overwrite\")\n"
   ]
  },
  {
   "cell_type": "code",
   "execution_count": 14,
   "id": "11c9af1e",
   "metadata": {},
   "outputs": [
    {
     "name": "stderr",
     "output_type": "stream",
     "text": [
      "                                                                                \r"
     ]
    }
   ],
   "source": [
    "df_grouped = spark.read.csv(\"s3a://bigdata-flight-delays/flight_grouped\", header=True, inferSchema=True)\n",
    "df_grouped=df_grouped.fillna(0)"
   ]
  },
  {
   "cell_type": "code",
   "execution_count": 15,
   "id": "71d7992e",
   "metadata": {},
   "outputs": [
    {
     "name": "stdout",
     "output_type": "stream",
     "text": [
      "root\n",
      " |-- Origin: string (nullable = true)\n",
      " |-- Dest: string (nullable = true)\n",
      " |-- Reporting_Airline: string (nullable = true)\n",
      " |-- Season: string (nullable = true)\n",
      " |-- DayOfWeek: integer (nullable = true)\n",
      " |-- TotalFlights: integer (nullable = true)\n",
      " |-- DepDelayedCount: double (nullable = false)\n",
      " |-- ArrDelayedCount: double (nullable = false)\n",
      " |-- AvgDepDelayDelayed: double (nullable = false)\n",
      " |-- AvgArrDelayDelayed: double (nullable = false)\n",
      " |-- AvgWeatherDelayDelayed: double (nullable = false)\n",
      " |-- AvgCarrierDelayDelayed: double (nullable = false)\n",
      " |-- AvgNASDelayDelayed: double (nullable = false)\n",
      " |-- AvgLateAircraftDelayDelayed: double (nullable = false)\n",
      " |-- PctDepDelayed: double (nullable = false)\n",
      " |-- PctArrDelayed: double (nullable = false)\n",
      "\n"
     ]
    }
   ],
   "source": [
    "df_grouped.printSchema()"
   ]
  },
  {
   "cell_type": "code",
   "execution_count": null,
   "id": "fdcb6488",
   "metadata": {},
   "outputs": [],
   "source": [
    "\n",
    "# 9. Encode categorical variables\n",
    "indexers = [\n",
    "    StringIndexer(inputCol=\"Origin\", outputCol=\"OriginIdx\"),\n",
    "    StringIndexer(inputCol=\"Dest\", outputCol=\"DestIdx\"),\n",
    "    StringIndexer(inputCol=\"Reporting_Airline\", outputCol=\"AirlineIdx\"),\n",
    "    StringIndexer(inputCol=\"Season\", outputCol=\"SeasonIdx\")\n",
    "\n",
    "]\n",
    "for indexer in indexers:\n",
    "    df_grouped = indexer.fit(df_grouped).transform(df_grouped)\n",
    "# for colname in input_cols:\n",
    "#     df_grouped = df_grouped.withColumn(colname, col(colname).cast(DoubleType()))\n",
    "# 10. Assemble features\n",
    "assembler = VectorAssembler(\n",
    "    inputCols=[\n",
    "        \"OriginIdx\", \"DestIdx\", \"AirlineIdx\", \"SeasonIdx\", \"DayOfWeek\",\n",
    "        \"PctDepDelayed\", \"PctArrDelayed\",\n",
    "        \"AvgDepDelayDelayed\", \"AvgArrDelayDelayed\",\n",
    "        \"AvgWeatherDelayDelayed\", \"AvgCarrierDelayDelayed\",\n",
    "        \"AvgNASDelayDelayed\", \"AvgLateAircraftDelayDelayed\"\n",
    "    ],\n",
    "    outputCol=\"features\"\n",
    ")\n",
    "df_vector = assembler.transform(df_grouped)\n",
    "\n",
    "# 11. Scale features\n",
    "scaler = StandardScaler(inputCol=\"features\", outputCol=\"scaledFeatures\", withMean=True, withStd=True)\n",
    "df_scaled = scaler.fit(df_vector).transform(df_vector)\n",
    "\n",
    "# 12. PCA (reduce to 5 principal components)\n",
    "pca = PCA(k=5, inputCol=\"scaledFeatures\", outputCol=\"pcaFeatures\")\n",
    "pca_model = pca.fit(df_scaled)\n",
    "df_pca = pca_model.transform(df_scaled)\n",
    "\n",
    "\n",
    "\n",
    "\n",
    "\n"
   ]
  },
  {
   "cell_type": "code",
   "execution_count": 18,
   "id": "0a2576e3",
   "metadata": {},
   "outputs": [],
   "source": [
    "#Persist the DataFrame to avoid recomputation\n",
    "from pyspark import StorageLevel\n",
    "df_pca = df_pca.persist(StorageLevel.MEMORY_AND_DISK)"
   ]
  },
  {
   "cell_type": "code",
   "execution_count": 19,
   "id": "41917acc",
   "metadata": {},
   "outputs": [
    {
     "name": "stderr",
     "output_type": "stream",
     "text": [
      "[Stage 125:==========================================>              (3 + 1) / 4]\r"
     ]
    },
    {
     "name": "stdout",
     "output_type": "stream",
     "text": [
      "+------+----+-----------------+------+---------+------------+---------------+---------------+------------------+------------------+----------------------+----------------------+------------------+---------------------------+------------------+------------------+---------+-------+----------+---------+--------------------+--------------------+--------------------+\n",
      "|Origin|Dest|Reporting_Airline|Season|DayOfWeek|TotalFlights|DepDelayedCount|ArrDelayedCount|AvgDepDelayDelayed|AvgArrDelayDelayed|AvgWeatherDelayDelayed|AvgCarrierDelayDelayed|AvgNASDelayDelayed|AvgLateAircraftDelayDelayed|     PctDepDelayed|     PctArrDelayed|OriginIdx|DestIdx|AirlineIdx|SeasonIdx|            features|      scaledFeatures|         pcaFeatures|\n",
      "+------+----+-----------------+------+---------+------------+---------------+---------------+------------------+------------------+----------------------+----------------------+------------------+---------------------------+------------------+------------------+---------+-------+----------+---------+--------------------+--------------------+--------------------+\n",
      "|   TUL| ATL|               9E|Winter|        5|           8|            1.0|            1.0|             169.0|             151.0|                   0.0|                   0.0|               0.0|                      151.0|              12.5|              12.5|     76.0|    3.0|      10.0|      0.0|[76.0,3.0,10.0,0....|[0.61437680897776...|[-1.3586185510291...|\n",
      "|   JFK| RIC|               9E|Winter|        1|          21|            3.0|            4.0|61.666666666666664|              52.5|                   0.0|                  69.0| 5.333333333333333|         41.666666666666664|14.285714285714285|19.047619047619047|     20.0|   74.0|      10.0|      0.0|[20.0,74.0,10.0,0...|[-0.4365720309404...|[0.34701684398352...|\n",
      "|   RIC| JFK|               9E|Winter|        4|          20|            2.0|            4.0|              38.0|             30.25|                   0.0|                   0.0|             11.25|                       38.0|              10.0|              20.0|     74.0|   20.0|      10.0|      0.0|[74.0,20.0,10.0,0...|[0.57684292183783...|[0.93671421794610...|\n",
      "|   GRB| MSP|               9E|Winter|        2|           2|            0.0|            0.0|               0.0|               0.0|                   0.0|                   0.0|               0.0|                        0.0|               0.0|               0.0|    158.0|   10.0|      10.0|      0.0|(13,[0,1,2,4],[15...|[2.15326618171516...|[2.15674752890620...|\n",
      "|   RDU| AUS|               9E|Winter|        6|           8|            1.0|            3.0|              91.0|49.333333333333336|                   0.0|                  51.5|              15.0|                        0.0|              12.5|              37.5|     28.0|   24.0|      10.0|      0.0|[28.0,24.0,10.0,0...|[-0.2864364823807...|[0.05374315151262...|\n",
      "+------+----+-----------------+------+---------+------------+---------------+---------------+------------------+------------------+----------------------+----------------------+------------------+---------------------------+------------------+------------------+---------+-------+----------+---------+--------------------+--------------------+--------------------+\n",
      "only showing top 5 rows\n",
      "\n"
     ]
    },
    {
     "name": "stderr",
     "output_type": "stream",
     "text": [
      "                                                                                \r"
     ]
    }
   ],
   "source": [
    "df_pca.show(5)"
   ]
  },
  {
   "cell_type": "code",
   "execution_count": 20,
   "id": "42f2d5c5",
   "metadata": {},
   "outputs": [
    {
     "name": "stderr",
     "output_type": "stream",
     "text": [
      "                                                                                \r"
     ]
    },
    {
     "name": "stdout",
     "output_type": "stream",
     "text": [
      "K=2, WSSSE=1748529.6019895023\n"
     ]
    },
    {
     "name": "stderr",
     "output_type": "stream",
     "text": [
      "                                                                                \r"
     ]
    },
    {
     "name": "stdout",
     "output_type": "stream",
     "text": [
      "K=3, WSSSE=1452806.7347469297\n"
     ]
    },
    {
     "name": "stderr",
     "output_type": "stream",
     "text": [
      "                                                                                \r"
     ]
    },
    {
     "name": "stdout",
     "output_type": "stream",
     "text": [
      "K=4, WSSSE=1317582.592265395\n"
     ]
    },
    {
     "name": "stderr",
     "output_type": "stream",
     "text": [
      "                                                                                \r"
     ]
    },
    {
     "name": "stdout",
     "output_type": "stream",
     "text": [
      "K=5, WSSSE=1203555.978888232\n"
     ]
    },
    {
     "name": "stderr",
     "output_type": "stream",
     "text": [
      "                                                                                \r"
     ]
    },
    {
     "name": "stdout",
     "output_type": "stream",
     "text": [
      "K=6, WSSSE=1097472.7017834478\n"
     ]
    },
    {
     "name": "stderr",
     "output_type": "stream",
     "text": [
      "                                                                                \r"
     ]
    },
    {
     "name": "stdout",
     "output_type": "stream",
     "text": [
      "K=7, WSSSE=1019806.9181546681\n"
     ]
    },
    {
     "name": "stderr",
     "output_type": "stream",
     "text": [
      "                                                                                \r"
     ]
    },
    {
     "name": "stdout",
     "output_type": "stream",
     "text": [
      "K=8, WSSSE=1005972.6096542766\n"
     ]
    },
    {
     "name": "stderr",
     "output_type": "stream",
     "text": [
      "                                                                                \r"
     ]
    },
    {
     "name": "stdout",
     "output_type": "stream",
     "text": [
      "K=9, WSSSE=894631.8437328222\n"
     ]
    },
    {
     "name": "stderr",
     "output_type": "stream",
     "text": [
      "                                                                                \r"
     ]
    },
    {
     "name": "stdout",
     "output_type": "stream",
     "text": [
      "K=10, WSSSE=848847.6727699636\n"
     ]
    },
    {
     "name": "stderr",
     "output_type": "stream",
     "text": [
      "25/05/09 13:42:53 WARN AbstractS3ACommitterFactory: Using standard FileOutputCommitter to commit work. This is slow and potentially unsafe.\n",
      "25/05/09 13:42:54 WARN AbstractS3ACommitterFactory: Using standard FileOutputCommitter to commit work. This is slow and potentially unsafe.\n",
      "                                                                                \r"
     ]
    }
   ],
   "source": [
    "wssse_list = []\n",
    "for k in range(2, 11):\n",
    "    kmeans = KMeans(k=k, seed=42, featuresCol=\"pcaFeatures\", predictionCol=\"cluster\")\n",
    "    model = kmeans.fit(df_pca)\n",
    "    wssse = model.summary.trainingCost\n",
    "    wssse_list.append((k, wssse))\n",
    "    print(f\"K={k}, WSSSE={wssse}\")\n",
    "\n",
    "# OPTIONAL: Save WSSSEs to S3 or local for plotting\n",
    "spark.createDataFrame(wssse_list, [\"k\", \"WSSSE\"]).coalesce(1).write.csv(\n",
    "    \"s3a://bigdata-flight-delays/kmeans_elbow_values\", header=True, mode=\"overwrite\"\n",
    ")"
   ]
  },
  {
   "cell_type": "code",
   "execution_count": 21,
   "id": "0638ac53",
   "metadata": {},
   "outputs": [
    {
     "name": "stderr",
     "output_type": "stream",
     "text": [
      "25/05/09 13:53:16 WARN AbstractS3ACommitterFactory: Using standard FileOutputCommitter to commit work. This is slow and potentially unsafe.\n",
      "25/05/09 13:53:17 WARN AbstractS3ACommitterFactory: Using standard FileOutputCommitter to commit work. This is slow and potentially unsafe.\n",
      "25/05/09 13:53:17 WARN AbstractS3ACommitterFactory: Using standard FileOutputCommitter to commit work. This is slow and potentially unsafe.\n",
      "25/05/09 13:53:17 WARN AbstractS3ACommitterFactory: Using standard FileOutputCommitter to commit work. This is slow and potentially unsafe.\n",
      "25/05/09 13:53:17 WARN AbstractS3ACommitterFactory: Using standard FileOutputCommitter to commit work. This is slow and potentially unsafe.\n",
      "                                                                                \r"
     ]
    }
   ],
   "source": [
    "# 14. Use best k (k=7) after inspecting elbow)\n",
    "optimal_k = 7\n",
    "final_kmeans = KMeans(k=optimal_k, seed=42, featuresCol=\"pcaFeatures\", predictionCol=\"cluster\")\n",
    "final_model = final_kmeans.fit(df_pca)\n",
    "df_clustered = final_model.transform(df_pca)\n",
    "\n",
    "# 15. Export clustered result\n",
    "df_clustered.select(\n",
    "    \"Origin\", \"Dest\", \"Reporting_Airline\", \"Season\", \"DayOfWeek\",\n",
    "    \"PctDepDelayed\", \"PctArrDelayed\",\n",
    "    \"AvgDepDelayDelayed\", \"AvgArrDelayDelayed\",\n",
    "    \"AvgWeatherDelayDelayed\", \"AvgCarrierDelayDelayed\",\n",
    "    \"AvgNASDelayDelayed\", \"AvgLateAircraftDelayDelayed\",\n",
    "    \"cluster\"\n",
    ").write.csv(\"s3a://bigdata-flight-delays/flight_7_clusters_delay_profiles\", header=True, mode=\"overwrite\")\n"
   ]
  },
  {
   "cell_type": "code",
   "execution_count": 24,
   "id": "7dd9f038",
   "metadata": {},
   "outputs": [
    {
     "name": "stderr",
     "output_type": "stream",
     "text": [
      "                                                                                \r"
     ]
    }
   ],
   "source": [
    "df_clustered = spark.read.csv(\"s3a://bigdata-flight-delays/flight_7_clusters_delay_profiles\", header=True, inferSchema=True)\n",
    "# Step 9: Save the result to local filesystem\n",
    "df_clustered.select(\"Origin\", \"Dest\", \"Reporting_Airline\", \"Season\", \"DayOfWeek\",\n",
    "    \"PctDepDelayed\", \"PctArrDelayed\",\n",
    "    \"AvgDepDelayDelayed\", \"AvgArrDelayDelayed\",\n",
    "    \"AvgWeatherDelayDelayed\", \"AvgCarrierDelayDelayed\",\n",
    "    \"AvgNASDelayDelayed\", \"AvgLateAircraftDelayDelayed\",\n",
    "    \"cluster\"\n",
    ").coalesce(1).write.csv(\n",
    "    \"/Users/soham/PycharmProjects/bigdata-project/output/flight_clusters_7_delays\", header=True, mode=\"overwrite\"\n",
    ")"
   ]
  },
  {
   "cell_type": "code",
   "execution_count": 25,
   "id": "f54fef38",
   "metadata": {},
   "outputs": [
    {
     "name": "stderr",
     "output_type": "stream",
     "text": [
      "[Stage 674:>                                                        (0 + 1) / 1]\r"
     ]
    },
    {
     "name": "stdout",
     "output_type": "stream",
     "text": [
      "+------+----+-----------------+------+---------+------------+---------------+---------------+------------------+------------------+----------------------+----------------------+------------------+---------------------------+------------------+------------------+---------+-------+----------+---------+\n",
      "|Origin|Dest|Reporting_Airline|Season|DayOfWeek|TotalFlights|DepDelayedCount|ArrDelayedCount|AvgDepDelayDelayed|AvgArrDelayDelayed|AvgWeatherDelayDelayed|AvgCarrierDelayDelayed|AvgNASDelayDelayed|AvgLateAircraftDelayDelayed|     PctDepDelayed|     PctArrDelayed|OriginIdx|DestIdx|AirlineIdx|SeasonIdx|\n",
      "+------+----+-----------------+------+---------+------------+---------------+---------------+------------------+------------------+----------------------+----------------------+------------------+---------------------------+------------------+------------------+---------+-------+----------+---------+\n",
      "|   TUL| ATL|               9E|Winter|        5|           8|            1.0|            1.0|             169.0|             151.0|                   0.0|                   0.0|               0.0|                      151.0|              12.5|              12.5|     76.0|    3.0|      10.0|      0.0|\n",
      "|   JFK| RIC|               9E|Winter|        1|          21|            3.0|            4.0|61.666666666666664|              52.5|                   0.0|                  69.0| 5.333333333333333|         41.666666666666664|14.285714285714285|19.047619047619047|     20.0|   74.0|      10.0|      0.0|\n",
      "|   RIC| JFK|               9E|Winter|        4|          20|            2.0|            4.0|              38.0|             30.25|                   0.0|                   0.0|             11.25|                       38.0|              10.0|              20.0|     74.0|   20.0|      10.0|      0.0|\n",
      "|   GRB| MSP|               9E|Winter|        2|           2|            0.0|            0.0|               0.0|               0.0|                   0.0|                   0.0|               0.0|                        0.0|               0.0|               0.0|    158.0|   10.0|      10.0|      0.0|\n",
      "|   RDU| AUS|               9E|Winter|        6|           8|            1.0|            3.0|              91.0|49.333333333333336|                   0.0|                  51.5|              15.0|                        0.0|              12.5|              37.5|     28.0|   24.0|      10.0|      0.0|\n",
      "+------+----+-----------------+------+---------+------------+---------------+---------------+------------------+------------------+----------------------+----------------------+------------------+---------------------------+------------------+------------------+---------+-------+----------+---------+\n",
      "only showing top 5 rows\n",
      "\n"
     ]
    },
    {
     "name": "stderr",
     "output_type": "stream",
     "text": [
      "                                                                                \r"
     ]
    }
   ],
   "source": [
    "df_grouped.show(5)"
   ]
  },
  {
   "cell_type": "code",
   "execution_count": 26,
   "id": "29e5237b",
   "metadata": {},
   "outputs": [
    {
     "name": "stdout",
     "output_type": "stream",
     "text": [
      "+------+----+-----------------+------+---------+------------------+-----------------+------------------+------------------+----------------------+----------------------+------------------+---------------------------+-------+\n",
      "|Origin|Dest|Reporting_Airline|Season|DayOfWeek|     PctDepDelayed|    PctArrDelayed|AvgDepDelayDelayed|AvgArrDelayDelayed|AvgWeatherDelayDelayed|AvgCarrierDelayDelayed|AvgNASDelayDelayed|AvgLateAircraftDelayDelayed|cluster|\n",
      "+------+----+-----------------+------+---------+------------------+-----------------+------------------+------------------+----------------------+----------------------+------------------+---------------------------+-------+\n",
      "|   MYR| LBE|               NK|  Fall|        1| 5.555555555555555|5.555555555555555|             182.0|             173.0|                   0.0|                  48.0|               1.0|                      124.0|      5|\n",
      "|   TPA| IND|               NK|  Fall|        5|               0.0|              0.0|               0.0|               0.0|                   0.0|                   0.0|               0.0|                        0.0|      4|\n",
      "|   CMH| EWR|               NK|  Fall|        4|               0.0|              0.0|               0.0|               0.0|                   0.0|                   0.0|               0.0|                        0.0|      2|\n",
      "|   PHL| JAX|               F9|  Fall|        2|7.6923076923076925|              0.0|              19.0|               0.0|                   0.0|                   0.0|               0.0|                        0.0|      4|\n",
      "|   PHL| ORD|               F9|  Fall|        5| 36.36363636363637|45.45454545454545|              94.0|              93.0|                   0.0|                  34.0|              23.5|         112.33333333333333|      0|\n",
      "+------+----+-----------------+------+---------+------------------+-----------------+------------------+------------------+----------------------+----------------------+------------------+---------------------------+-------+\n",
      "only showing top 5 rows\n",
      "\n"
     ]
    }
   ],
   "source": [
    "df_clustered.show(5)"
   ]
  },
  {
   "cell_type": "code",
   "execution_count": 27,
   "id": "ca7a4690",
   "metadata": {},
   "outputs": [],
   "source": [
    "df_joined = df_grouped.join(\n",
    "    df_clustered.select(\"Origin\", \"Dest\", \"Reporting_Airline\", \"Season\", \"DayOfWeek\", \"cluster\"),\n",
    "    on=[\"Origin\", \"Dest\", \"Reporting_Airline\", \"Season\", \"DayOfWeek\"],\n",
    "    how=\"inner\"\n",
    ")\n"
   ]
  },
  {
   "cell_type": "code",
   "execution_count": 29,
   "id": "0ccad7e4",
   "metadata": {},
   "outputs": [
    {
     "name": "stderr",
     "output_type": "stream",
     "text": [
      "[Stage 681:>                                                        (0 + 1) / 1]\r"
     ]
    },
    {
     "name": "stdout",
     "output_type": "stream",
     "text": [
      "+------+----+-----------------+------+---------+------------+---------------+---------------+------------------+------------------+----------------------+----------------------+------------------+---------------------------+------------------+------------------+---------+-------+----------+---------+-------+\n",
      "|Origin|Dest|Reporting_Airline|Season|DayOfWeek|TotalFlights|DepDelayedCount|ArrDelayedCount|AvgDepDelayDelayed|AvgArrDelayDelayed|AvgWeatherDelayDelayed|AvgCarrierDelayDelayed|AvgNASDelayDelayed|AvgLateAircraftDelayDelayed|     PctDepDelayed|     PctArrDelayed|OriginIdx|DestIdx|AirlineIdx|SeasonIdx|cluster|\n",
      "+------+----+-----------------+------+---------+------------+---------------+---------------+------------------+------------------+----------------------+----------------------+------------------+---------------------------+------------------+------------------+---------+-------+----------+---------+-------+\n",
      "|   ABE| ATL|               9E|  Fall|        2|          36|            3.0|            1.0|23.666666666666668|              44.0|                   0.0|                   0.0|              14.0|                       30.0| 8.333333333333332|2.7777777777777777|    143.0|    3.0|      10.0|      1.0|      2|\n",
      "|   ABE| ATL|               9E|  Fall|        5|          36|            3.0|            3.0| 85.33333333333333| 75.66666666666667|                 132.0|                  61.0|              12.0|                       22.0| 8.333333333333332| 8.333333333333332|    143.0|    3.0|      10.0|      1.0|      2|\n",
      "|   ABE| ATL|               9E|Summer|        6|          32|            7.0|            7.0|123.28571428571429|137.57142857142858|                   0.0|                 119.8|100.66666666666667|                       62.0|            21.875|            21.875|    143.0|    3.0|      10.0|      3.0|      3|\n",
      "|   ABE| ATL|               9E|Winter|        3|          34|            8.0|            9.0|              93.0| 81.44444444444444|                   0.0|                 24.75|              15.4|          79.57142857142857| 23.52941176470588| 26.47058823529412|    143.0|    3.0|      10.0|      0.0|      5|\n",
      "|   ABE| ATL|               9E|Winter|        6|          25|            7.0|            9.0|174.28571428571428|147.44444444444446|                   0.0|                 134.4|23.833333333333332|         170.66666666666666|28.000000000000004|              36.0|    143.0|    3.0|      10.0|      0.0|      3|\n",
      "+------+----+-----------------+------+---------+------------+---------------+---------------+------------------+------------------+----------------------+----------------------+------------------+---------------------------+------------------+------------------+---------+-------+----------+---------+-------+\n",
      "only showing top 5 rows\n",
      "\n"
     ]
    },
    {
     "name": "stderr",
     "output_type": "stream",
     "text": [
      "                                                                                \r"
     ]
    }
   ],
   "source": [
    "df_joined.show(5)"
   ]
  },
  {
   "cell_type": "code",
   "execution_count": null,
   "id": "55b02edf",
   "metadata": {},
   "outputs": [],
   "source": [
    "df_joined = df_joined.select(\n",
    "    \"Origin\", \"Dest\", \"Reporting_Airline\", \"Season\", \"DayOfWeek\",\n",
    "    \"TotalFlights\", \"DepDelayedCount\", \"ArrDelayedCount\",\n",
    "    \"AvgDepDelayDelayed\", \"AvgArrDelayDelayed\",\n",
    "    \"AvgWeatherDelayDelayed\", \"AvgCarrierDelayDelayed\",\n",
    "    \"AvgNASDelayDelayed\", \"AvgLateAircraftDelayDelayed\",\n",
    "    \"PctDepDelayed\", \"PctArrDelayed\",\n",
    "    \"cluster\"\n",
    ")"
   ]
  },
  {
   "cell_type": "code",
   "execution_count": 38,
   "id": "5458dc23",
   "metadata": {},
   "outputs": [],
   "source": [
    "\n",
    "from pyspark.sql.functions import count, sum, when, col\n",
    "\n",
    "df_group2 = df.groupBy(\"Origin\", \"Dest\", \"Reporting_Airline\", \"Season\", \"DayOfWeek\").agg(\n",
    "    count(\"*\").alias(\"TotalFlights\"),\n",
    "    sum(when(col(\"DepDel15\") == 1, 1).otherwise(0)).alias(\"DepDelayedCount\"),\n",
    "    sum(when(col(\"ArrDel15\") == 1, 1).otherwise(0)).alias(\"ArrDelayedCount\"),\n",
    "    sum(when(col(\"DepDel15\") == 1, col(\"DepDelayMinutes\")).otherwise(0)).alias(\"TotalDepDelay\"),\n",
    "    sum(when(col(\"ArrDel15\") == 1, col(\"ArrDelayMinutes\")).otherwise(0)).alias(\"TotalArrDelay\"),\n",
    "    sum(col(\"WeatherDelay\")).alias(\"TotalWeatherDelay\"),\n",
    "    sum(col(\"CarrierDelay\")).alias(\"TotalCarrierDelay\"),\n",
    "    sum(col(\"NASDelay\")).alias(\"TotalNASDelay\"),\n",
    "    sum(col(\"LateAircraftDelay\")).alias(\"TotalLateAircraftDelay\")\n",
    ")\n",
    "\n"
   ]
  },
  {
   "cell_type": "code",
   "execution_count": 39,
   "id": "b2943935",
   "metadata": {},
   "outputs": [],
   "source": [
    "#Join df_group2 with df_clustered\n",
    "df_joined = df_group2.join(\n",
    "    df_clustered.select(\"Origin\", \"Dest\", \"Reporting_Airline\", \"Season\", \"DayOfWeek\", \"cluster\"),\n",
    "    on=[\"Origin\", \"Dest\", \"Reporting_Airline\", \"Season\", \"DayOfWeek\"],\n",
    "    how=\"inner\"\n",
    ")"
   ]
  },
  {
   "cell_type": "code",
   "execution_count": 40,
   "id": "d7cb1889",
   "metadata": {},
   "outputs": [
    {
     "name": "stderr",
     "output_type": "stream",
     "text": [
      "                                                                                \r"
     ]
    }
   ],
   "source": [
    "df_joined.coalesce(1).write.csv(\n",
    "    \"/Users/soham/PycharmProjects/bigdata-project/output/flight_clusters_final\", header=True, mode=\"overwrite\"\n",
    ")"
   ]
  },
  {
   "cell_type": "code",
   "execution_count": 41,
   "id": "ff558a00",
   "metadata": {},
   "outputs": [
    {
     "name": "stderr",
     "output_type": "stream",
     "text": [
      "[Stage 688:==============>                                          (1 + 3) / 4]\r"
     ]
    },
    {
     "name": "stdout",
     "output_type": "stream",
     "text": [
      "+------+----+-----------------+------+---------+------------+---------------+---------------+-------------+-------------+-----------------+-----------------+-------------+----------------------+-------+\n",
      "|Origin|Dest|Reporting_Airline|Season|DayOfWeek|TotalFlights|DepDelayedCount|ArrDelayedCount|TotalDepDelay|TotalArrDelay|TotalWeatherDelay|TotalCarrierDelay|TotalNASDelay|TotalLateAircraftDelay|cluster|\n",
      "+------+----+-----------------+------+---------+------------+---------------+---------------+-------------+-------------+-----------------+-----------------+-------------+----------------------+-------+\n",
      "|   ABE| ATL|               9E|  Fall|        2|          36|              3|              1|         71.0|         44.0|              0.0|              0.0|         14.0|                  30.0|      2|\n",
      "|   ABE| ATL|               9E|  Fall|        5|          36|              3|              3|        256.0|        227.0|            132.0|             61.0|         12.0|                  22.0|      2|\n",
      "|   ABE| ATL|               9E|Winter|        3|          34|              8|              9|        744.0|        733.0|              0.0|             99.0|         77.0|                 557.0|      5|\n",
      "|   ABE| ATL|               9E|Winter|        6|          25|              7|              9|       1220.0|       1327.0|              0.0|            672.0|        143.0|                 512.0|      3|\n",
      "|   ABE| ATL|               9E|Winter|        7|          35|              5|              8|        439.0|        466.0|              0.0|            246.0|         70.0|                 150.0|      5|\n",
      "+------+----+-----------------+------+---------+------------+---------------+---------------+-------------+-------------+-----------------+-----------------+-------------+----------------------+-------+\n",
      "only showing top 5 rows\n",
      "\n"
     ]
    },
    {
     "name": "stderr",
     "output_type": "stream",
     "text": [
      "                                                                                \r"
     ]
    }
   ],
   "source": [
    "#read the final output\n",
    "df_joined = spark.read.csv(\n",
    "    \"/Users/soham/PycharmProjects/bigdata-project/output/flight_clusters_final\", header=True, inferSchema=True\n",
    ")\n",
    "df_joined.show(5)"
   ]
  },
  {
   "cell_type": "code",
   "execution_count": 42,
   "id": "061ee6a7",
   "metadata": {},
   "outputs": [
    {
     "name": "stderr",
     "output_type": "stream",
     "text": [
      "                                                                                \r"
     ]
    },
    {
     "name": "stdout",
     "output_type": "stream",
     "text": [
      "+-------+-----+\n",
      "|cluster|count|\n",
      "+-------+-----+\n",
      "|      1| 1781|\n",
      "|      6|86587|\n",
      "|      3|17906|\n",
      "|      5|44324|\n",
      "|      4|46786|\n",
      "|      2|41994|\n",
      "|      0|30902|\n",
      "+-------+-----+\n",
      "\n"
     ]
    }
   ],
   "source": [
    "#Count rows in each cluster\n",
    "df_joined.groupBy(\"cluster\").count().show()"
   ]
  },
  {
   "cell_type": "code",
   "execution_count": 44,
   "id": "13ee7302",
   "metadata": {},
   "outputs": [],
   "source": [
    "#Join df_clustered with original df to get more details\n",
    "df_overall_cluster = df.join(\n",
    "    df_clustered.select(\"Origin\", \"Dest\", \"Reporting_Airline\", \"Season\", \"DayOfWeek\", \"cluster\"),\n",
    "    on=[\"Origin\", \"Dest\", \"Reporting_Airline\", \"Season\", \"DayOfWeek\"],\n",
    "    how=\"inner\"\n",
    ")"
   ]
  },
  {
   "cell_type": "code",
   "execution_count": 45,
   "id": "4f0f18e4",
   "metadata": {},
   "outputs": [
    {
     "name": "stderr",
     "output_type": "stream",
     "text": [
      "25/05/09 17:19:32 WARN CSVHeaderChecker: CSV header does not conform to the schema.\n",
      " Header: Year, Quarter, DayofMonth, DayOfWeek, FlightDate, Reporting_Airline, DOT_ID_Reporting_Airline, IATA_CODE_Reporting_Airline, Tail_Number, Flight_Number_Reporting_Airline, OriginAirportID, OriginAirportSeqID, OriginCityMarketID, Origin, OriginCityName, OriginState, OriginStateFips, OriginStateName, OriginWac, DestAirportID, DestAirportSeqID, DestCityMarketID, Dest, DestCityName, DestState, DestStateFips, DestStateName, DestWac, CRSDepTime, DepTime, DepDelay, DepDelayMinutes, DepDel15, DepartureDelayGroups, DepTimeBlk, TaxiOut, WheelsOff, WheelsOn, TaxiIn, CRSArrTime, ArrTime, ArrDelay, ArrDelayMinutes, ArrDel15, ArrivalDelayGroups, ArrTimeBlk, Cancelled, CancellationCode, Diverted, CRSElapsedTime, ActualElapsedTime, AirTime, Flights, Distance, DistanceGroup, CarrierDelay, WeatherDelay, NASDelay, SecurityDelay, LateAircraftDelay, FirstDepTime, TotalAddGTime, LongestAddGTime, DivAirportLandings, DivReachedDest, DivActualElapsedTime, DivArrDelay, DivDistance, Div1Airport, Div1AirportID, Div1AirportSeqID, Div1WheelsOn, Div1TotalGTime, Div1LongestGTime, Div1WheelsOff, Div1TailNum, Div2Airport, Div2AirportID, Div2AirportSeqID, Div2WheelsOn, Div2TotalGTime, Div2LongestGTime, Div2WheelsOff, Div2TailNum, Div3Airport, Div3AirportID, Div3AirportSeqID, Div3WheelsOn, Div3TotalGTime, Div3LongestGTime, Div3WheelsOff, Div3TailNum, Div4Airport, Div4AirportID, Div4AirportSeqID, Div4WheelsOn, Div4TotalGTime, Div4LongestGTime, Div4WheelsOff, Div4TailNum, Div5Airport, Div5AirportID, Div5AirportSeqID, Div5WheelsOn, Div5TotalGTime, Div5LongestGTime, Div5WheelsOff, Div5TailNum, \n",
      " Schema: Year, Quarter, DayofMonth, DayOfWeek, FlightDate, Reporting_Airline, DOT_ID_Reporting_Airline, IATA_CODE_Reporting_Airline, Tail_Number, Flight_Number_Reporting_Airline, OriginAirportID, OriginAirportSeqID, OriginCityMarketID, Origin, OriginCityName, OriginState, OriginStateFips, OriginStateName, OriginWac, DestAirportID, DestAirportSeqID, DestCityMarketID, Dest, DestCityName, DestState, DestStateFips, DestStateName, DestWac, CRSDepTime, DepTime, DepDelay, DepDelayMinutes, DepDel15, DepartureDelayGroups, DepTimeBlk, TaxiOut, WheelsOff, WheelsOn, TaxiIn, CRSArrTime, ArrTime, ArrDelay, ArrDelayMinutes, ArrDel15, ArrivalDelayGroups, ArrTimeBlk, Cancelled, CancellationCode, Diverted, CRSElapsedTime, ActualElapsedTime, AirTime, Flights, Distance, DistanceGroup, CarrierDelay, WeatherDelay, NASDelay, SecurityDelay, LateAircraftDelay, FirstDepTime, TotalAddGTime, LongestAddGTime, DivAirportLandings, DivReachedDest, DivActualElapsedTime, DivArrDelay, DivDistance, Div1Airport, Div1AirportID, Div1AirportSeqID, Div1WheelsOn, Div1TotalGTime, Div1LongestGTime, Div1WheelsOff, Div1TailNum, Div2Airport, Div2AirportID, Div2AirportSeqID, Div2WheelsOn, Div2TotalGTime, Div2LongestGTime, Div2WheelsOff, Div2TailNum, Div3Airport, Div3AirportID, Div3AirportSeqID, Div3WheelsOn, Div3TotalGTime, Div3LongestGTime, Div3WheelsOff, Div3TailNum, Div4Airport, Div4AirportID, Div4AirportSeqID, Div4WheelsOn, Div4TotalGTime, Div4LongestGTime, Div4WheelsOff, Div4TailNum, Div5Airport, Div5AirportID, Div5AirportSeqID, Div5WheelsOn, Div5TotalGTime, Div5LongestGTime, Div5WheelsOff, Div5TailNum, _c109\n",
      "Expected: _c109 but found: \n",
      "CSV file: s3a://bigdata-flight-delays/2024_11.csv\n",
      "25/05/09 17:19:32 WARN CSVHeaderChecker: CSV header does not conform to the schema.\n",
      " Header: Year, Quarter, DayofMonth, DayOfWeek, FlightDate, Reporting_Airline, DOT_ID_Reporting_Airline, IATA_CODE_Reporting_Airline, Tail_Number, Flight_Number_Reporting_Airline, OriginAirportID, OriginAirportSeqID, OriginCityMarketID, Origin, OriginCityName, OriginState, OriginStateFips, OriginStateName, OriginWac, DestAirportID, DestAirportSeqID, DestCityMarketID, Dest, DestCityName, DestState, DestStateFips, DestStateName, DestWac, CRSDepTime, DepTime, DepDelay, DepDelayMinutes, DepDel15, DepartureDelayGroups, DepTimeBlk, TaxiOut, WheelsOff, WheelsOn, TaxiIn, CRSArrTime, ArrTime, ArrDelay, ArrDelayMinutes, ArrDel15, ArrivalDelayGroups, ArrTimeBlk, Cancelled, CancellationCode, Diverted, CRSElapsedTime, ActualElapsedTime, AirTime, Flights, Distance, DistanceGroup, CarrierDelay, WeatherDelay, NASDelay, SecurityDelay, LateAircraftDelay, FirstDepTime, TotalAddGTime, LongestAddGTime, DivAirportLandings, DivReachedDest, DivActualElapsedTime, DivArrDelay, DivDistance, Div1Airport, Div1AirportID, Div1AirportSeqID, Div1WheelsOn, Div1TotalGTime, Div1LongestGTime, Div1WheelsOff, Div1TailNum, Div2Airport, Div2AirportID, Div2AirportSeqID, Div2WheelsOn, Div2TotalGTime, Div2LongestGTime, Div2WheelsOff, Div2TailNum, Div3Airport, Div3AirportID, Div3AirportSeqID, Div3WheelsOn, Div3TotalGTime, Div3LongestGTime, Div3WheelsOff, Div3TailNum, Div4Airport, Div4AirportID, Div4AirportSeqID, Div4WheelsOn, Div4TotalGTime, Div4LongestGTime, Div4WheelsOff, Div4TailNum, Div5Airport, Div5AirportID, Div5AirportSeqID, Div5WheelsOn, Div5TotalGTime, Div5LongestGTime, Div5WheelsOff, Div5TailNum, \n",
      " Schema: Year, Quarter, DayofMonth, DayOfWeek, FlightDate, Reporting_Airline, DOT_ID_Reporting_Airline, IATA_CODE_Reporting_Airline, Tail_Number, Flight_Number_Reporting_Airline, OriginAirportID, OriginAirportSeqID, OriginCityMarketID, Origin, OriginCityName, OriginState, OriginStateFips, OriginStateName, OriginWac, DestAirportID, DestAirportSeqID, DestCityMarketID, Dest, DestCityName, DestState, DestStateFips, DestStateName, DestWac, CRSDepTime, DepTime, DepDelay, DepDelayMinutes, DepDel15, DepartureDelayGroups, DepTimeBlk, TaxiOut, WheelsOff, WheelsOn, TaxiIn, CRSArrTime, ArrTime, ArrDelay, ArrDelayMinutes, ArrDel15, ArrivalDelayGroups, ArrTimeBlk, Cancelled, CancellationCode, Diverted, CRSElapsedTime, ActualElapsedTime, AirTime, Flights, Distance, DistanceGroup, CarrierDelay, WeatherDelay, NASDelay, SecurityDelay, LateAircraftDelay, FirstDepTime, TotalAddGTime, LongestAddGTime, DivAirportLandings, DivReachedDest, DivActualElapsedTime, DivArrDelay, DivDistance, Div1Airport, Div1AirportID, Div1AirportSeqID, Div1WheelsOn, Div1TotalGTime, Div1LongestGTime, Div1WheelsOff, Div1TailNum, Div2Airport, Div2AirportID, Div2AirportSeqID, Div2WheelsOn, Div2TotalGTime, Div2LongestGTime, Div2WheelsOff, Div2TailNum, Div3Airport, Div3AirportID, Div3AirportSeqID, Div3WheelsOn, Div3TotalGTime, Div3LongestGTime, Div3WheelsOff, Div3TailNum, Div4Airport, Div4AirportID, Div4AirportSeqID, Div4WheelsOn, Div4TotalGTime, Div4LongestGTime, Div4WheelsOff, Div4TailNum, Div5Airport, Div5AirportID, Div5AirportSeqID, Div5WheelsOn, Div5TotalGTime, Div5LongestGTime, Div5WheelsOff, Div5TailNum, _c109\n",
      "Expected: _c109 but found: \n",
      "CSV file: s3a://bigdata-flight-delays/2024_1.csv\n",
      "25/05/09 17:19:32 WARN CSVHeaderChecker: CSV header does not conform to the schema.\n",
      " Header: Year, Quarter, DayofMonth, DayOfWeek, FlightDate, Reporting_Airline, DOT_ID_Reporting_Airline, IATA_CODE_Reporting_Airline, Tail_Number, Flight_Number_Reporting_Airline, OriginAirportID, OriginAirportSeqID, OriginCityMarketID, Origin, OriginCityName, OriginState, OriginStateFips, OriginStateName, OriginWac, DestAirportID, DestAirportSeqID, DestCityMarketID, Dest, DestCityName, DestState, DestStateFips, DestStateName, DestWac, CRSDepTime, DepTime, DepDelay, DepDelayMinutes, DepDel15, DepartureDelayGroups, DepTimeBlk, TaxiOut, WheelsOff, WheelsOn, TaxiIn, CRSArrTime, ArrTime, ArrDelay, ArrDelayMinutes, ArrDel15, ArrivalDelayGroups, ArrTimeBlk, Cancelled, CancellationCode, Diverted, CRSElapsedTime, ActualElapsedTime, AirTime, Flights, Distance, DistanceGroup, CarrierDelay, WeatherDelay, NASDelay, SecurityDelay, LateAircraftDelay, FirstDepTime, TotalAddGTime, LongestAddGTime, DivAirportLandings, DivReachedDest, DivActualElapsedTime, DivArrDelay, DivDistance, Div1Airport, Div1AirportID, Div1AirportSeqID, Div1WheelsOn, Div1TotalGTime, Div1LongestGTime, Div1WheelsOff, Div1TailNum, Div2Airport, Div2AirportID, Div2AirportSeqID, Div2WheelsOn, Div2TotalGTime, Div2LongestGTime, Div2WheelsOff, Div2TailNum, Div3Airport, Div3AirportID, Div3AirportSeqID, Div3WheelsOn, Div3TotalGTime, Div3LongestGTime, Div3WheelsOff, Div3TailNum, Div4Airport, Div4AirportID, Div4AirportSeqID, Div4WheelsOn, Div4TotalGTime, Div4LongestGTime, Div4WheelsOff, Div4TailNum, Div5Airport, Div5AirportID, Div5AirportSeqID, Div5WheelsOn, Div5TotalGTime, Div5LongestGTime, Div5WheelsOff, Div5TailNum, \n",
      " Schema: Year, Quarter, DayofMonth, DayOfWeek, FlightDate, Reporting_Airline, DOT_ID_Reporting_Airline, IATA_CODE_Reporting_Airline, Tail_Number, Flight_Number_Reporting_Airline, OriginAirportID, OriginAirportSeqID, OriginCityMarketID, Origin, OriginCityName, OriginState, OriginStateFips, OriginStateName, OriginWac, DestAirportID, DestAirportSeqID, DestCityMarketID, Dest, DestCityName, DestState, DestStateFips, DestStateName, DestWac, CRSDepTime, DepTime, DepDelay, DepDelayMinutes, DepDel15, DepartureDelayGroups, DepTimeBlk, TaxiOut, WheelsOff, WheelsOn, TaxiIn, CRSArrTime, ArrTime, ArrDelay, ArrDelayMinutes, ArrDel15, ArrivalDelayGroups, ArrTimeBlk, Cancelled, CancellationCode, Diverted, CRSElapsedTime, ActualElapsedTime, AirTime, Flights, Distance, DistanceGroup, CarrierDelay, WeatherDelay, NASDelay, SecurityDelay, LateAircraftDelay, FirstDepTime, TotalAddGTime, LongestAddGTime, DivAirportLandings, DivReachedDest, DivActualElapsedTime, DivArrDelay, DivDistance, Div1Airport, Div1AirportID, Div1AirportSeqID, Div1WheelsOn, Div1TotalGTime, Div1LongestGTime, Div1WheelsOff, Div1TailNum, Div2Airport, Div2AirportID, Div2AirportSeqID, Div2WheelsOn, Div2TotalGTime, Div2LongestGTime, Div2WheelsOff, Div2TailNum, Div3Airport, Div3AirportID, Div3AirportSeqID, Div3WheelsOn, Div3TotalGTime, Div3LongestGTime, Div3WheelsOff, Div3TailNum, Div4Airport, Div4AirportID, Div4AirportSeqID, Div4WheelsOn, Div4TotalGTime, Div4LongestGTime, Div4WheelsOff, Div4TailNum, Div5Airport, Div5AirportID, Div5AirportSeqID, Div5WheelsOn, Div5TotalGTime, Div5LongestGTime, Div5WheelsOff, Div5TailNum, _c109\n",
      "Expected: _c109 but found: \n",
      "CSV file: s3a://bigdata-flight-delays/2024_10.csv\n",
      "25/05/09 17:20:02 WARN CSVHeaderChecker: CSV header does not conform to the schema.\n",
      " Header: Year, Quarter, DayofMonth, DayOfWeek, FlightDate, Reporting_Airline, DOT_ID_Reporting_Airline, IATA_CODE_Reporting_Airline, Tail_Number, Flight_Number_Reporting_Airline, OriginAirportID, OriginAirportSeqID, OriginCityMarketID, Origin, OriginCityName, OriginState, OriginStateFips, OriginStateName, OriginWac, DestAirportID, DestAirportSeqID, DestCityMarketID, Dest, DestCityName, DestState, DestStateFips, DestStateName, DestWac, CRSDepTime, DepTime, DepDelay, DepDelayMinutes, DepDel15, DepartureDelayGroups, DepTimeBlk, TaxiOut, WheelsOff, WheelsOn, TaxiIn, CRSArrTime, ArrTime, ArrDelay, ArrDelayMinutes, ArrDel15, ArrivalDelayGroups, ArrTimeBlk, Cancelled, CancellationCode, Diverted, CRSElapsedTime, ActualElapsedTime, AirTime, Flights, Distance, DistanceGroup, CarrierDelay, WeatherDelay, NASDelay, SecurityDelay, LateAircraftDelay, FirstDepTime, TotalAddGTime, LongestAddGTime, DivAirportLandings, DivReachedDest, DivActualElapsedTime, DivArrDelay, DivDistance, Div1Airport, Div1AirportID, Div1AirportSeqID, Div1WheelsOn, Div1TotalGTime, Div1LongestGTime, Div1WheelsOff, Div1TailNum, Div2Airport, Div2AirportID, Div2AirportSeqID, Div2WheelsOn, Div2TotalGTime, Div2LongestGTime, Div2WheelsOff, Div2TailNum, Div3Airport, Div3AirportID, Div3AirportSeqID, Div3WheelsOn, Div3TotalGTime, Div3LongestGTime, Div3WheelsOff, Div3TailNum, Div4Airport, Div4AirportID, Div4AirportSeqID, Div4WheelsOn, Div4TotalGTime, Div4LongestGTime, Div4WheelsOff, Div4TailNum, Div5Airport, Div5AirportID, Div5AirportSeqID, Div5WheelsOn, Div5TotalGTime, Div5LongestGTime, Div5WheelsOff, Div5TailNum, \n",
      " Schema: Year, Quarter, DayofMonth, DayOfWeek, FlightDate, Reporting_Airline, DOT_ID_Reporting_Airline, IATA_CODE_Reporting_Airline, Tail_Number, Flight_Number_Reporting_Airline, OriginAirportID, OriginAirportSeqID, OriginCityMarketID, Origin, OriginCityName, OriginState, OriginStateFips, OriginStateName, OriginWac, DestAirportID, DestAirportSeqID, DestCityMarketID, Dest, DestCityName, DestState, DestStateFips, DestStateName, DestWac, CRSDepTime, DepTime, DepDelay, DepDelayMinutes, DepDel15, DepartureDelayGroups, DepTimeBlk, TaxiOut, WheelsOff, WheelsOn, TaxiIn, CRSArrTime, ArrTime, ArrDelay, ArrDelayMinutes, ArrDel15, ArrivalDelayGroups, ArrTimeBlk, Cancelled, CancellationCode, Diverted, CRSElapsedTime, ActualElapsedTime, AirTime, Flights, Distance, DistanceGroup, CarrierDelay, WeatherDelay, NASDelay, SecurityDelay, LateAircraftDelay, FirstDepTime, TotalAddGTime, LongestAddGTime, DivAirportLandings, DivReachedDest, DivActualElapsedTime, DivArrDelay, DivDistance, Div1Airport, Div1AirportID, Div1AirportSeqID, Div1WheelsOn, Div1TotalGTime, Div1LongestGTime, Div1WheelsOff, Div1TailNum, Div2Airport, Div2AirportID, Div2AirportSeqID, Div2WheelsOn, Div2TotalGTime, Div2LongestGTime, Div2WheelsOff, Div2TailNum, Div3Airport, Div3AirportID, Div3AirportSeqID, Div3WheelsOn, Div3TotalGTime, Div3LongestGTime, Div3WheelsOff, Div3TailNum, Div4Airport, Div4AirportID, Div4AirportSeqID, Div4WheelsOn, Div4TotalGTime, Div4LongestGTime, Div4WheelsOff, Div4TailNum, Div5Airport, Div5AirportID, Div5AirportSeqID, Div5WheelsOn, Div5TotalGTime, Div5LongestGTime, Div5WheelsOff, Div5TailNum, _c109\n",
      "Expected: _c109 but found: \n",
      "CSV file: s3a://bigdata-flight-delays/2024_12.csv\n",
      "25/05/09 17:20:02 WARN CSVHeaderChecker: CSV header does not conform to the schema.\n",
      " Header: Year, Quarter, DayofMonth, DayOfWeek, FlightDate, Reporting_Airline, DOT_ID_Reporting_Airline, IATA_CODE_Reporting_Airline, Tail_Number, Flight_Number_Reporting_Airline, OriginAirportID, OriginAirportSeqID, OriginCityMarketID, Origin, OriginCityName, OriginState, OriginStateFips, OriginStateName, OriginWac, DestAirportID, DestAirportSeqID, DestCityMarketID, Dest, DestCityName, DestState, DestStateFips, DestStateName, DestWac, CRSDepTime, DepTime, DepDelay, DepDelayMinutes, DepDel15, DepartureDelayGroups, DepTimeBlk, TaxiOut, WheelsOff, WheelsOn, TaxiIn, CRSArrTime, ArrTime, ArrDelay, ArrDelayMinutes, ArrDel15, ArrivalDelayGroups, ArrTimeBlk, Cancelled, CancellationCode, Diverted, CRSElapsedTime, ActualElapsedTime, AirTime, Flights, Distance, DistanceGroup, CarrierDelay, WeatherDelay, NASDelay, SecurityDelay, LateAircraftDelay, FirstDepTime, TotalAddGTime, LongestAddGTime, DivAirportLandings, DivReachedDest, DivActualElapsedTime, DivArrDelay, DivDistance, Div1Airport, Div1AirportID, Div1AirportSeqID, Div1WheelsOn, Div1TotalGTime, Div1LongestGTime, Div1WheelsOff, Div1TailNum, Div2Airport, Div2AirportID, Div2AirportSeqID, Div2WheelsOn, Div2TotalGTime, Div2LongestGTime, Div2WheelsOff, Div2TailNum, Div3Airport, Div3AirportID, Div3AirportSeqID, Div3WheelsOn, Div3TotalGTime, Div3LongestGTime, Div3WheelsOff, Div3TailNum, Div4Airport, Div4AirportID, Div4AirportSeqID, Div4WheelsOn, Div4TotalGTime, Div4LongestGTime, Div4WheelsOff, Div4TailNum, Div5Airport, Div5AirportID, Div5AirportSeqID, Div5WheelsOn, Div5TotalGTime, Div5LongestGTime, Div5WheelsOff, Div5TailNum, \n",
      " Schema: Year, Quarter, DayofMonth, DayOfWeek, FlightDate, Reporting_Airline, DOT_ID_Reporting_Airline, IATA_CODE_Reporting_Airline, Tail_Number, Flight_Number_Reporting_Airline, OriginAirportID, OriginAirportSeqID, OriginCityMarketID, Origin, OriginCityName, OriginState, OriginStateFips, OriginStateName, OriginWac, DestAirportID, DestAirportSeqID, DestCityMarketID, Dest, DestCityName, DestState, DestStateFips, DestStateName, DestWac, CRSDepTime, DepTime, DepDelay, DepDelayMinutes, DepDel15, DepartureDelayGroups, DepTimeBlk, TaxiOut, WheelsOff, WheelsOn, TaxiIn, CRSArrTime, ArrTime, ArrDelay, ArrDelayMinutes, ArrDel15, ArrivalDelayGroups, ArrTimeBlk, Cancelled, CancellationCode, Diverted, CRSElapsedTime, ActualElapsedTime, AirTime, Flights, Distance, DistanceGroup, CarrierDelay, WeatherDelay, NASDelay, SecurityDelay, LateAircraftDelay, FirstDepTime, TotalAddGTime, LongestAddGTime, DivAirportLandings, DivReachedDest, DivActualElapsedTime, DivArrDelay, DivDistance, Div1Airport, Div1AirportID, Div1AirportSeqID, Div1WheelsOn, Div1TotalGTime, Div1LongestGTime, Div1WheelsOff, Div1TailNum, Div2Airport, Div2AirportID, Div2AirportSeqID, Div2WheelsOn, Div2TotalGTime, Div2LongestGTime, Div2WheelsOff, Div2TailNum, Div3Airport, Div3AirportID, Div3AirportSeqID, Div3WheelsOn, Div3TotalGTime, Div3LongestGTime, Div3WheelsOff, Div3TailNum, Div4Airport, Div4AirportID, Div4AirportSeqID, Div4WheelsOn, Div4TotalGTime, Div4LongestGTime, Div4WheelsOff, Div4TailNum, Div5Airport, Div5AirportID, Div5AirportSeqID, Div5WheelsOn, Div5TotalGTime, Div5LongestGTime, Div5WheelsOff, Div5TailNum, _c109\n",
      "Expected: _c109 but found: \n",
      "CSV file: s3a://bigdata-flight-delays/2024_2.csv\n",
      "25/05/09 17:20:02 WARN CSVHeaderChecker: CSV header does not conform to the schema.\n",
      " Header: Year, Quarter, DayofMonth, DayOfWeek, FlightDate, Reporting_Airline, DOT_ID_Reporting_Airline, IATA_CODE_Reporting_Airline, Tail_Number, Flight_Number_Reporting_Airline, OriginAirportID, OriginAirportSeqID, OriginCityMarketID, Origin, OriginCityName, OriginState, OriginStateFips, OriginStateName, OriginWac, DestAirportID, DestAirportSeqID, DestCityMarketID, Dest, DestCityName, DestState, DestStateFips, DestStateName, DestWac, CRSDepTime, DepTime, DepDelay, DepDelayMinutes, DepDel15, DepartureDelayGroups, DepTimeBlk, TaxiOut, WheelsOff, WheelsOn, TaxiIn, CRSArrTime, ArrTime, ArrDelay, ArrDelayMinutes, ArrDel15, ArrivalDelayGroups, ArrTimeBlk, Cancelled, CancellationCode, Diverted, CRSElapsedTime, ActualElapsedTime, AirTime, Flights, Distance, DistanceGroup, CarrierDelay, WeatherDelay, NASDelay, SecurityDelay, LateAircraftDelay, FirstDepTime, TotalAddGTime, LongestAddGTime, DivAirportLandings, DivReachedDest, DivActualElapsedTime, DivArrDelay, DivDistance, Div1Airport, Div1AirportID, Div1AirportSeqID, Div1WheelsOn, Div1TotalGTime, Div1LongestGTime, Div1WheelsOff, Div1TailNum, Div2Airport, Div2AirportID, Div2AirportSeqID, Div2WheelsOn, Div2TotalGTime, Div2LongestGTime, Div2WheelsOff, Div2TailNum, Div3Airport, Div3AirportID, Div3AirportSeqID, Div3WheelsOn, Div3TotalGTime, Div3LongestGTime, Div3WheelsOff, Div3TailNum, Div4Airport, Div4AirportID, Div4AirportSeqID, Div4WheelsOn, Div4TotalGTime, Div4LongestGTime, Div4WheelsOff, Div4TailNum, Div5Airport, Div5AirportID, Div5AirportSeqID, Div5WheelsOn, Div5TotalGTime, Div5LongestGTime, Div5WheelsOff, Div5TailNum, \n",
      " Schema: Year, Quarter, DayofMonth, DayOfWeek, FlightDate, Reporting_Airline, DOT_ID_Reporting_Airline, IATA_CODE_Reporting_Airline, Tail_Number, Flight_Number_Reporting_Airline, OriginAirportID, OriginAirportSeqID, OriginCityMarketID, Origin, OriginCityName, OriginState, OriginStateFips, OriginStateName, OriginWac, DestAirportID, DestAirportSeqID, DestCityMarketID, Dest, DestCityName, DestState, DestStateFips, DestStateName, DestWac, CRSDepTime, DepTime, DepDelay, DepDelayMinutes, DepDel15, DepartureDelayGroups, DepTimeBlk, TaxiOut, WheelsOff, WheelsOn, TaxiIn, CRSArrTime, ArrTime, ArrDelay, ArrDelayMinutes, ArrDel15, ArrivalDelayGroups, ArrTimeBlk, Cancelled, CancellationCode, Diverted, CRSElapsedTime, ActualElapsedTime, AirTime, Flights, Distance, DistanceGroup, CarrierDelay, WeatherDelay, NASDelay, SecurityDelay, LateAircraftDelay, FirstDepTime, TotalAddGTime, LongestAddGTime, DivAirportLandings, DivReachedDest, DivActualElapsedTime, DivArrDelay, DivDistance, Div1Airport, Div1AirportID, Div1AirportSeqID, Div1WheelsOn, Div1TotalGTime, Div1LongestGTime, Div1WheelsOff, Div1TailNum, Div2Airport, Div2AirportID, Div2AirportSeqID, Div2WheelsOn, Div2TotalGTime, Div2LongestGTime, Div2WheelsOff, Div2TailNum, Div3Airport, Div3AirportID, Div3AirportSeqID, Div3WheelsOn, Div3TotalGTime, Div3LongestGTime, Div3WheelsOff, Div3TailNum, Div4Airport, Div4AirportID, Div4AirportSeqID, Div4WheelsOn, Div4TotalGTime, Div4LongestGTime, Div4WheelsOff, Div4TailNum, Div5Airport, Div5AirportID, Div5AirportSeqID, Div5WheelsOn, Div5TotalGTime, Div5LongestGTime, Div5WheelsOff, Div5TailNum, _c109\n",
      "Expected: _c109 but found: \n",
      "CSV file: s3a://bigdata-flight-delays/2024_3.csv\n",
      "25/05/09 17:20:02 WARN CSVHeaderChecker: CSV header does not conform to the schema.\n",
      " Header: Year, Quarter, DayofMonth, DayOfWeek, FlightDate, Reporting_Airline, DOT_ID_Reporting_Airline, IATA_CODE_Reporting_Airline, Tail_Number, Flight_Number_Reporting_Airline, OriginAirportID, OriginAirportSeqID, OriginCityMarketID, Origin, OriginCityName, OriginState, OriginStateFips, OriginStateName, OriginWac, DestAirportID, DestAirportSeqID, DestCityMarketID, Dest, DestCityName, DestState, DestStateFips, DestStateName, DestWac, CRSDepTime, DepTime, DepDelay, DepDelayMinutes, DepDel15, DepartureDelayGroups, DepTimeBlk, TaxiOut, WheelsOff, WheelsOn, TaxiIn, CRSArrTime, ArrTime, ArrDelay, ArrDelayMinutes, ArrDel15, ArrivalDelayGroups, ArrTimeBlk, Cancelled, CancellationCode, Diverted, CRSElapsedTime, ActualElapsedTime, AirTime, Flights, Distance, DistanceGroup, CarrierDelay, WeatherDelay, NASDelay, SecurityDelay, LateAircraftDelay, FirstDepTime, TotalAddGTime, LongestAddGTime, DivAirportLandings, DivReachedDest, DivActualElapsedTime, DivArrDelay, DivDistance, Div1Airport, Div1AirportID, Div1AirportSeqID, Div1WheelsOn, Div1TotalGTime, Div1LongestGTime, Div1WheelsOff, Div1TailNum, Div2Airport, Div2AirportID, Div2AirportSeqID, Div2WheelsOn, Div2TotalGTime, Div2LongestGTime, Div2WheelsOff, Div2TailNum, Div3Airport, Div3AirportID, Div3AirportSeqID, Div3WheelsOn, Div3TotalGTime, Div3LongestGTime, Div3WheelsOff, Div3TailNum, Div4Airport, Div4AirportID, Div4AirportSeqID, Div4WheelsOn, Div4TotalGTime, Div4LongestGTime, Div4WheelsOff, Div4TailNum, Div5Airport, Div5AirportID, Div5AirportSeqID, Div5WheelsOn, Div5TotalGTime, Div5LongestGTime, Div5WheelsOff, Div5TailNum, \n",
      " Schema: Year, Quarter, DayofMonth, DayOfWeek, FlightDate, Reporting_Airline, DOT_ID_Reporting_Airline, IATA_CODE_Reporting_Airline, Tail_Number, Flight_Number_Reporting_Airline, OriginAirportID, OriginAirportSeqID, OriginCityMarketID, Origin, OriginCityName, OriginState, OriginStateFips, OriginStateName, OriginWac, DestAirportID, DestAirportSeqID, DestCityMarketID, Dest, DestCityName, DestState, DestStateFips, DestStateName, DestWac, CRSDepTime, DepTime, DepDelay, DepDelayMinutes, DepDel15, DepartureDelayGroups, DepTimeBlk, TaxiOut, WheelsOff, WheelsOn, TaxiIn, CRSArrTime, ArrTime, ArrDelay, ArrDelayMinutes, ArrDel15, ArrivalDelayGroups, ArrTimeBlk, Cancelled, CancellationCode, Diverted, CRSElapsedTime, ActualElapsedTime, AirTime, Flights, Distance, DistanceGroup, CarrierDelay, WeatherDelay, NASDelay, SecurityDelay, LateAircraftDelay, FirstDepTime, TotalAddGTime, LongestAddGTime, DivAirportLandings, DivReachedDest, DivActualElapsedTime, DivArrDelay, DivDistance, Div1Airport, Div1AirportID, Div1AirportSeqID, Div1WheelsOn, Div1TotalGTime, Div1LongestGTime, Div1WheelsOff, Div1TailNum, Div2Airport, Div2AirportID, Div2AirportSeqID, Div2WheelsOn, Div2TotalGTime, Div2LongestGTime, Div2WheelsOff, Div2TailNum, Div3Airport, Div3AirportID, Div3AirportSeqID, Div3WheelsOn, Div3TotalGTime, Div3LongestGTime, Div3WheelsOff, Div3TailNum, Div4Airport, Div4AirportID, Div4AirportSeqID, Div4WheelsOn, Div4TotalGTime, Div4LongestGTime, Div4WheelsOff, Div4TailNum, Div5Airport, Div5AirportID, Div5AirportSeqID, Div5WheelsOn, Div5TotalGTime, Div5LongestGTime, Div5WheelsOff, Div5TailNum, _c109\n",
      "Expected: _c109 but found: \n",
      "CSV file: s3a://bigdata-flight-delays/2024_4.csv\n",
      "25/05/09 17:20:32 WARN CSVHeaderChecker: CSV header does not conform to the schema.\n",
      " Header: Year, Quarter, DayofMonth, DayOfWeek, FlightDate, Reporting_Airline, DOT_ID_Reporting_Airline, IATA_CODE_Reporting_Airline, Tail_Number, Flight_Number_Reporting_Airline, OriginAirportID, OriginAirportSeqID, OriginCityMarketID, Origin, OriginCityName, OriginState, OriginStateFips, OriginStateName, OriginWac, DestAirportID, DestAirportSeqID, DestCityMarketID, Dest, DestCityName, DestState, DestStateFips, DestStateName, DestWac, CRSDepTime, DepTime, DepDelay, DepDelayMinutes, DepDel15, DepartureDelayGroups, DepTimeBlk, TaxiOut, WheelsOff, WheelsOn, TaxiIn, CRSArrTime, ArrTime, ArrDelay, ArrDelayMinutes, ArrDel15, ArrivalDelayGroups, ArrTimeBlk, Cancelled, CancellationCode, Diverted, CRSElapsedTime, ActualElapsedTime, AirTime, Flights, Distance, DistanceGroup, CarrierDelay, WeatherDelay, NASDelay, SecurityDelay, LateAircraftDelay, FirstDepTime, TotalAddGTime, LongestAddGTime, DivAirportLandings, DivReachedDest, DivActualElapsedTime, DivArrDelay, DivDistance, Div1Airport, Div1AirportID, Div1AirportSeqID, Div1WheelsOn, Div1TotalGTime, Div1LongestGTime, Div1WheelsOff, Div1TailNum, Div2Airport, Div2AirportID, Div2AirportSeqID, Div2WheelsOn, Div2TotalGTime, Div2LongestGTime, Div2WheelsOff, Div2TailNum, Div3Airport, Div3AirportID, Div3AirportSeqID, Div3WheelsOn, Div3TotalGTime, Div3LongestGTime, Div3WheelsOff, Div3TailNum, Div4Airport, Div4AirportID, Div4AirportSeqID, Div4WheelsOn, Div4TotalGTime, Div4LongestGTime, Div4WheelsOff, Div4TailNum, Div5Airport, Div5AirportID, Div5AirportSeqID, Div5WheelsOn, Div5TotalGTime, Div5LongestGTime, Div5WheelsOff, Div5TailNum, \n",
      " Schema: Year, Quarter, DayofMonth, DayOfWeek, FlightDate, Reporting_Airline, DOT_ID_Reporting_Airline, IATA_CODE_Reporting_Airline, Tail_Number, Flight_Number_Reporting_Airline, OriginAirportID, OriginAirportSeqID, OriginCityMarketID, Origin, OriginCityName, OriginState, OriginStateFips, OriginStateName, OriginWac, DestAirportID, DestAirportSeqID, DestCityMarketID, Dest, DestCityName, DestState, DestStateFips, DestStateName, DestWac, CRSDepTime, DepTime, DepDelay, DepDelayMinutes, DepDel15, DepartureDelayGroups, DepTimeBlk, TaxiOut, WheelsOff, WheelsOn, TaxiIn, CRSArrTime, ArrTime, ArrDelay, ArrDelayMinutes, ArrDel15, ArrivalDelayGroups, ArrTimeBlk, Cancelled, CancellationCode, Diverted, CRSElapsedTime, ActualElapsedTime, AirTime, Flights, Distance, DistanceGroup, CarrierDelay, WeatherDelay, NASDelay, SecurityDelay, LateAircraftDelay, FirstDepTime, TotalAddGTime, LongestAddGTime, DivAirportLandings, DivReachedDest, DivActualElapsedTime, DivArrDelay, DivDistance, Div1Airport, Div1AirportID, Div1AirportSeqID, Div1WheelsOn, Div1TotalGTime, Div1LongestGTime, Div1WheelsOff, Div1TailNum, Div2Airport, Div2AirportID, Div2AirportSeqID, Div2WheelsOn, Div2TotalGTime, Div2LongestGTime, Div2WheelsOff, Div2TailNum, Div3Airport, Div3AirportID, Div3AirportSeqID, Div3WheelsOn, Div3TotalGTime, Div3LongestGTime, Div3WheelsOff, Div3TailNum, Div4Airport, Div4AirportID, Div4AirportSeqID, Div4WheelsOn, Div4TotalGTime, Div4LongestGTime, Div4WheelsOff, Div4TailNum, Div5Airport, Div5AirportID, Div5AirportSeqID, Div5WheelsOn, Div5TotalGTime, Div5LongestGTime, Div5WheelsOff, Div5TailNum, _c109\n",
      "Expected: _c109 but found: \n",
      "CSV file: s3a://bigdata-flight-delays/2024_5.csv\n",
      "25/05/09 17:20:33 WARN CSVHeaderChecker: CSV header does not conform to the schema.\n",
      " Header: Year, Quarter, DayofMonth, DayOfWeek, FlightDate, Reporting_Airline, DOT_ID_Reporting_Airline, IATA_CODE_Reporting_Airline, Tail_Number, Flight_Number_Reporting_Airline, OriginAirportID, OriginAirportSeqID, OriginCityMarketID, Origin, OriginCityName, OriginState, OriginStateFips, OriginStateName, OriginWac, DestAirportID, DestAirportSeqID, DestCityMarketID, Dest, DestCityName, DestState, DestStateFips, DestStateName, DestWac, CRSDepTime, DepTime, DepDelay, DepDelayMinutes, DepDel15, DepartureDelayGroups, DepTimeBlk, TaxiOut, WheelsOff, WheelsOn, TaxiIn, CRSArrTime, ArrTime, ArrDelay, ArrDelayMinutes, ArrDel15, ArrivalDelayGroups, ArrTimeBlk, Cancelled, CancellationCode, Diverted, CRSElapsedTime, ActualElapsedTime, AirTime, Flights, Distance, DistanceGroup, CarrierDelay, WeatherDelay, NASDelay, SecurityDelay, LateAircraftDelay, FirstDepTime, TotalAddGTime, LongestAddGTime, DivAirportLandings, DivReachedDest, DivActualElapsedTime, DivArrDelay, DivDistance, Div1Airport, Div1AirportID, Div1AirportSeqID, Div1WheelsOn, Div1TotalGTime, Div1LongestGTime, Div1WheelsOff, Div1TailNum, Div2Airport, Div2AirportID, Div2AirportSeqID, Div2WheelsOn, Div2TotalGTime, Div2LongestGTime, Div2WheelsOff, Div2TailNum, Div3Airport, Div3AirportID, Div3AirportSeqID, Div3WheelsOn, Div3TotalGTime, Div3LongestGTime, Div3WheelsOff, Div3TailNum, Div4Airport, Div4AirportID, Div4AirportSeqID, Div4WheelsOn, Div4TotalGTime, Div4LongestGTime, Div4WheelsOff, Div4TailNum, Div5Airport, Div5AirportID, Div5AirportSeqID, Div5WheelsOn, Div5TotalGTime, Div5LongestGTime, Div5WheelsOff, Div5TailNum, \n",
      " Schema: Year, Quarter, DayofMonth, DayOfWeek, FlightDate, Reporting_Airline, DOT_ID_Reporting_Airline, IATA_CODE_Reporting_Airline, Tail_Number, Flight_Number_Reporting_Airline, OriginAirportID, OriginAirportSeqID, OriginCityMarketID, Origin, OriginCityName, OriginState, OriginStateFips, OriginStateName, OriginWac, DestAirportID, DestAirportSeqID, DestCityMarketID, Dest, DestCityName, DestState, DestStateFips, DestStateName, DestWac, CRSDepTime, DepTime, DepDelay, DepDelayMinutes, DepDel15, DepartureDelayGroups, DepTimeBlk, TaxiOut, WheelsOff, WheelsOn, TaxiIn, CRSArrTime, ArrTime, ArrDelay, ArrDelayMinutes, ArrDel15, ArrivalDelayGroups, ArrTimeBlk, Cancelled, CancellationCode, Diverted, CRSElapsedTime, ActualElapsedTime, AirTime, Flights, Distance, DistanceGroup, CarrierDelay, WeatherDelay, NASDelay, SecurityDelay, LateAircraftDelay, FirstDepTime, TotalAddGTime, LongestAddGTime, DivAirportLandings, DivReachedDest, DivActualElapsedTime, DivArrDelay, DivDistance, Div1Airport, Div1AirportID, Div1AirportSeqID, Div1WheelsOn, Div1TotalGTime, Div1LongestGTime, Div1WheelsOff, Div1TailNum, Div2Airport, Div2AirportID, Div2AirportSeqID, Div2WheelsOn, Div2TotalGTime, Div2LongestGTime, Div2WheelsOff, Div2TailNum, Div3Airport, Div3AirportID, Div3AirportSeqID, Div3WheelsOn, Div3TotalGTime, Div3LongestGTime, Div3WheelsOff, Div3TailNum, Div4Airport, Div4AirportID, Div4AirportSeqID, Div4WheelsOn, Div4TotalGTime, Div4LongestGTime, Div4WheelsOff, Div4TailNum, Div5Airport, Div5AirportID, Div5AirportSeqID, Div5WheelsOn, Div5TotalGTime, Div5LongestGTime, Div5WheelsOff, Div5TailNum, _c109\n",
      "Expected: _c109 but found: \n",
      "CSV file: s3a://bigdata-flight-delays/2024_6.csv\n",
      "25/05/09 17:20:53 WARN CSVHeaderChecker: CSV header does not conform to the schema.\n",
      " Header: Year, Quarter, DayofMonth, DayOfWeek, FlightDate, Reporting_Airline, DOT_ID_Reporting_Airline, IATA_CODE_Reporting_Airline, Tail_Number, Flight_Number_Reporting_Airline, OriginAirportID, OriginAirportSeqID, OriginCityMarketID, Origin, OriginCityName, OriginState, OriginStateFips, OriginStateName, OriginWac, DestAirportID, DestAirportSeqID, DestCityMarketID, Dest, DestCityName, DestState, DestStateFips, DestStateName, DestWac, CRSDepTime, DepTime, DepDelay, DepDelayMinutes, DepDel15, DepartureDelayGroups, DepTimeBlk, TaxiOut, WheelsOff, WheelsOn, TaxiIn, CRSArrTime, ArrTime, ArrDelay, ArrDelayMinutes, ArrDel15, ArrivalDelayGroups, ArrTimeBlk, Cancelled, CancellationCode, Diverted, CRSElapsedTime, ActualElapsedTime, AirTime, Flights, Distance, DistanceGroup, CarrierDelay, WeatherDelay, NASDelay, SecurityDelay, LateAircraftDelay, FirstDepTime, TotalAddGTime, LongestAddGTime, DivAirportLandings, DivReachedDest, DivActualElapsedTime, DivArrDelay, DivDistance, Div1Airport, Div1AirportID, Div1AirportSeqID, Div1WheelsOn, Div1TotalGTime, Div1LongestGTime, Div1WheelsOff, Div1TailNum, Div2Airport, Div2AirportID, Div2AirportSeqID, Div2WheelsOn, Div2TotalGTime, Div2LongestGTime, Div2WheelsOff, Div2TailNum, Div3Airport, Div3AirportID, Div3AirportSeqID, Div3WheelsOn, Div3TotalGTime, Div3LongestGTime, Div3WheelsOff, Div3TailNum, Div4Airport, Div4AirportID, Div4AirportSeqID, Div4WheelsOn, Div4TotalGTime, Div4LongestGTime, Div4WheelsOff, Div4TailNum, Div5Airport, Div5AirportID, Div5AirportSeqID, Div5WheelsOn, Div5TotalGTime, Div5LongestGTime, Div5WheelsOff, Div5TailNum, \n",
      " Schema: Year, Quarter, DayofMonth, DayOfWeek, FlightDate, Reporting_Airline, DOT_ID_Reporting_Airline, IATA_CODE_Reporting_Airline, Tail_Number, Flight_Number_Reporting_Airline, OriginAirportID, OriginAirportSeqID, OriginCityMarketID, Origin, OriginCityName, OriginState, OriginStateFips, OriginStateName, OriginWac, DestAirportID, DestAirportSeqID, DestCityMarketID, Dest, DestCityName, DestState, DestStateFips, DestStateName, DestWac, CRSDepTime, DepTime, DepDelay, DepDelayMinutes, DepDel15, DepartureDelayGroups, DepTimeBlk, TaxiOut, WheelsOff, WheelsOn, TaxiIn, CRSArrTime, ArrTime, ArrDelay, ArrDelayMinutes, ArrDel15, ArrivalDelayGroups, ArrTimeBlk, Cancelled, CancellationCode, Diverted, CRSElapsedTime, ActualElapsedTime, AirTime, Flights, Distance, DistanceGroup, CarrierDelay, WeatherDelay, NASDelay, SecurityDelay, LateAircraftDelay, FirstDepTime, TotalAddGTime, LongestAddGTime, DivAirportLandings, DivReachedDest, DivActualElapsedTime, DivArrDelay, DivDistance, Div1Airport, Div1AirportID, Div1AirportSeqID, Div1WheelsOn, Div1TotalGTime, Div1LongestGTime, Div1WheelsOff, Div1TailNum, Div2Airport, Div2AirportID, Div2AirportSeqID, Div2WheelsOn, Div2TotalGTime, Div2LongestGTime, Div2WheelsOff, Div2TailNum, Div3Airport, Div3AirportID, Div3AirportSeqID, Div3WheelsOn, Div3TotalGTime, Div3LongestGTime, Div3WheelsOff, Div3TailNum, Div4Airport, Div4AirportID, Div4AirportSeqID, Div4WheelsOn, Div4TotalGTime, Div4LongestGTime, Div4WheelsOff, Div4TailNum, Div5Airport, Div5AirportID, Div5AirportSeqID, Div5WheelsOn, Div5TotalGTime, Div5LongestGTime, Div5WheelsOff, Div5TailNum, _c109\n",
      "Expected: _c109 but found: \n",
      "CSV file: s3a://bigdata-flight-delays/2024_7.csv\n",
      "25/05/09 17:20:56 WARN CSVHeaderChecker: CSV header does not conform to the schema.\n",
      " Header: Year, Quarter, DayofMonth, DayOfWeek, FlightDate, Reporting_Airline, DOT_ID_Reporting_Airline, IATA_CODE_Reporting_Airline, Tail_Number, Flight_Number_Reporting_Airline, OriginAirportID, OriginAirportSeqID, OriginCityMarketID, Origin, OriginCityName, OriginState, OriginStateFips, OriginStateName, OriginWac, DestAirportID, DestAirportSeqID, DestCityMarketID, Dest, DestCityName, DestState, DestStateFips, DestStateName, DestWac, CRSDepTime, DepTime, DepDelay, DepDelayMinutes, DepDel15, DepartureDelayGroups, DepTimeBlk, TaxiOut, WheelsOff, WheelsOn, TaxiIn, CRSArrTime, ArrTime, ArrDelay, ArrDelayMinutes, ArrDel15, ArrivalDelayGroups, ArrTimeBlk, Cancelled, CancellationCode, Diverted, CRSElapsedTime, ActualElapsedTime, AirTime, Flights, Distance, DistanceGroup, CarrierDelay, WeatherDelay, NASDelay, SecurityDelay, LateAircraftDelay, FirstDepTime, TotalAddGTime, LongestAddGTime, DivAirportLandings, DivReachedDest, DivActualElapsedTime, DivArrDelay, DivDistance, Div1Airport, Div1AirportID, Div1AirportSeqID, Div1WheelsOn, Div1TotalGTime, Div1LongestGTime, Div1WheelsOff, Div1TailNum, Div2Airport, Div2AirportID, Div2AirportSeqID, Div2WheelsOn, Div2TotalGTime, Div2LongestGTime, Div2WheelsOff, Div2TailNum, Div3Airport, Div3AirportID, Div3AirportSeqID, Div3WheelsOn, Div3TotalGTime, Div3LongestGTime, Div3WheelsOff, Div3TailNum, Div4Airport, Div4AirportID, Div4AirportSeqID, Div4WheelsOn, Div4TotalGTime, Div4LongestGTime, Div4WheelsOff, Div4TailNum, Div5Airport, Div5AirportID, Div5AirportSeqID, Div5WheelsOn, Div5TotalGTime, Div5LongestGTime, Div5WheelsOff, Div5TailNum, \n",
      " Schema: Year, Quarter, DayofMonth, DayOfWeek, FlightDate, Reporting_Airline, DOT_ID_Reporting_Airline, IATA_CODE_Reporting_Airline, Tail_Number, Flight_Number_Reporting_Airline, OriginAirportID, OriginAirportSeqID, OriginCityMarketID, Origin, OriginCityName, OriginState, OriginStateFips, OriginStateName, OriginWac, DestAirportID, DestAirportSeqID, DestCityMarketID, Dest, DestCityName, DestState, DestStateFips, DestStateName, DestWac, CRSDepTime, DepTime, DepDelay, DepDelayMinutes, DepDel15, DepartureDelayGroups, DepTimeBlk, TaxiOut, WheelsOff, WheelsOn, TaxiIn, CRSArrTime, ArrTime, ArrDelay, ArrDelayMinutes, ArrDel15, ArrivalDelayGroups, ArrTimeBlk, Cancelled, CancellationCode, Diverted, CRSElapsedTime, ActualElapsedTime, AirTime, Flights, Distance, DistanceGroup, CarrierDelay, WeatherDelay, NASDelay, SecurityDelay, LateAircraftDelay, FirstDepTime, TotalAddGTime, LongestAddGTime, DivAirportLandings, DivReachedDest, DivActualElapsedTime, DivArrDelay, DivDistance, Div1Airport, Div1AirportID, Div1AirportSeqID, Div1WheelsOn, Div1TotalGTime, Div1LongestGTime, Div1WheelsOff, Div1TailNum, Div2Airport, Div2AirportID, Div2AirportSeqID, Div2WheelsOn, Div2TotalGTime, Div2LongestGTime, Div2WheelsOff, Div2TailNum, Div3Airport, Div3AirportID, Div3AirportSeqID, Div3WheelsOn, Div3TotalGTime, Div3LongestGTime, Div3WheelsOff, Div3TailNum, Div4Airport, Div4AirportID, Div4AirportSeqID, Div4WheelsOn, Div4TotalGTime, Div4LongestGTime, Div4WheelsOff, Div4TailNum, Div5Airport, Div5AirportID, Div5AirportSeqID, Div5WheelsOn, Div5TotalGTime, Div5LongestGTime, Div5WheelsOff, Div5TailNum, _c109\n",
      "Expected: _c109 but found: \n",
      "CSV file: s3a://bigdata-flight-delays/2024_8.csv\n",
      "25/05/09 17:21:19 WARN CSVHeaderChecker: CSV header does not conform to the schema.\n",
      " Header: Year, Quarter, DayofMonth, DayOfWeek, FlightDate, Reporting_Airline, DOT_ID_Reporting_Airline, IATA_CODE_Reporting_Airline, Tail_Number, Flight_Number_Reporting_Airline, OriginAirportID, OriginAirportSeqID, OriginCityMarketID, Origin, OriginCityName, OriginState, OriginStateFips, OriginStateName, OriginWac, DestAirportID, DestAirportSeqID, DestCityMarketID, Dest, DestCityName, DestState, DestStateFips, DestStateName, DestWac, CRSDepTime, DepTime, DepDelay, DepDelayMinutes, DepDel15, DepartureDelayGroups, DepTimeBlk, TaxiOut, WheelsOff, WheelsOn, TaxiIn, CRSArrTime, ArrTime, ArrDelay, ArrDelayMinutes, ArrDel15, ArrivalDelayGroups, ArrTimeBlk, Cancelled, CancellationCode, Diverted, CRSElapsedTime, ActualElapsedTime, AirTime, Flights, Distance, DistanceGroup, CarrierDelay, WeatherDelay, NASDelay, SecurityDelay, LateAircraftDelay, FirstDepTime, TotalAddGTime, LongestAddGTime, DivAirportLandings, DivReachedDest, DivActualElapsedTime, DivArrDelay, DivDistance, Div1Airport, Div1AirportID, Div1AirportSeqID, Div1WheelsOn, Div1TotalGTime, Div1LongestGTime, Div1WheelsOff, Div1TailNum, Div2Airport, Div2AirportID, Div2AirportSeqID, Div2WheelsOn, Div2TotalGTime, Div2LongestGTime, Div2WheelsOff, Div2TailNum, Div3Airport, Div3AirportID, Div3AirportSeqID, Div3WheelsOn, Div3TotalGTime, Div3LongestGTime, Div3WheelsOff, Div3TailNum, Div4Airport, Div4AirportID, Div4AirportSeqID, Div4WheelsOn, Div4TotalGTime, Div4LongestGTime, Div4WheelsOff, Div4TailNum, Div5Airport, Div5AirportID, Div5AirportSeqID, Div5WheelsOn, Div5TotalGTime, Div5LongestGTime, Div5WheelsOff, Div5TailNum, \n",
      " Schema: Year, Quarter, DayofMonth, DayOfWeek, FlightDate, Reporting_Airline, DOT_ID_Reporting_Airline, IATA_CODE_Reporting_Airline, Tail_Number, Flight_Number_Reporting_Airline, OriginAirportID, OriginAirportSeqID, OriginCityMarketID, Origin, OriginCityName, OriginState, OriginStateFips, OriginStateName, OriginWac, DestAirportID, DestAirportSeqID, DestCityMarketID, Dest, DestCityName, DestState, DestStateFips, DestStateName, DestWac, CRSDepTime, DepTime, DepDelay, DepDelayMinutes, DepDel15, DepartureDelayGroups, DepTimeBlk, TaxiOut, WheelsOff, WheelsOn, TaxiIn, CRSArrTime, ArrTime, ArrDelay, ArrDelayMinutes, ArrDel15, ArrivalDelayGroups, ArrTimeBlk, Cancelled, CancellationCode, Diverted, CRSElapsedTime, ActualElapsedTime, AirTime, Flights, Distance, DistanceGroup, CarrierDelay, WeatherDelay, NASDelay, SecurityDelay, LateAircraftDelay, FirstDepTime, TotalAddGTime, LongestAddGTime, DivAirportLandings, DivReachedDest, DivActualElapsedTime, DivArrDelay, DivDistance, Div1Airport, Div1AirportID, Div1AirportSeqID, Div1WheelsOn, Div1TotalGTime, Div1LongestGTime, Div1WheelsOff, Div1TailNum, Div2Airport, Div2AirportID, Div2AirportSeqID, Div2WheelsOn, Div2TotalGTime, Div2LongestGTime, Div2WheelsOff, Div2TailNum, Div3Airport, Div3AirportID, Div3AirportSeqID, Div3WheelsOn, Div3TotalGTime, Div3LongestGTime, Div3WheelsOff, Div3TailNum, Div4Airport, Div4AirportID, Div4AirportSeqID, Div4WheelsOn, Div4TotalGTime, Div4LongestGTime, Div4WheelsOff, Div4TailNum, Div5Airport, Div5AirportID, Div5AirportSeqID, Div5WheelsOn, Div5TotalGTime, Div5LongestGTime, Div5WheelsOff, Div5TailNum, _c109\n",
      "Expected: _c109 but found: \n",
      "CSV file: s3a://bigdata-flight-delays/2024_9.csv\n",
      "[Stage 697:>                                                        (0 + 1) / 1]\r"
     ]
    },
    {
     "name": "stdout",
     "output_type": "stream",
     "text": [
      "+------+----+-----------------+------+---------+----+-------+-----+----------+----------+------------------------+---------------------------+-----------+-------------------------------+---------------+------------------+------------------+--------------------+-----------+---------------+---------------+---------+-------------+----------------+----------------+------------+---------+-------------+-------------+-------+----------+-------+--------+---------------+--------+--------------------+----------+-------+---------+--------+------+----------+-------+--------+---------------+--------+------------------+----------+---------+----------------+--------+--------------+-----------------+-------+-------+--------+-------------+------------+------------+--------+-------------+-----------------+------------+-------------+---------------+------------------+--------------+--------------------+-----------+-----------+-----------+-------------+----------------+------------+--------------+----------------+-------------+-----------+-----------+-------------+----------------+------------+--------------+----------------+-------------+-----------+-----------+-------------+----------------+------------+--------------+----------------+-------------+-----------+-----------+-------------+----------------+------------+--------------+----------------+-------------+-----------+-----------+-------------+----------------+------------+--------------+----------------+-------------+-----------+-----+-------+\n",
      "|Origin|Dest|Reporting_Airline|Season|DayOfWeek|Year|Quarter|Month|DayofMonth|FlightDate|DOT_ID_Reporting_Airline|IATA_CODE_Reporting_Airline|Tail_Number|Flight_Number_Reporting_Airline|OriginAirportID|OriginAirportSeqID|OriginCityMarketID|      OriginCityName|OriginState|OriginStateFips|OriginStateName|OriginWac|DestAirportID|DestAirportSeqID|DestCityMarketID|DestCityName|DestState|DestStateFips|DestStateName|DestWac|CRSDepTime|DepTime|DepDelay|DepDelayMinutes|DepDel15|DepartureDelayGroups|DepTimeBlk|TaxiOut|WheelsOff|WheelsOn|TaxiIn|CRSArrTime|ArrTime|ArrDelay|ArrDelayMinutes|ArrDel15|ArrivalDelayGroups|ArrTimeBlk|Cancelled|CancellationCode|Diverted|CRSElapsedTime|ActualElapsedTime|AirTime|Flights|Distance|DistanceGroup|CarrierDelay|WeatherDelay|NASDelay|SecurityDelay|LateAircraftDelay|FirstDepTime|TotalAddGTime|LongestAddGTime|DivAirportLandings|DivReachedDest|DivActualElapsedTime|DivArrDelay|DivDistance|Div1Airport|Div1AirportID|Div1AirportSeqID|Div1WheelsOn|Div1TotalGTime|Div1LongestGTime|Div1WheelsOff|Div1TailNum|Div2Airport|Div2AirportID|Div2AirportSeqID|Div2WheelsOn|Div2TotalGTime|Div2LongestGTime|Div2WheelsOff|Div2TailNum|Div3Airport|Div3AirportID|Div3AirportSeqID|Div3WheelsOn|Div3TotalGTime|Div3LongestGTime|Div3WheelsOff|Div3TailNum|Div4Airport|Div4AirportID|Div4AirportSeqID|Div4WheelsOn|Div4TotalGTime|Div4LongestGTime|Div4WheelsOff|Div4TailNum|Div5Airport|Div5AirportID|Div5AirportSeqID|Div5WheelsOn|Div5TotalGTime|Div5LongestGTime|Div5WheelsOff|Div5TailNum|_c109|cluster|\n",
      "+------+----+-----------------+------+---------+----+-------+-----+----------+----------+------------------------+---------------------------+-----------+-------------------------------+---------------+------------------+------------------+--------------------+-----------+---------------+---------------+---------+-------------+----------------+----------------+------------+---------+-------------+-------------+-------+----------+-------+--------+---------------+--------+--------------------+----------+-------+---------+--------+------+----------+-------+--------+---------------+--------+------------------+----------+---------+----------------+--------+--------------+-----------------+-------+-------+--------+-------------+------------+------------+--------+-------------+-----------------+------------+-------------+---------------+------------------+--------------+--------------------+-----------+-----------+-----------+-------------+----------------+------------+--------------+----------------+-------------+-----------+-----------+-------------+----------------+------------+--------------+----------------+-------------+-----------+-----------+-------------+----------------+------------+--------------+----------------+-------------+-----------+-----------+-------------+----------------+------------+--------------+----------------+-------------+-----------+-----------+-------------+----------------+------------+--------------+----------------+-------------+-----------+-----+-------+\n",
      "|   ABE| ATL|               9E|  Fall|        2|2024|      4|   10|         1|2024-10-01|                   20363|                         9E|     N292PQ|                           5241|          10135|           1013506|             30135|Allentown/Bethleh...|         PA|             42|   Pennsylvania|       23|        10397|         1039707|           30397| Atlanta, GA|       GA|           13|      Georgia|     34|      1226|   1218|    -8.0|            0.0|     0.0|                  -1| 1200-1259|   18.0|     1236|    1414|   7.0|      1435|   1421|   -14.0|            0.0|     0.0|                -1| 1400-1459|      0.0|            NULL|     0.0|         129.0|            123.0|   98.0|    1.0|   692.0|            3|         0.0|         0.0|     0.0|          0.0|              0.0|           0|          0.0|            0.0|                 0|           0.0|                 0.0|        0.0|        0.0|       NULL|            0|               0|           0|           0.0|             0.0|            0|       NULL|       NULL|            0|               0|           0|           0.0|             0.0|            0|       NULL|       NULL|            0|               0|           0|           0.0|             0.0|            0|       NULL|       NULL|         NULL|            NULL|        NULL|          NULL|            NULL|         NULL|       NULL|       NULL|         NULL|            NULL|        NULL|          NULL|            NULL|         NULL|       NULL| NULL|      2|\n",
      "|   ABE| ATL|               9E|  Fall|        2|2024|      4|   10|         8|2024-10-08|                   20363|                         9E|     N195PQ|                           5241|          10135|           1013506|             30135|Allentown/Bethleh...|         PA|             42|   Pennsylvania|       23|        10397|         1039707|           30397| Atlanta, GA|       GA|           13|      Georgia|     34|      1223|   1225|     2.0|            2.0|     0.0|                   0| 1200-1259|   16.0|     1241|    1426|   9.0|      1435|   1435|     0.0|            0.0|     0.0|                 0| 1400-1459|      0.0|            NULL|     0.0|         132.0|            130.0|  105.0|    1.0|   692.0|            3|         0.0|         0.0|     0.0|          0.0|              0.0|           0|          0.0|            0.0|                 0|           0.0|                 0.0|        0.0|        0.0|       NULL|            0|               0|           0|           0.0|             0.0|            0|       NULL|       NULL|            0|               0|           0|           0.0|             0.0|            0|       NULL|       NULL|            0|               0|           0|           0.0|             0.0|            0|       NULL|       NULL|         NULL|            NULL|        NULL|          NULL|            NULL|         NULL|       NULL|       NULL|         NULL|            NULL|        NULL|          NULL|            NULL|         NULL|       NULL| NULL|      2|\n",
      "|   ABE| ATL|               9E|  Fall|        2|2024|      4|   10|        15|2024-10-15|                   20363|                         9E|     N300PQ|                           5241|          10135|           1013506|             30135|Allentown/Bethleh...|         PA|             42|   Pennsylvania|       23|        10397|         1039707|           30397| Atlanta, GA|       GA|           13|      Georgia|     34|      1223|   1219|    -4.0|            0.0|     0.0|                  -1| 1200-1259|   17.0|     1236|    1425|   7.0|      1435|   1432|    -3.0|            0.0|     0.0|                -1| 1400-1459|      0.0|            NULL|     0.0|         132.0|            133.0|  109.0|    1.0|   692.0|            3|         0.0|         0.0|     0.0|          0.0|              0.0|           0|          0.0|            0.0|                 0|           0.0|                 0.0|        0.0|        0.0|       NULL|            0|               0|           0|           0.0|             0.0|            0|       NULL|       NULL|            0|               0|           0|           0.0|             0.0|            0|       NULL|       NULL|            0|               0|           0|           0.0|             0.0|            0|       NULL|       NULL|         NULL|            NULL|        NULL|          NULL|            NULL|         NULL|       NULL|       NULL|         NULL|            NULL|        NULL|          NULL|            NULL|         NULL|       NULL| NULL|      2|\n",
      "|   ABE| ATL|               9E|  Fall|        2|2024|      4|   10|        22|2024-10-22|                   20363|                         9E|     N295PQ|                           5241|          10135|           1013506|             30135|Allentown/Bethleh...|         PA|             42|   Pennsylvania|       23|        10397|         1039707|           30397| Atlanta, GA|       GA|           13|      Georgia|     34|      1223|   1221|    -2.0|            0.0|     0.0|                  -1| 1200-1259|   24.0|     1245|    1416|   5.0|      1435|   1421|   -14.0|            0.0|     0.0|                -1| 1400-1459|      0.0|            NULL|     0.0|         132.0|            120.0|   91.0|    1.0|   692.0|            3|         0.0|         0.0|     0.0|          0.0|              0.0|           0|          0.0|            0.0|                 0|           0.0|                 0.0|        0.0|        0.0|       NULL|            0|               0|           0|           0.0|             0.0|            0|       NULL|       NULL|            0|               0|           0|           0.0|             0.0|            0|       NULL|       NULL|            0|               0|           0|           0.0|             0.0|            0|       NULL|       NULL|         NULL|            NULL|        NULL|          NULL|            NULL|         NULL|       NULL|       NULL|         NULL|            NULL|        NULL|          NULL|            NULL|         NULL|       NULL| NULL|      2|\n",
      "|   ABE| ATL|               9E|  Fall|        2|2024|      4|   10|        29|2024-10-29|                   20363|                         9E|     N913XJ|                           5241|          10135|           1013506|             30135|Allentown/Bethleh...|         PA|             42|   Pennsylvania|       23|        10397|         1039707|           30397| Atlanta, GA|       GA|           13|      Georgia|     34|      1450|   1515|    25.0|           25.0|     1.0|                   1| 1400-1459|   12.0|     1527|    1701|   7.0|      1702|   1708|     6.0|            6.0|     0.0|                 0| 1700-1759|      0.0|            NULL|     0.0|         132.0|            113.0|   94.0|    1.0|   692.0|            3|         0.0|         0.0|     0.0|          0.0|              0.0|           0|          0.0|            0.0|                 0|           0.0|                 0.0|        0.0|        0.0|       NULL|            0|               0|           0|           0.0|             0.0|            0|       NULL|       NULL|            0|               0|           0|           0.0|             0.0|            0|       NULL|       NULL|            0|               0|           0|           0.0|             0.0|            0|       NULL|       NULL|         NULL|            NULL|        NULL|          NULL|            NULL|         NULL|       NULL|       NULL|         NULL|            NULL|        NULL|          NULL|            NULL|         NULL|       NULL| NULL|      2|\n",
      "+------+----+-----------------+------+---------+----+-------+-----+----------+----------+------------------------+---------------------------+-----------+-------------------------------+---------------+------------------+------------------+--------------------+-----------+---------------+---------------+---------+-------------+----------------+----------------+------------+---------+-------------+-------------+-------+----------+-------+--------+---------------+--------+--------------------+----------+-------+---------+--------+------+----------+-------+--------+---------------+--------+------------------+----------+---------+----------------+--------+--------------+-----------------+-------+-------+--------+-------------+------------+------------+--------+-------------+-----------------+------------+-------------+---------------+------------------+--------------+--------------------+-----------+-----------+-----------+-------------+----------------+------------+--------------+----------------+-------------+-----------+-----------+-------------+----------------+------------+--------------+----------------+-------------+-----------+-----------+-------------+----------------+------------+--------------+----------------+-------------+-----------+-----------+-------------+----------------+------------+--------------+----------------+-------------+-----------+-----------+-------------+----------------+------------+--------------+----------------+-------------+-----------+-----+-------+\n",
      "only showing top 5 rows\n",
      "\n"
     ]
    },
    {
     "name": "stderr",
     "output_type": "stream",
     "text": [
      "                                                                                \r"
     ]
    }
   ],
   "source": [
    "df_overall_cluster.show(5)"
   ]
  },
  {
   "cell_type": "code",
   "execution_count": 48,
   "id": "3ade09c9",
   "metadata": {},
   "outputs": [],
   "source": [
    "df_overall_cluster.createOrReplaceTempView(\"df_overall_cluster\")\n",
    "df_overall_summ = spark.sql(\"\"\"\n",
    "    SELECT Origin, Season, DayOfWeek,OriginState,OriginStateName, Dest, \n",
    "                       DestCityName,    DestState, DestStateName, Reporting_Airline, cluster,\n",
    "            SUM(CASE WHEN Diverted = 1 THEN 1 ELSE 0 END) AS DivertedFlights,\n",
    "            COUNT(*) AS TotalFlights,\n",
    "            Sum(DepDel15) AS DepartureDelayedFlights,\n",
    "            Sum(ArrDel15) AS ArrivalDelayedFlights,\n",
    "            sum(CASE WHEN DepDel15 =1 THEN DepDelay ELSE 0 END) AS TotalDepDelay_gt_15M,\n",
    "            sum(CASE WHEN ArrDel15 =1 THEN ArrDelay ELSE 0 END) AS TotalArrDelay_gt_15M,\n",
    "            sum(DepDelay) AS TotalDepDelay,\n",
    "            sum(ArrDelay) AS TotalArrDelay,\n",
    "            sum(CarrierDelay) AS TotalCarrierDelay,\n",
    "            sum(WeatherDelay) AS TotalWeatherDelay,\n",
    "            sum(NASDelay) AS TotalNASDelay,\n",
    "            sum(SecurityDelay) AS TotalSecurityDelay,\n",
    "            sum(LateAircraftDelay) AS TotalLateAircraftDelay\n",
    "            \n",
    "    FROM df_overall_cluster\n",
    "    GROUP BY Origin, Season, DayOfWeek,OriginState,OriginStateName, Dest, \n",
    "                       DestCityName,    DestState, DestStateName, Reporting_Airline, cluster\n",
    "    \n",
    "\"\"\")"
   ]
  },
  {
   "cell_type": "code",
   "execution_count": 49,
   "id": "57ce8498",
   "metadata": {},
   "outputs": [
    {
     "name": "stderr",
     "output_type": "stream",
     "text": [
      "25/05/09 17:33:07 WARN RowBasedKeyValueBatch: Calling spill() on RowBasedKeyValueBatch. Will not spill but return 0.\n",
      "25/05/09 17:33:07 WARN RowBasedKeyValueBatch: Calling spill() on RowBasedKeyValueBatch. Will not spill but return 0.\n",
      "25/05/09 17:33:07 WARN RowBasedKeyValueBatch: Calling spill() on RowBasedKeyValueBatch. Will not spill but return 0.\n",
      "25/05/09 17:33:07 WARN RowBasedKeyValueBatch: Calling spill() on RowBasedKeyValueBatch. Will not spill but return 0.\n",
      "25/05/09 17:33:10 WARN RowBasedKeyValueBatch: Calling spill() on RowBasedKeyValueBatch. Will not spill but return 0.\n",
      "25/05/09 17:33:10 WARN RowBasedKeyValueBatch: Calling spill() on RowBasedKeyValueBatch. Will not spill but return 0.\n",
      "25/05/09 17:33:10 WARN RowBasedKeyValueBatch: Calling spill() on RowBasedKeyValueBatch. Will not spill but return 0.\n",
      "25/05/09 17:33:10 WARN RowBasedKeyValueBatch: Calling spill() on RowBasedKeyValueBatch. Will not spill but return 0.\n",
      "25/05/09 17:33:12 WARN RowBasedKeyValueBatch: Calling spill() on RowBasedKeyValueBatch. Will not spill but return 0.\n",
      "25/05/09 17:33:12 WARN RowBasedKeyValueBatch: Calling spill() on RowBasedKeyValueBatch. Will not spill but return 0.\n",
      "25/05/09 17:33:13 WARN RowBasedKeyValueBatch: Calling spill() on RowBasedKeyValueBatch. Will not spill but return 0.\n",
      "25/05/09 17:33:13 WARN RowBasedKeyValueBatch: Calling spill() on RowBasedKeyValueBatch. Will not spill but return 0.\n",
      "25/05/09 17:33:14 WARN RowBasedKeyValueBatch: Calling spill() on RowBasedKeyValueBatch. Will not spill but return 0.\n",
      "25/05/09 17:33:14 WARN RowBasedKeyValueBatch: Calling spill() on RowBasedKeyValueBatch. Will not spill but return 0.\n",
      "25/05/09 17:33:15 WARN RowBasedKeyValueBatch: Calling spill() on RowBasedKeyValueBatch. Will not spill but return 0.\n",
      "25/05/09 17:33:15 WARN RowBasedKeyValueBatch: Calling spill() on RowBasedKeyValueBatch. Will not spill but return 0.\n",
      "25/05/09 17:33:16 WARN RowBasedKeyValueBatch: Calling spill() on RowBasedKeyValueBatch. Will not spill but return 0.\n",
      "25/05/09 17:33:16 WARN RowBasedKeyValueBatch: Calling spill() on RowBasedKeyValueBatch. Will not spill but return 0.\n",
      "25/05/09 17:33:17 WARN RowBasedKeyValueBatch: Calling spill() on RowBasedKeyValueBatch. Will not spill but return 0.\n",
      "25/05/09 17:33:17 WARN RowBasedKeyValueBatch: Calling spill() on RowBasedKeyValueBatch. Will not spill but return 0.\n",
      "                                                                                \r"
     ]
    }
   ],
   "source": [
    "df_overall_summ.write.csv(\n",
    "    \"/Users/soham/PycharmProjects/bigdata-project/output/flight_clusters_overall_summ\", header=True, mode=\"overwrite\"\n",
    ")"
   ]
  }
 ],
 "metadata": {
  "kernelspec": {
   "display_name": "spark",
   "language": "python",
   "name": "python3"
  },
  "language_info": {
   "codemirror_mode": {
    "name": "ipython",
    "version": 3
   },
   "file_extension": ".py",
   "mimetype": "text/x-python",
   "name": "python",
   "nbconvert_exporter": "python",
   "pygments_lexer": "ipython3",
   "version": "3.13.2"
  }
 },
 "nbformat": 4,
 "nbformat_minor": 5
}
