{
 "cells": [
  {
   "cell_type": "code",
   "execution_count": 1,
   "id": "388efc52",
   "metadata": {},
   "outputs": [
    {
     "name": "stderr",
     "output_type": "stream",
     "text": [
      "your 131072x1 screen size is bogus. expect trouble\n",
      "25/05/08 23:36:00 WARN Utils: Your hostname, LAPTOP-MLUH4T0H resolves to a loopback address: 127.0.1.1; using 10.255.255.254 instead (on interface lo)\n",
      "25/05/08 23:36:00 WARN Utils: Set SPARK_LOCAL_IP if you need to bind to another address\n",
      "Setting default log level to \"WARN\".\n",
      "To adjust logging level use sc.setLogLevel(newLevel). For SparkR, use setLogLevel(newLevel).\n",
      "25/05/08 23:36:01 WARN NativeCodeLoader: Unable to load native-hadoop library for your platform... using builtin-java classes where applicable\n",
      "25/05/08 23:36:13 WARN SparkStringUtils: Truncated the string representation of a plan since it was too large. This behavior can be adjusted by setting 'spark.sql.debug.maxToStringFields'.\n"
     ]
    },
    {
     "name": "stdout",
     "output_type": "stream",
     "text": [
      "+----+-------+-----+----------+---------+----------+-----------------+------------------------+---------------------------+-----------+-------------------------------+---------------+------------------+------------------+------+--------------+-----------+---------------+---------------+---------+-------------+----------------+----------------+----+--------------+---------+-------------+-------------+-------+----------+-------+--------+---------------+--------+--------------------+----------+-------+---------+--------+------+----------+-------+--------+---------------+--------+------------------+----------+---------+----------------+--------+--------------+-----------------+-------+-------+--------+-------------+------------+------------+--------+-------------+-----------------+------------+-------------+---------------+------------------+--------------+--------------------+-----------+-----------+-----------+-------------+----------------+------------+--------------+----------------+-------------+-----------+-----------+-------------+----------------+------------+--------------+----------------+-------------+-----------+-----------+-------------+----------------+------------+--------------+----------------+-------------+-----------+-----------+-------------+----------------+------------+--------------+----------------+-------------+-----------+-----------+-------------+----------------+------------+--------------+----------------+-------------+-----------+-----+\n",
      "|Year|Quarter|Month|DayofMonth|DayOfWeek|FlightDate|Reporting_Airline|DOT_ID_Reporting_Airline|IATA_CODE_Reporting_Airline|Tail_Number|Flight_Number_Reporting_Airline|OriginAirportID|OriginAirportSeqID|OriginCityMarketID|Origin|OriginCityName|OriginState|OriginStateFips|OriginStateName|OriginWac|DestAirportID|DestAirportSeqID|DestCityMarketID|Dest|  DestCityName|DestState|DestStateFips|DestStateName|DestWac|CRSDepTime|DepTime|DepDelay|DepDelayMinutes|DepDel15|DepartureDelayGroups|DepTimeBlk|TaxiOut|WheelsOff|WheelsOn|TaxiIn|CRSArrTime|ArrTime|ArrDelay|ArrDelayMinutes|ArrDel15|ArrivalDelayGroups|ArrTimeBlk|Cancelled|CancellationCode|Diverted|CRSElapsedTime|ActualElapsedTime|AirTime|Flights|Distance|DistanceGroup|CarrierDelay|WeatherDelay|NASDelay|SecurityDelay|LateAircraftDelay|FirstDepTime|TotalAddGTime|LongestAddGTime|DivAirportLandings|DivReachedDest|DivActualElapsedTime|DivArrDelay|DivDistance|Div1Airport|Div1AirportID|Div1AirportSeqID|Div1WheelsOn|Div1TotalGTime|Div1LongestGTime|Div1WheelsOff|Div1TailNum|Div2Airport|Div2AirportID|Div2AirportSeqID|Div2WheelsOn|Div2TotalGTime|Div2LongestGTime|Div2WheelsOff|Div2TailNum|Div3Airport|Div3AirportID|Div3AirportSeqID|Div3WheelsOn|Div3TotalGTime|Div3LongestGTime|Div3WheelsOff|Div3TailNum|Div4Airport|Div4AirportID|Div4AirportSeqID|Div4WheelsOn|Div4TotalGTime|Div4LongestGTime|Div4WheelsOff|Div4TailNum|Div5Airport|Div5AirportID|Div5AirportSeqID|Div5WheelsOn|Div5TotalGTime|Div5LongestGTime|Div5WheelsOff|Div5TailNum|_c109|\n",
      "+----+-------+-----+----------+---------+----------+-----------------+------------------------+---------------------------+-----------+-------------------------------+---------------+------------------+------------------+------+--------------+-----------+---------------+---------------+---------+-------------+----------------+----------------+----+--------------+---------+-------------+-------------+-------+----------+-------+--------+---------------+--------+--------------------+----------+-------+---------+--------+------+----------+-------+--------+---------------+--------+------------------+----------+---------+----------------+--------+--------------+-----------------+-------+-------+--------+-------------+------------+------------+--------+-------------+-----------------+------------+-------------+---------------+------------------+--------------+--------------------+-----------+-----------+-----------+-------------+----------------+------------+--------------+----------------+-------------+-----------+-----------+-------------+----------------+------------+--------------+----------------+-------------+-----------+-----------+-------------+----------------+------------+--------------+----------------+-------------+-----------+-----------+-------------+----------------+------------+--------------+----------------+-------------+-----------+-----------+-------------+----------------+------------+--------------+----------------+-------------+-----------+-----+\n",
      "|2022|      1|    1|        14|        5|2022-01-14|               YX|                   20452|                         YX|     N119HQ|                           4879|          11066|           1106606|             31066|   CMH|  Columbus, OH|         OH|             39|           Ohio|       44|        11278|         1127805|           30852| DCA|Washington, DC|       VA|           51|     Virginia|     38|      1224|   1221|   -3.00|           0.00|    0.00|                  -1| 1200-1259|  28.00|     1249|    1352|  4.00|      1352|   1356|    4.00|           4.00|    0.00|                 0| 1300-1359|     0.00|            NULL|    0.00|         88.00|            95.00|  63.00|   1.00|  323.00|            2|        NULL|        NULL|    NULL|         NULL|             NULL|        NULL|         NULL|           NULL|                 0|          NULL|                NULL|       NULL|       NULL|       NULL|         NULL|            NULL|        NULL|          NULL|            NULL|         NULL|       NULL|       NULL|         NULL|            NULL|        NULL|          NULL|            NULL|         NULL|       NULL|       NULL|         NULL|            NULL|        NULL|          NULL|            NULL|         NULL|       NULL|       NULL|         NULL|            NULL|        NULL|          NULL|            NULL|         NULL|       NULL|       NULL|         NULL|            NULL|        NULL|          NULL|            NULL|         NULL|       NULL| NULL|\n",
      "|2022|      1|    1|        15|        6|2022-01-15|               YX|                   20452|                         YX|     N122HQ|                           4879|          11066|           1106606|             31066|   CMH|  Columbus, OH|         OH|             39|           Ohio|       44|        11278|         1127805|           30852| DCA|Washington, DC|       VA|           51|     Virginia|     38|      1224|   1214|  -10.00|           0.00|    0.00|                  -1| 1200-1259|  19.00|     1233|    1323|  5.00|      1352|   1328|  -24.00|           0.00|    0.00|                -2| 1300-1359|     0.00|            NULL|    0.00|         88.00|            74.00|  50.00|   1.00|  323.00|            2|        NULL|        NULL|    NULL|         NULL|             NULL|        NULL|         NULL|           NULL|                 0|          NULL|                NULL|       NULL|       NULL|       NULL|         NULL|            NULL|        NULL|          NULL|            NULL|         NULL|       NULL|       NULL|         NULL|            NULL|        NULL|          NULL|            NULL|         NULL|       NULL|       NULL|         NULL|            NULL|        NULL|          NULL|            NULL|         NULL|       NULL|       NULL|         NULL|            NULL|        NULL|          NULL|            NULL|         NULL|       NULL|       NULL|         NULL|            NULL|        NULL|          NULL|            NULL|         NULL|       NULL| NULL|\n",
      "|2022|      1|    1|        16|        7|2022-01-16|               YX|                   20452|                         YX|     N412YX|                           4879|          11066|           1106606|             31066|   CMH|  Columbus, OH|         OH|             39|           Ohio|       44|        11278|         1127805|           30852| DCA|Washington, DC|       VA|           51|     Virginia|     38|      1224|   1218|   -6.00|           0.00|    0.00|                  -1| 1200-1259|  16.00|     1234|    1327| 12.00|      1352|   1339|  -13.00|           0.00|    0.00|                -1| 1300-1359|     0.00|            NULL|    0.00|         88.00|            81.00|  53.00|   1.00|  323.00|            2|        NULL|        NULL|    NULL|         NULL|             NULL|        NULL|         NULL|           NULL|                 0|          NULL|                NULL|       NULL|       NULL|       NULL|         NULL|            NULL|        NULL|          NULL|            NULL|         NULL|       NULL|       NULL|         NULL|            NULL|        NULL|          NULL|            NULL|         NULL|       NULL|       NULL|         NULL|            NULL|        NULL|          NULL|            NULL|         NULL|       NULL|       NULL|         NULL|            NULL|        NULL|          NULL|            NULL|         NULL|       NULL|       NULL|         NULL|            NULL|        NULL|          NULL|            NULL|         NULL|       NULL| NULL|\n",
      "|2022|      1|    1|        17|        1|2022-01-17|               YX|                   20452|                         YX|     N405YX|                           4879|          11066|           1106606|             31066|   CMH|  Columbus, OH|         OH|             39|           Ohio|       44|        11278|         1127805|           30852| DCA|Washington, DC|       VA|           51|     Virginia|     38|      1224|   1217|   -7.00|           0.00|    0.00|                  -1| 1200-1259|  32.00|     1249|    1345| 16.00|      1352|   1401|    9.00|           9.00|    0.00|                 0| 1300-1359|     0.00|            NULL|    0.00|         88.00|           104.00|  56.00|   1.00|  323.00|            2|        NULL|        NULL|    NULL|         NULL|             NULL|        NULL|         NULL|           NULL|                 0|          NULL|                NULL|       NULL|       NULL|       NULL|         NULL|            NULL|        NULL|          NULL|            NULL|         NULL|       NULL|       NULL|         NULL|            NULL|        NULL|          NULL|            NULL|         NULL|       NULL|       NULL|         NULL|            NULL|        NULL|          NULL|            NULL|         NULL|       NULL|       NULL|         NULL|            NULL|        NULL|          NULL|            NULL|         NULL|       NULL|       NULL|         NULL|            NULL|        NULL|          NULL|            NULL|         NULL|       NULL| NULL|\n",
      "|2022|      1|    1|        18|        2|2022-01-18|               YX|                   20452|                         YX|     N420YX|                           4879|          11066|           1106606|             31066|   CMH|  Columbus, OH|         OH|             39|           Ohio|       44|        11278|         1127805|           30852| DCA|Washington, DC|       VA|           51|     Virginia|     38|      1224|   1218|   -6.00|           0.00|    0.00|                  -1| 1200-1259|  11.00|     1229|    1317|  6.00|      1352|   1323|  -29.00|           0.00|    0.00|                -2| 1300-1359|     0.00|            NULL|    0.00|         88.00|            65.00|  48.00|   1.00|  323.00|            2|        NULL|        NULL|    NULL|         NULL|             NULL|        NULL|         NULL|           NULL|                 0|          NULL|                NULL|       NULL|       NULL|       NULL|         NULL|            NULL|        NULL|          NULL|            NULL|         NULL|       NULL|       NULL|         NULL|            NULL|        NULL|          NULL|            NULL|         NULL|       NULL|       NULL|         NULL|            NULL|        NULL|          NULL|            NULL|         NULL|       NULL|       NULL|         NULL|            NULL|        NULL|          NULL|            NULL|         NULL|       NULL|       NULL|         NULL|            NULL|        NULL|          NULL|            NULL|         NULL|       NULL| NULL|\n",
      "+----+-------+-----+----------+---------+----------+-----------------+------------------------+---------------------------+-----------+-------------------------------+---------------+------------------+------------------+------+--------------+-----------+---------------+---------------+---------+-------------+----------------+----------------+----+--------------+---------+-------------+-------------+-------+----------+-------+--------+---------------+--------+--------------------+----------+-------+---------+--------+------+----------+-------+--------+---------------+--------+------------------+----------+---------+----------------+--------+--------------+-----------------+-------+-------+--------+-------------+------------+------------+--------+-------------+-----------------+------------+-------------+---------------+------------------+--------------+--------------------+-----------+-----------+-----------+-------------+----------------+------------+--------------+----------------+-------------+-----------+-----------+-------------+----------------+------------+--------------+----------------+-------------+-----------+-----------+-------------+----------------+------------+--------------+----------------+-------------+-----------+-----------+-------------+----------------+------------+--------------+----------------+-------------+-----------+-----------+-------------+----------------+------------+--------------+----------------+-------------+-----------+-----+\n",
      "only showing top 5 rows\n",
      "\n"
     ]
    },
    {
     "name": "stderr",
     "output_type": "stream",
     "text": [
      "25/05/08 23:36:14 WARN CSVHeaderChecker: CSV header does not conform to the schema.\n",
      " Header: Year, Quarter, Month, DayofMonth, DayOfWeek, FlightDate, Reporting_Airline, DOT_ID_Reporting_Airline, IATA_CODE_Reporting_Airline, Tail_Number, Flight_Number_Reporting_Airline, OriginAirportID, OriginAirportSeqID, OriginCityMarketID, Origin, OriginCityName, OriginState, OriginStateFips, OriginStateName, OriginWac, DestAirportID, DestAirportSeqID, DestCityMarketID, Dest, DestCityName, DestState, DestStateFips, DestStateName, DestWac, CRSDepTime, DepTime, DepDelay, DepDelayMinutes, DepDel15, DepartureDelayGroups, DepTimeBlk, TaxiOut, WheelsOff, WheelsOn, TaxiIn, CRSArrTime, ArrTime, ArrDelay, ArrDelayMinutes, ArrDel15, ArrivalDelayGroups, ArrTimeBlk, Cancelled, CancellationCode, Diverted, CRSElapsedTime, ActualElapsedTime, AirTime, Flights, Distance, DistanceGroup, CarrierDelay, WeatherDelay, NASDelay, SecurityDelay, LateAircraftDelay, FirstDepTime, TotalAddGTime, LongestAddGTime, DivAirportLandings, DivReachedDest, DivActualElapsedTime, DivArrDelay, DivDistance, Div1Airport, Div1AirportID, Div1AirportSeqID, Div1WheelsOn, Div1TotalGTime, Div1LongestGTime, Div1WheelsOff, Div1TailNum, Div2Airport, Div2AirportID, Div2AirportSeqID, Div2WheelsOn, Div2TotalGTime, Div2LongestGTime, Div2WheelsOff, Div2TailNum, Div3Airport, Div3AirportID, Div3AirportSeqID, Div3WheelsOn, Div3TotalGTime, Div3LongestGTime, Div3WheelsOff, Div3TailNum, Div4Airport, Div4AirportID, Div4AirportSeqID, Div4WheelsOn, Div4TotalGTime, Div4LongestGTime, Div4WheelsOff, Div4TailNum, Div5Airport, Div5AirportID, Div5AirportSeqID, Div5WheelsOn, Div5TotalGTime, Div5LongestGTime, Div5WheelsOff, Div5TailNum, \n",
      " Schema: Year, Quarter, Month, DayofMonth, DayOfWeek, FlightDate, Reporting_Airline, DOT_ID_Reporting_Airline, IATA_CODE_Reporting_Airline, Tail_Number, Flight_Number_Reporting_Airline, OriginAirportID, OriginAirportSeqID, OriginCityMarketID, Origin, OriginCityName, OriginState, OriginStateFips, OriginStateName, OriginWac, DestAirportID, DestAirportSeqID, DestCityMarketID, Dest, DestCityName, DestState, DestStateFips, DestStateName, DestWac, CRSDepTime, DepTime, DepDelay, DepDelayMinutes, DepDel15, DepartureDelayGroups, DepTimeBlk, TaxiOut, WheelsOff, WheelsOn, TaxiIn, CRSArrTime, ArrTime, ArrDelay, ArrDelayMinutes, ArrDel15, ArrivalDelayGroups, ArrTimeBlk, Cancelled, CancellationCode, Diverted, CRSElapsedTime, ActualElapsedTime, AirTime, Flights, Distance, DistanceGroup, CarrierDelay, WeatherDelay, NASDelay, SecurityDelay, LateAircraftDelay, FirstDepTime, TotalAddGTime, LongestAddGTime, DivAirportLandings, DivReachedDest, DivActualElapsedTime, DivArrDelay, DivDistance, Div1Airport, Div1AirportID, Div1AirportSeqID, Div1WheelsOn, Div1TotalGTime, Div1LongestGTime, Div1WheelsOff, Div1TailNum, Div2Airport, Div2AirportID, Div2AirportSeqID, Div2WheelsOn, Div2TotalGTime, Div2LongestGTime, Div2WheelsOff, Div2TailNum, Div3Airport, Div3AirportID, Div3AirportSeqID, Div3WheelsOn, Div3TotalGTime, Div3LongestGTime, Div3WheelsOff, Div3TailNum, Div4Airport, Div4AirportID, Div4AirportSeqID, Div4WheelsOn, Div4TotalGTime, Div4LongestGTime, Div4WheelsOff, Div4TailNum, Div5Airport, Div5AirportID, Div5AirportSeqID, Div5WheelsOn, Div5TotalGTime, Div5LongestGTime, Div5WheelsOff, Div5TailNum, _c109\n",
      "Expected: _c109 but found: \n",
      "CSV file: hdfs://localhost:9000/input/bigdataproject/2022_1.csv\n"
     ]
    }
   ],
   "source": [
    "from pyspark.sql import SparkSession\n",
    "\n",
    "spark = SparkSession.builder \\\n",
    "    .appName(\"ReadFromHDFS\") \\\n",
    "    .getOrCreate()\n",
    "\n",
    "# Read CSV file from HDFS\n",
    "df = spark.read.option(\"header\", \"true\").csv(\"hdfs://localhost:9000/input/bigdataproject/*.csv\")\n",
    "\n",
    "# Show results\n",
    "df.show(5)\n"
   ]
  },
  {
   "cell_type": "code",
   "execution_count": 3,
   "id": "d1c54f41",
   "metadata": {},
   "outputs": [
    {
     "name": "stdout",
     "output_type": "stream",
     "text": [
      "root\n",
      " |-- Year: string (nullable = true)\n",
      " |-- Quarter: string (nullable = true)\n",
      " |-- Month: string (nullable = true)\n",
      " |-- DayofMonth: string (nullable = true)\n",
      " |-- DayOfWeek: string (nullable = true)\n",
      " |-- FlightDate: string (nullable = true)\n",
      " |-- Reporting_Airline: string (nullable = true)\n",
      " |-- DOT_ID_Reporting_Airline: string (nullable = true)\n",
      " |-- IATA_CODE_Reporting_Airline: string (nullable = true)\n",
      " |-- Tail_Number: string (nullable = true)\n",
      " |-- Flight_Number_Reporting_Airline: string (nullable = true)\n",
      " |-- OriginAirportID: string (nullable = true)\n",
      " |-- OriginAirportSeqID: string (nullable = true)\n",
      " |-- OriginCityMarketID: string (nullable = true)\n",
      " |-- Origin: string (nullable = true)\n",
      " |-- OriginCityName: string (nullable = true)\n",
      " |-- OriginState: string (nullable = true)\n",
      " |-- OriginStateFips: string (nullable = true)\n",
      " |-- OriginStateName: string (nullable = true)\n",
      " |-- OriginWac: string (nullable = true)\n",
      " |-- DestAirportID: string (nullable = true)\n",
      " |-- DestAirportSeqID: string (nullable = true)\n",
      " |-- DestCityMarketID: string (nullable = true)\n",
      " |-- Dest: string (nullable = true)\n",
      " |-- DestCityName: string (nullable = true)\n",
      " |-- DestState: string (nullable = true)\n",
      " |-- DestStateFips: string (nullable = true)\n",
      " |-- DestStateName: string (nullable = true)\n",
      " |-- DestWac: string (nullable = true)\n",
      " |-- CRSDepTime: string (nullable = true)\n",
      " |-- DepTime: string (nullable = true)\n",
      " |-- DepDelay: string (nullable = true)\n",
      " |-- DepDelayMinutes: string (nullable = true)\n",
      " |-- DepDel15: string (nullable = true)\n",
      " |-- DepartureDelayGroups: string (nullable = true)\n",
      " |-- DepTimeBlk: string (nullable = true)\n",
      " |-- TaxiOut: string (nullable = true)\n",
      " |-- WheelsOff: string (nullable = true)\n",
      " |-- WheelsOn: string (nullable = true)\n",
      " |-- TaxiIn: string (nullable = true)\n",
      " |-- CRSArrTime: string (nullable = true)\n",
      " |-- ArrTime: string (nullable = true)\n",
      " |-- ArrDelay: string (nullable = true)\n",
      " |-- ArrDelayMinutes: string (nullable = true)\n",
      " |-- ArrDel15: string (nullable = true)\n",
      " |-- ArrivalDelayGroups: string (nullable = true)\n",
      " |-- ArrTimeBlk: string (nullable = true)\n",
      " |-- Cancelled: string (nullable = true)\n",
      " |-- CancellationCode: string (nullable = true)\n",
      " |-- Diverted: string (nullable = true)\n",
      " |-- CRSElapsedTime: string (nullable = true)\n",
      " |-- ActualElapsedTime: string (nullable = true)\n",
      " |-- AirTime: string (nullable = true)\n",
      " |-- Flights: string (nullable = true)\n",
      " |-- Distance: string (nullable = true)\n",
      " |-- DistanceGroup: string (nullable = true)\n",
      " |-- CarrierDelay: string (nullable = true)\n",
      " |-- WeatherDelay: string (nullable = true)\n",
      " |-- NASDelay: string (nullable = true)\n",
      " |-- SecurityDelay: string (nullable = true)\n",
      " |-- LateAircraftDelay: string (nullable = true)\n",
      " |-- FirstDepTime: string (nullable = true)\n",
      " |-- TotalAddGTime: string (nullable = true)\n",
      " |-- LongestAddGTime: string (nullable = true)\n",
      " |-- DivAirportLandings: string (nullable = true)\n",
      " |-- DivReachedDest: string (nullable = true)\n",
      " |-- DivActualElapsedTime: string (nullable = true)\n",
      " |-- DivArrDelay: string (nullable = true)\n",
      " |-- DivDistance: string (nullable = true)\n",
      " |-- Div1Airport: string (nullable = true)\n",
      " |-- Div1AirportID: string (nullable = true)\n",
      " |-- Div1AirportSeqID: string (nullable = true)\n",
      " |-- Div1WheelsOn: string (nullable = true)\n",
      " |-- Div1TotalGTime: string (nullable = true)\n",
      " |-- Div1LongestGTime: string (nullable = true)\n",
      " |-- Div1WheelsOff: string (nullable = true)\n",
      " |-- Div1TailNum: string (nullable = true)\n",
      " |-- Div2Airport: string (nullable = true)\n",
      " |-- Div2AirportID: string (nullable = true)\n",
      " |-- Div2AirportSeqID: string (nullable = true)\n",
      " |-- Div2WheelsOn: string (nullable = true)\n",
      " |-- Div2TotalGTime: string (nullable = true)\n",
      " |-- Div2LongestGTime: string (nullable = true)\n",
      " |-- Div2WheelsOff: string (nullable = true)\n",
      " |-- Div2TailNum: string (nullable = true)\n",
      " |-- Div3Airport: string (nullable = true)\n",
      " |-- Div3AirportID: string (nullable = true)\n",
      " |-- Div3AirportSeqID: string (nullable = true)\n",
      " |-- Div3WheelsOn: string (nullable = true)\n",
      " |-- Div3TotalGTime: string (nullable = true)\n",
      " |-- Div3LongestGTime: string (nullable = true)\n",
      " |-- Div3WheelsOff: string (nullable = true)\n",
      " |-- Div3TailNum: string (nullable = true)\n",
      " |-- Div4Airport: string (nullable = true)\n",
      " |-- Div4AirportID: string (nullable = true)\n",
      " |-- Div4AirportSeqID: string (nullable = true)\n",
      " |-- Div4WheelsOn: string (nullable = true)\n",
      " |-- Div4TotalGTime: string (nullable = true)\n",
      " |-- Div4LongestGTime: string (nullable = true)\n",
      " |-- Div4WheelsOff: string (nullable = true)\n",
      " |-- Div4TailNum: string (nullable = true)\n",
      " |-- Div5Airport: string (nullable = true)\n",
      " |-- Div5AirportID: string (nullable = true)\n",
      " |-- Div5AirportSeqID: string (nullable = true)\n",
      " |-- Div5WheelsOn: string (nullable = true)\n",
      " |-- Div5TotalGTime: string (nullable = true)\n",
      " |-- Div5LongestGTime: string (nullable = true)\n",
      " |-- Div5WheelsOff: string (nullable = true)\n",
      " |-- Div5TailNum: string (nullable = true)\n",
      " |-- _c109: string (nullable = true)\n",
      "\n"
     ]
    }
   ],
   "source": [
    "df.printSchema()"
   ]
  },
  {
   "cell_type": "code",
   "execution_count": 4,
   "id": "61e2d835",
   "metadata": {},
   "outputs": [
    {
     "data": {
      "text/plain": [
       "['Year',\n",
       " 'Quarter',\n",
       " 'Month',\n",
       " 'DayofMonth',\n",
       " 'DayOfWeek',\n",
       " 'FlightDate',\n",
       " 'Reporting_Airline',\n",
       " 'DOT_ID_Reporting_Airline',\n",
       " 'IATA_CODE_Reporting_Airline',\n",
       " 'Tail_Number',\n",
       " 'Flight_Number_Reporting_Airline',\n",
       " 'OriginAirportID',\n",
       " 'OriginAirportSeqID',\n",
       " 'OriginCityMarketID',\n",
       " 'Origin',\n",
       " 'OriginCityName',\n",
       " 'OriginState',\n",
       " 'OriginStateFips',\n",
       " 'OriginStateName',\n",
       " 'OriginWac',\n",
       " 'DestAirportID',\n",
       " 'DestAirportSeqID',\n",
       " 'DestCityMarketID',\n",
       " 'Dest',\n",
       " 'DestCityName',\n",
       " 'DestState',\n",
       " 'DestStateFips',\n",
       " 'DestStateName',\n",
       " 'DestWac',\n",
       " 'CRSDepTime',\n",
       " 'DepTime',\n",
       " 'DepDelay',\n",
       " 'DepDelayMinutes',\n",
       " 'DepDel15',\n",
       " 'DepartureDelayGroups',\n",
       " 'DepTimeBlk',\n",
       " 'TaxiOut',\n",
       " 'WheelsOff',\n",
       " 'WheelsOn',\n",
       " 'TaxiIn',\n",
       " 'CRSArrTime',\n",
       " 'ArrTime',\n",
       " 'ArrDelay',\n",
       " 'ArrDelayMinutes',\n",
       " 'ArrDel15',\n",
       " 'ArrivalDelayGroups',\n",
       " 'ArrTimeBlk',\n",
       " 'Cancelled',\n",
       " 'CancellationCode',\n",
       " 'Diverted',\n",
       " 'CRSElapsedTime',\n",
       " 'ActualElapsedTime',\n",
       " 'AirTime',\n",
       " 'Flights',\n",
       " 'Distance',\n",
       " 'DistanceGroup',\n",
       " 'CarrierDelay',\n",
       " 'WeatherDelay',\n",
       " 'NASDelay',\n",
       " 'SecurityDelay',\n",
       " 'LateAircraftDelay',\n",
       " 'FirstDepTime',\n",
       " 'TotalAddGTime',\n",
       " 'LongestAddGTime',\n",
       " 'DivAirportLandings',\n",
       " 'DivReachedDest',\n",
       " 'DivActualElapsedTime',\n",
       " 'DivArrDelay',\n",
       " 'DivDistance',\n",
       " 'Div1Airport',\n",
       " 'Div1AirportID',\n",
       " 'Div1AirportSeqID',\n",
       " 'Div1WheelsOn',\n",
       " 'Div1TotalGTime',\n",
       " 'Div1LongestGTime',\n",
       " 'Div1WheelsOff',\n",
       " 'Div1TailNum',\n",
       " 'Div2Airport',\n",
       " 'Div2AirportID',\n",
       " 'Div2AirportSeqID',\n",
       " 'Div2WheelsOn',\n",
       " 'Div2TotalGTime',\n",
       " 'Div2LongestGTime',\n",
       " 'Div2WheelsOff',\n",
       " 'Div2TailNum',\n",
       " 'Div3Airport',\n",
       " 'Div3AirportID',\n",
       " 'Div3AirportSeqID',\n",
       " 'Div3WheelsOn',\n",
       " 'Div3TotalGTime',\n",
       " 'Div3LongestGTime',\n",
       " 'Div3WheelsOff',\n",
       " 'Div3TailNum',\n",
       " 'Div4Airport',\n",
       " 'Div4AirportID',\n",
       " 'Div4AirportSeqID',\n",
       " 'Div4WheelsOn',\n",
       " 'Div4TotalGTime',\n",
       " 'Div4LongestGTime',\n",
       " 'Div4WheelsOff',\n",
       " 'Div4TailNum',\n",
       " 'Div5Airport',\n",
       " 'Div5AirportID',\n",
       " 'Div5AirportSeqID',\n",
       " 'Div5WheelsOn',\n",
       " 'Div5TotalGTime',\n",
       " 'Div5LongestGTime',\n",
       " 'Div5WheelsOff',\n",
       " 'Div5TailNum',\n",
       " '_c109']"
      ]
     },
     "execution_count": 4,
     "metadata": {},
     "output_type": "execute_result"
    }
   ],
   "source": [
    "df.columns"
   ]
  },
  {
   "cell_type": "code",
   "execution_count": 2,
   "id": "a4463ff2",
   "metadata": {},
   "outputs": [],
   "source": [
    "#Keep columns with time, airline details, routes, airline delays, delay reasons, delay \n",
    "\n",
    "df = df.select('Year',\t'Quarter',\t'Month',\t'DayofMonth',\t'DayOfWeek',\t'FlightDate',\t'Reporting_Airline',\t'DOT_ID_Reporting_Airline',\t'IATA_CODE_Reporting_Airline',\t'Tail_Number',\t'Flight_Number_Reporting_Airline',\t'OriginAirportID',\t'OriginAirportSeqID',\t'OriginCityMarketID',\t'Origin',\t'OriginCityName',\t'OriginState',\t'OriginStateFips',\t'OriginStateName',\t'OriginWac',\t'DestAirportID',\t'DestAirportSeqID',\t'DestCityMarketID',\t'Dest',\t'DestCityName',\t'DestState',\t'DestStateFips',\t'DestStateName',\t'DestWac',\t'CRSDepTime',\t'DepTime',\t'DepDelay',\t'DepDelayMinutes',\t'DepDel15',\t'DepartureDelayGroups',\t'DepTimeBlk',\t'TaxiOut',\t'WheelsOff',\t'WheelsOn',\t'TaxiIn',\t'CRSArrTime',\t'ArrTime',\t'ArrDelay',\t'ArrDelayMinutes',\t'ArrDel15',\t'ArrivalDelayGroups',\t'ArrTimeBlk',\t'Cancelled',\t'CancellationCode',\t'Diverted',\t'CRSElapsedTime',\t'ActualElapsedTime',\t'AirTime',\t'Flights',\t'Distance',\t'DistanceGroup',\t'CarrierDelay',\t'WeatherDelay',\t'NASDelay',\t'SecurityDelay',\t'LateAircraftDelay')\n"
   ]
  },
  {
   "cell_type": "code",
   "execution_count": 6,
   "id": "d7fcaf2c",
   "metadata": {},
   "outputs": [
    {
     "name": "stderr",
     "output_type": "stream",
     "text": [
      "[Stage 4:======================================================>(111 + 1) / 112]\r"
     ]
    },
    {
     "name": "stdout",
     "output_type": "stream",
     "text": [
      "Total number of rows: 31339836\n"
     ]
    },
    {
     "name": "stderr",
     "output_type": "stream",
     "text": [
      "                                                                                \r"
     ]
    }
   ],
   "source": [
    "#Count rows\n",
    "row_count = df.count()\n",
    "print(f\"Total number of rows: {row_count}\")"
   ]
  },
  {
   "cell_type": "code",
   "execution_count": 4,
   "id": "b5fb6a00",
   "metadata": {},
   "outputs": [],
   "source": [
    "#Group by routes, airlines and calculate average delays, number of delayed flights,cancelled_flights, total flights\n",
    "df.createOrReplaceTempView(\"df_flights\")\n",
    "df_overall_summ = spark.sql(\"\"\"\n",
    "    SELECT Year, Quarter, Month,DayOfWeek, Origin,OriginCityName,OriginState,OriginStateName, Dest, \n",
    "                       DestCityName,\tDestState, DestStateName, Reporting_Airline, \n",
    "\n",
    "           SUM(CASE WHEN Cancelled = 1 THEN 1 ELSE 0 END) AS Cancelledflights,\n",
    "            SUM(CASE WHEN Diverted = 1 THEN 1 ELSE 0 END) AS DivertedFlights,\n",
    "            COUNT(*) AS TotalFlights,\n",
    "            Sum(DepDel15) AS DepartureDelayedFlights,\n",
    "            Sum(ArrDel15) AS ArrivalDelayedFlights,\n",
    "            sum(CASE WHEN DepDel15 =1 THEN DepDelay ELSE 0 END) AS TotalDepDelay_gt_15M,\n",
    "            sum(CASE WHEN ArrDel15 =1 THEN ArrDelay ELSE 0 END) AS TotalArrDelay_gt_15M,\n",
    "            sum(DepDelay) AS TotalDepDelay,\n",
    "            sum(ArrDelay) AS TotalArrDelay,\n",
    "            sum(DepDelayMinutes) AS TotalDepDelayMinutes,\n",
    "            sum(ArrDelayMinutes) AS TotalArrDelayMinutes,\n",
    "            sum(CarrierDelay) AS TotalCarrierDelay,\n",
    "            sum(WeatherDelay) AS TotalWeatherDelay,\n",
    "            sum(NASDelay) AS TotalNASDelay,\n",
    "            sum(SecurityDelay) AS TotalSecurityDelay,\n",
    "            sum(LateAircraftDelay) AS TotalLateAircraftDelay\n",
    "            \n",
    "    FROM df_flights\n",
    "    GROUP BY Year, Quarter, Month,DayOfWeek, Origin,OriginCityName,OriginState,OriginStateName, Dest, \n",
    "                       DestCityName,\tDestState, DestStateName, Reporting_Airline\n",
    "    \n",
    "\"\"\")\n",
    "#Count rows\n",
    "# grouped_row_count = df_grouped.count()\n",
    "# print(f\"Total number of rows: {grouped_row_count}\")"
   ]
  },
  {
   "cell_type": "code",
   "execution_count": 5,
   "id": "03f1598c",
   "metadata": {},
   "outputs": [
    {
     "name": "stderr",
     "output_type": "stream",
     "text": [
      "                                                                                \r"
     ]
    }
   ],
   "source": [
    "#Export to CSV\n",
    "df_overall_summ.coalesce(1).write.csv(\"hdfs://localhost:9000/user/aishanee/airline_delays_master_summary.csv\", header=True, mode=\"overwrite\")"
   ]
  },
  {
   "cell_type": "code",
   "execution_count": 6,
   "id": "38533c01",
   "metadata": {},
   "outputs": [],
   "source": [
    "#Read the CSV file from HDFS\n",
    "df_overall_summ= spark.read.option(\"header\", \"true\").csv(\"hdfs://localhost:9000/user/aishanee/airline_delays_master_summary.csv\")"
   ]
  },
  {
   "cell_type": "code",
   "execution_count": 8,
   "id": "a7dbf926",
   "metadata": {},
   "outputs": [],
   "source": [
    "#Summarize for time series analysis\n",
    "df_overall_summ.createOrReplaceTempView(\"df_overall_summ\")\n",
    "df_time_series_summ = spark.sql(\"\"\"\n",
    "    SELECT Year, Quarter, Month,DayOfWeek, Reporting_Airline,\n",
    "            SUM(CancelledFlights) AS CancelledFlights,\n",
    "            SUM(DivertedFlights) AS DivertedFlights,\n",
    "            COUNT(*) AS TotalFlights,\n",
    "            Sum(DepartureDelayedFlights) AS DepartureDelayedFlights,\n",
    "            Sum(ArrivalDelayedFlights) AS ArrivalDelayedFlights,\n",
    "            sum(TotalDepDelay_gt_15M) AS TotalDepDelay_gt_15M,\n",
    "            sum(TotalArrDelay_gt_15M) AS TotalArrDelay_gt_15M,\n",
    "            sum(TotalDepDelay) AS TotalDepDelay,\n",
    "            sum(TotalArrDelay) AS TotalArrDelay,\n",
    "            sum(TotalDepDelayMinutes) AS TotalDepDelayMinutes,\n",
    "            sum(TotalArrDelayMinutes) AS TotalArrDelayMinutes,\n",
    "            sum(TotalCarrierDelay) AS TotalCarrierDelay,\n",
    "            sum(TotalWeatherDelay) AS TotalWeatherDelay,\n",
    "            sum(TotalNASDelay) AS TotalNASDelay,\n",
    "            sum(TotalSecurityDelay) AS TotalSecurityDelay,\n",
    "            sum(TotalLateAircraftDelay) AS TotalLateAircraftDelay\n",
    "            \n",
    "    FROM df_overall_summ\n",
    "    GROUP BY Year, Quarter, Month,DayOfWeek,Reporting_Airline\n",
    "    \n",
    "\"\"\")"
   ]
  },
  {
   "cell_type": "code",
   "execution_count": 9,
   "id": "5cb66834",
   "metadata": {},
   "outputs": [
    {
     "name": "stderr",
     "output_type": "stream",
     "text": [
      "                                                                                \r"
     ]
    }
   ],
   "source": [
    "df_time_series_summ.coalesce(1).write.csv(\"hdfs://localhost:9000/user/aishanee/airline_delays_time_series_summary.csv\", header=True, mode=\"overwrite\")"
   ]
  },
  {
   "cell_type": "code",
   "execution_count": 9,
   "id": "66c40386",
   "metadata": {},
   "outputs": [
    {
     "name": "stderr",
     "output_type": "stream",
     "text": [
      "[Stage 15:>                                                       (0 + 12) / 13]\r"
     ]
    },
    {
     "name": "stdout",
     "output_type": "stream",
     "text": [
      "Total number of rows: 211023\n"
     ]
    },
    {
     "name": "stderr",
     "output_type": "stream",
     "text": [
      "                                                                                \r"
     ]
    }
   ],
   "source": [
    "#Group by routes, airlines and calculate average delays, number of delayed flights,cancelled_flights, total flights\n",
    "df.createOrReplaceTempView(\"df_flights\")\n",
    "df_summary_2 = spark.sql(\"\"\"\n",
    "    SELECT Year, Origin,OriginCityName,OriginState,OriginStateName, Dest, \n",
    "                       DestCityName,\tDestState, DestStateName, Reporting_Airline, \n",
    "\n",
    "           SUM(CASE WHEN Cancelled = 1 THEN 1 ELSE 0 END) AS Cancelledflights,\n",
    "            SUM(CASE WHEN Diverted = 1 THEN 1 ELSE 0 END) AS DivertedFlights,\n",
    "            COUNT(*) AS TotalFlights,\n",
    "            Sum(DepDel15) AS dep_delayed_flights_gt15M,\n",
    "            Sum(ArrDel15) AS arr_delayed_flights_gt15M,\n",
    "            sum(CASE WHEN DepDel15 =1 THEN DepDelay ELSE 0 END) AS TotalDepDelay_gt_15M,\n",
    "            sum(CASE WHEN ArrDel15 =1 THEN ArrDelay ELSE 0 END) AS TotalArrDelay_gt_15M,\n",
    "            sum(DepDelay) AS TotalDepDelay,\n",
    "           sum(ArrDelay) AS TotalArrDelay,\n",
    "            sum(DepDelayMinutes) AS TotalDepDelayMinutes,\n",
    "            sum(ArrDelayMinutes) AS TotalArrDelayMinutes,\n",
    "            sum(CarrierDelay) AS TotalCarrierDelay,\n",
    "            sum(WeatherDelay) AS TotalWeatherDelay,\n",
    "            sum(NASDelay) AS TotalNASDelay,\n",
    "            sum(SecurityDelay) AS TotalSecurityDelay,\n",
    "            sum(LateAircraftDelay) AS TotalLateAircraftDelay\n",
    "            \n",
    "    FROM df_flights\n",
    "    GROUP BY Year,Origin,OriginCityName,OriginState,OriginStateName, Dest, \n",
    "                       DestCityName,\tDestState, DestStateName, Reporting_Airline\n",
    "    ORDER BY TotalFlights DESC\n",
    "\"\"\")\n",
    "#Count rows\n",
    "grouped_row_count = df_summary_2.count()\n",
    "print(f\"Total number of rows: {grouped_row_count}\")"
   ]
  },
  {
   "cell_type": "code",
   "execution_count": null,
   "id": "8f860f9f",
   "metadata": {},
   "outputs": [
    {
     "name": "stderr",
     "output_type": "stream",
     "text": [
      "                                                                                \r"
     ]
    }
   ],
   "source": [
    "#Export to CSV\n",
    "df_summary_2.coalesce(1).write.csv(\"hdfs://localhost:9000/user/aishanee/airline_delays.csv\", header=True, mode=\"overwrite\")"
   ]
  },
  {
   "cell_type": "code",
   "execution_count": 3,
   "id": "ee320063",
   "metadata": {},
   "outputs": [],
   "source": [
    "#Read the CSV file from HDFS\n",
    "df_summ3= spark.read.option(\"header\", \"true\").csv(\"hdfs://localhost:9000/user/aishanee/airline_delays.csv\")"
   ]
  },
  {
   "cell_type": "code",
   "execution_count": 4,
   "id": "9c3d42f5",
   "metadata": {},
   "outputs": [
    {
     "name": "stderr",
     "output_type": "stream",
     "text": [
      "                                                                                \r"
     ]
    }
   ],
   "source": [
    "df_summ3.repartition(2).write.csv(\"hdfs://localhost:9000/user/aishanee/airline_delays_5years.csv\", header=True, mode=\"overwrite\")\n"
   ]
  },
  {
   "cell_type": "code",
   "execution_count": null,
   "id": "38af1471",
   "metadata": {},
   "outputs": [],
   "source": [
    "# Stop the Spark session\n",
    "spark.stop()"
   ]
  },
  {
   "cell_type": "code",
   "execution_count": null,
   "id": "512f89ce",
   "metadata": {},
   "outputs": [],
   "source": []
  }
 ],
 "metadata": {
  "kernelspec": {
   "display_name": "vespa",
   "language": "python",
   "name": "python3"
  },
  "language_info": {
   "codemirror_mode": {
    "name": "ipython",
    "version": 3
   },
   "file_extension": ".py",
   "mimetype": "text/x-python",
   "name": "python",
   "nbconvert_exporter": "python",
   "pygments_lexer": "ipython3",
   "version": "3.10.4"
  }
 },
 "nbformat": 4,
 "nbformat_minor": 5
}
