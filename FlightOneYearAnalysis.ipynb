{
 "cells": [
  {
   "cell_type": "code",
   "execution_count": 1,
   "id": "a04cf54b-4fe2-4e53-9777-b5303a1b6b37",
   "metadata": {},
   "outputs": [],
   "source": [
    "import os\n",
    "os.environ['PYSPARK_PYTHON'] = '/Users/sheethalsupriya/Documents/python_env/bin/python3'\n",
    "os.environ['PYSPARK_DRIVER_PYTHON'] = '/Users/sheethalsupriya/Documents/python_env/bin/python3'\n"
   ]
  },
  {
   "cell_type": "code",
   "execution_count": 2,
   "id": "56965881-b1de-4666-b1ff-9872265aa6f1",
   "metadata": {
    "scrolled": true
   },
   "outputs": [
    {
     "name": "stdout",
     "output_type": "stream",
     "text": [
      "Requirement already satisfied: pyspark in /Users/sheethalsupriya/Documents/python_env/lib/python3.12/site-packages (3.5.5)\n",
      "Requirement already satisfied: py4j==0.10.9.7 in /Users/sheethalsupriya/Documents/python_env/lib/python3.12/site-packages (from pyspark) (0.10.9.7)\n",
      "\n",
      "\u001b[1m[\u001b[0m\u001b[34;49mnotice\u001b[0m\u001b[1;39;49m]\u001b[0m\u001b[39;49m A new release of pip is available: \u001b[0m\u001b[31;49m24.3.1\u001b[0m\u001b[39;49m -> \u001b[0m\u001b[32;49m25.1.1\u001b[0m\n",
      "\u001b[1m[\u001b[0m\u001b[34;49mnotice\u001b[0m\u001b[1;39;49m]\u001b[0m\u001b[39;49m To update, run: \u001b[0m\u001b[32;49mpip install --upgrade pip\u001b[0m\n",
      "Note: you may need to restart the kernel to use updated packages.\n"
     ]
    }
   ],
   "source": [
    "pip install pyspark\n"
   ]
  },
  {
   "cell_type": "code",
   "execution_count": 3,
   "id": "9f9f0a4a-f421-4fd7-8ea2-ff12e74c74e4",
   "metadata": {},
   "outputs": [
    {
     "name": "stderr",
     "output_type": "stream",
     "text": [
      "Setting default log level to \"WARN\".\n",
      "To adjust logging level use sc.setLogLevel(newLevel). For SparkR, use setLogLevel(newLevel).\n",
      "25/05/09 17:36:08 WARN NativeCodeLoader: Unable to load native-hadoop library for your platform... using builtin-java classes where applicable\n"
     ]
    }
   ],
   "source": [
    "\n",
    "from pyspark.sql import SparkSession\n",
    "\n",
    "spark = SparkSession.builder \\\n",
    "    .appName(\"Flight Delay Analysis\") \\\n",
    "    .master(\"local[*]\") \\\n",
    "    .getOrCreate()\n"
   ]
  },
  {
   "cell_type": "code",
   "execution_count": 4,
   "id": "3e951332-e31f-4eb6-9c5f-7dd7476f0cf3",
   "metadata": {},
   "outputs": [
    {
     "name": "stderr",
     "output_type": "stream",
     "text": [
      "25/05/09 17:36:51 WARN SparkStringUtils: Truncated the string representation of a plan since it was too large. This behavior can be adjusted by setting 'spark.sql.debug.maxToStringFields'.\n"
     ]
    },
    {
     "name": "stdout",
     "output_type": "stream",
     "text": [
      "+----+-------+-----+----------+---------+----------+-----------------+------------------------+---------------------------+-----------+-------------------------------+---------------+------------------+------------------+------+--------------+-----------+---------------+---------------+---------+-------------+----------------+----------------+----+------------+---------+-------------+-------------+-------+----------+-------+--------+---------------+--------+--------------------+----------+-------+---------+--------+------+----------+-------+--------+---------------+--------+------------------+----------+---------+----------------+--------+--------------+-----------------+-------+-------+--------+-------------+------------+------------+--------+-------------+-----------------+------------+-------------+---------------+------------------+--------------+--------------------+-----------+-----------+-----------+-------------+----------------+------------+--------------+----------------+-------------+-----------+-----------+-------------+----------------+------------+--------------+----------------+-------------+-----------+-----------+-------------+----------------+------------+--------------+----------------+-------------+-----------+-----------+-------------+----------------+------------+--------------+----------------+-------------+-----------+-----------+-------------+----------------+------------+--------------+----------------+-------------+-----------+-----+\n",
      "|Year|Quarter|Month|DayofMonth|DayOfWeek|FlightDate|Reporting_Airline|DOT_ID_Reporting_Airline|IATA_CODE_Reporting_Airline|Tail_Number|Flight_Number_Reporting_Airline|OriginAirportID|OriginAirportSeqID|OriginCityMarketID|Origin|OriginCityName|OriginState|OriginStateFips|OriginStateName|OriginWac|DestAirportID|DestAirportSeqID|DestCityMarketID|Dest|DestCityName|DestState|DestStateFips|DestStateName|DestWac|CRSDepTime|DepTime|DepDelay|DepDelayMinutes|DepDel15|DepartureDelayGroups|DepTimeBlk|TaxiOut|WheelsOff|WheelsOn|TaxiIn|CRSArrTime|ArrTime|ArrDelay|ArrDelayMinutes|ArrDel15|ArrivalDelayGroups|ArrTimeBlk|Cancelled|CancellationCode|Diverted|CRSElapsedTime|ActualElapsedTime|AirTime|Flights|Distance|DistanceGroup|CarrierDelay|WeatherDelay|NASDelay|SecurityDelay|LateAircraftDelay|FirstDepTime|TotalAddGTime|LongestAddGTime|DivAirportLandings|DivReachedDest|DivActualElapsedTime|DivArrDelay|DivDistance|Div1Airport|Div1AirportID|Div1AirportSeqID|Div1WheelsOn|Div1TotalGTime|Div1LongestGTime|Div1WheelsOff|Div1TailNum|Div2Airport|Div2AirportID|Div2AirportSeqID|Div2WheelsOn|Div2TotalGTime|Div2LongestGTime|Div2WheelsOff|Div2TailNum|Div3Airport|Div3AirportID|Div3AirportSeqID|Div3WheelsOn|Div3TotalGTime|Div3LongestGTime|Div3WheelsOff|Div3TailNum|Div4Airport|Div4AirportID|Div4AirportSeqID|Div4WheelsOn|Div4TotalGTime|Div4LongestGTime|Div4WheelsOff|Div4TailNum|Div5Airport|Div5AirportID|Div5AirportSeqID|Div5WheelsOn|Div5TotalGTime|Div5LongestGTime|Div5WheelsOff|Div5TailNum|_c109|\n",
      "+----+-------+-----+----------+---------+----------+-----------------+------------------------+---------------------------+-----------+-------------------------------+---------------+------------------+------------------+------+--------------+-----------+---------------+---------------+---------+-------------+----------------+----------------+----+------------+---------+-------------+-------------+-------+----------+-------+--------+---------------+--------+--------------------+----------+-------+---------+--------+------+----------+-------+--------+---------------+--------+------------------+----------+---------+----------------+--------+--------------+-----------------+-------+-------+--------+-------------+------------+------------+--------+-------------+-----------------+------------+-------------+---------------+------------------+--------------+--------------------+-----------+-----------+-----------+-------------+----------------+------------+--------------+----------------+-------------+-----------+-----------+-------------+----------------+------------+--------------+----------------+-------------+-----------+-----------+-------------+----------------+------------+--------------+----------------+-------------+-----------+-----------+-------------+----------------+------------+--------------+----------------+-------------+-----------+-----------+-------------+----------------+------------+--------------+----------------+-------------+-----------+-----+\n",
      "|2024|      1|    1|         8|        1|2024-01-08|               9E|                   20363|                         9E|     N485PX|                           4801|          12953|           1295304|             31703|   LGA|  New York, NY|         NY|             36|       New York|       22|        13871|         1387102|           33316| OMA|   Omaha, NE|       NE|           31|     Nebraska|     65|       856|    851|    -5.0|            0.0|     0.0|                  -1| 0800-0859|   25.0|      916|    1120|   4.0|      1135|   1124|   -11.0|            0.0|     0.0|                -1| 1100-1159|      0.0|            NULL|     0.0|         219.0|            213.0|  184.0|    1.0|  1148.0|            5|        NULL|        NULL|    NULL|         NULL|             NULL|        NULL|         NULL|           NULL|                 0|          NULL|                NULL|       NULL|       NULL|       NULL|         NULL|            NULL|        NULL|          NULL|            NULL|         NULL|       NULL|       NULL|         NULL|            NULL|        NULL|          NULL|            NULL|         NULL|       NULL|       NULL|         NULL|            NULL|        NULL|          NULL|            NULL|         NULL|       NULL|       NULL|         NULL|            NULL|        NULL|          NULL|            NULL|         NULL|       NULL|       NULL|         NULL|            NULL|        NULL|          NULL|            NULL|         NULL|       NULL| NULL|\n",
      "|2024|      1|    1|         9|        2|2024-01-09|               9E|                   20363|                         9E|     N912XJ|                           4801|          12953|           1295304|             31703|   LGA|  New York, NY|         NY|             36|       New York|       22|        13871|         1387102|           33316| OMA|   Omaha, NE|       NE|           31|     Nebraska|     65|       856|    851|    -5.0|            0.0|     0.0|                  -1| 0800-0859|   16.0|      907|    1055|  12.0|      1135|   1107|   -28.0|            0.0|     0.0|                -2| 1100-1159|      0.0|            NULL|     0.0|         219.0|            196.0|  168.0|    1.0|  1148.0|            5|        NULL|        NULL|    NULL|         NULL|             NULL|        NULL|         NULL|           NULL|                 0|          NULL|                NULL|       NULL|       NULL|       NULL|         NULL|            NULL|        NULL|          NULL|            NULL|         NULL|       NULL|       NULL|         NULL|            NULL|        NULL|          NULL|            NULL|         NULL|       NULL|       NULL|         NULL|            NULL|        NULL|          NULL|            NULL|         NULL|       NULL|       NULL|         NULL|            NULL|        NULL|          NULL|            NULL|         NULL|       NULL|       NULL|         NULL|            NULL|        NULL|          NULL|            NULL|         NULL|       NULL| NULL|\n",
      "|2024|      1|    1|        10|        3|2024-01-10|               9E|                   20363|                         9E|     N918XJ|                           4801|          12953|           1295304|             31703|   LGA|  New York, NY|         NY|             36|       New York|       22|        13871|         1387102|           33316| OMA|   Omaha, NE|       NE|           31|     Nebraska|     65|       856|    850|    -6.0|            0.0|     0.0|                  -1| 0800-0859|   17.0|      907|    1104|   6.0|      1135|   1110|   -25.0|            0.0|     0.0|                -2| 1100-1159|      0.0|            NULL|     0.0|         219.0|            200.0|  177.0|    1.0|  1148.0|            5|        NULL|        NULL|    NULL|         NULL|             NULL|        NULL|         NULL|           NULL|                 0|          NULL|                NULL|       NULL|       NULL|       NULL|         NULL|            NULL|        NULL|          NULL|            NULL|         NULL|       NULL|       NULL|         NULL|            NULL|        NULL|          NULL|            NULL|         NULL|       NULL|       NULL|         NULL|            NULL|        NULL|          NULL|            NULL|         NULL|       NULL|       NULL|         NULL|            NULL|        NULL|          NULL|            NULL|         NULL|       NULL|       NULL|         NULL|            NULL|        NULL|          NULL|            NULL|         NULL|       NULL| NULL|\n",
      "|2024|      1|    1|        11|        4|2024-01-11|               9E|                   20363|                         9E|     N490PX|                           4801|          12953|           1295304|             31703|   LGA|  New York, NY|         NY|             36|       New York|       22|        13871|         1387102|           33316| OMA|   Omaha, NE|       NE|           31|     Nebraska|     65|       856|    919|    23.0|           23.0|     1.0|                   1| 0800-0859|   27.0|      946|    1154|   8.0|      1135|   1202|    27.0|           27.0|     1.0|                 1| 1100-1159|      0.0|            NULL|     0.0|         219.0|            223.0|  188.0|    1.0|  1148.0|            5|         0.0|         0.0|     4.0|          0.0|             23.0|        NULL|         NULL|           NULL|                 0|          NULL|                NULL|       NULL|       NULL|       NULL|         NULL|            NULL|        NULL|          NULL|            NULL|         NULL|       NULL|       NULL|         NULL|            NULL|        NULL|          NULL|            NULL|         NULL|       NULL|       NULL|         NULL|            NULL|        NULL|          NULL|            NULL|         NULL|       NULL|       NULL|         NULL|            NULL|        NULL|          NULL|            NULL|         NULL|       NULL|       NULL|         NULL|            NULL|        NULL|          NULL|            NULL|         NULL|       NULL| NULL|\n",
      "|2024|      1|    1|        12|        5|2024-01-12|               9E|                   20363|                         9E|     N915XJ|                           4801|          12953|           1295304|             31703|   LGA|  New York, NY|         NY|             36|       New York|       22|        13871|         1387102|           33316| OMA|   Omaha, NE|       NE|           31|     Nebraska|     65|       856|    851|    -5.0|            0.0|     0.0|                  -1| 0800-0859|   24.0|      915|    1120|  17.0|      1135|   1137|     2.0|            2.0|     0.0|                 0| 1100-1159|      0.0|            NULL|     0.0|         219.0|            226.0|  185.0|    1.0|  1148.0|            5|        NULL|        NULL|    NULL|         NULL|             NULL|        NULL|         NULL|           NULL|                 0|          NULL|                NULL|       NULL|       NULL|       NULL|         NULL|            NULL|        NULL|          NULL|            NULL|         NULL|       NULL|       NULL|         NULL|            NULL|        NULL|          NULL|            NULL|         NULL|       NULL|       NULL|         NULL|            NULL|        NULL|          NULL|            NULL|         NULL|       NULL|       NULL|         NULL|            NULL|        NULL|          NULL|            NULL|         NULL|       NULL|       NULL|         NULL|            NULL|        NULL|          NULL|            NULL|         NULL|       NULL| NULL|\n",
      "+----+-------+-----+----------+---------+----------+-----------------+------------------------+---------------------------+-----------+-------------------------------+---------------+------------------+------------------+------+--------------+-----------+---------------+---------------+---------+-------------+----------------+----------------+----+------------+---------+-------------+-------------+-------+----------+-------+--------+---------------+--------+--------------------+----------+-------+---------+--------+------+----------+-------+--------+---------------+--------+------------------+----------+---------+----------------+--------+--------------+-----------------+-------+-------+--------+-------------+------------+------------+--------+-------------+-----------------+------------+-------------+---------------+------------------+--------------+--------------------+-----------+-----------+-----------+-------------+----------------+------------+--------------+----------------+-------------+-----------+-----------+-------------+----------------+------------+--------------+----------------+-------------+-----------+-----------+-------------+----------------+------------+--------------+----------------+-------------+-----------+-----------+-------------+----------------+------------+--------------+----------------+-------------+-----------+-----------+-------------+----------------+------------+--------------+----------------+-------------+-----------+-----+\n",
      "only showing top 5 rows\n",
      "\n",
      "root\n",
      " |-- Year: integer (nullable = true)\n",
      " |-- Quarter: integer (nullable = true)\n",
      " |-- Month: integer (nullable = true)\n",
      " |-- DayofMonth: integer (nullable = true)\n",
      " |-- DayOfWeek: integer (nullable = true)\n",
      " |-- FlightDate: date (nullable = true)\n",
      " |-- Reporting_Airline: string (nullable = true)\n",
      " |-- DOT_ID_Reporting_Airline: integer (nullable = true)\n",
      " |-- IATA_CODE_Reporting_Airline: string (nullable = true)\n",
      " |-- Tail_Number: string (nullable = true)\n",
      " |-- Flight_Number_Reporting_Airline: integer (nullable = true)\n",
      " |-- OriginAirportID: integer (nullable = true)\n",
      " |-- OriginAirportSeqID: integer (nullable = true)\n",
      " |-- OriginCityMarketID: integer (nullable = true)\n",
      " |-- Origin: string (nullable = true)\n",
      " |-- OriginCityName: string (nullable = true)\n",
      " |-- OriginState: string (nullable = true)\n",
      " |-- OriginStateFips: integer (nullable = true)\n",
      " |-- OriginStateName: string (nullable = true)\n",
      " |-- OriginWac: integer (nullable = true)\n",
      " |-- DestAirportID: integer (nullable = true)\n",
      " |-- DestAirportSeqID: integer (nullable = true)\n",
      " |-- DestCityMarketID: integer (nullable = true)\n",
      " |-- Dest: string (nullable = true)\n",
      " |-- DestCityName: string (nullable = true)\n",
      " |-- DestState: string (nullable = true)\n",
      " |-- DestStateFips: integer (nullable = true)\n",
      " |-- DestStateName: string (nullable = true)\n",
      " |-- DestWac: integer (nullable = true)\n",
      " |-- CRSDepTime: integer (nullable = true)\n",
      " |-- DepTime: integer (nullable = true)\n",
      " |-- DepDelay: double (nullable = true)\n",
      " |-- DepDelayMinutes: double (nullable = true)\n",
      " |-- DepDel15: double (nullable = true)\n",
      " |-- DepartureDelayGroups: integer (nullable = true)\n",
      " |-- DepTimeBlk: string (nullable = true)\n",
      " |-- TaxiOut: double (nullable = true)\n",
      " |-- WheelsOff: integer (nullable = true)\n",
      " |-- WheelsOn: integer (nullable = true)\n",
      " |-- TaxiIn: double (nullable = true)\n",
      " |-- CRSArrTime: integer (nullable = true)\n",
      " |-- ArrTime: integer (nullable = true)\n",
      " |-- ArrDelay: double (nullable = true)\n",
      " |-- ArrDelayMinutes: double (nullable = true)\n",
      " |-- ArrDel15: double (nullable = true)\n",
      " |-- ArrivalDelayGroups: integer (nullable = true)\n",
      " |-- ArrTimeBlk: string (nullable = true)\n",
      " |-- Cancelled: double (nullable = true)\n",
      " |-- CancellationCode: string (nullable = true)\n",
      " |-- Diverted: double (nullable = true)\n",
      " |-- CRSElapsedTime: double (nullable = true)\n",
      " |-- ActualElapsedTime: double (nullable = true)\n",
      " |-- AirTime: double (nullable = true)\n",
      " |-- Flights: double (nullable = true)\n",
      " |-- Distance: double (nullable = true)\n",
      " |-- DistanceGroup: integer (nullable = true)\n",
      " |-- CarrierDelay: double (nullable = true)\n",
      " |-- WeatherDelay: double (nullable = true)\n",
      " |-- NASDelay: double (nullable = true)\n",
      " |-- SecurityDelay: double (nullable = true)\n",
      " |-- LateAircraftDelay: double (nullable = true)\n",
      " |-- FirstDepTime: integer (nullable = true)\n",
      " |-- TotalAddGTime: double (nullable = true)\n",
      " |-- LongestAddGTime: double (nullable = true)\n",
      " |-- DivAirportLandings: integer (nullable = true)\n",
      " |-- DivReachedDest: double (nullable = true)\n",
      " |-- DivActualElapsedTime: double (nullable = true)\n",
      " |-- DivArrDelay: double (nullable = true)\n",
      " |-- DivDistance: double (nullable = true)\n",
      " |-- Div1Airport: string (nullable = true)\n",
      " |-- Div1AirportID: integer (nullable = true)\n",
      " |-- Div1AirportSeqID: integer (nullable = true)\n",
      " |-- Div1WheelsOn: integer (nullable = true)\n",
      " |-- Div1TotalGTime: double (nullable = true)\n",
      " |-- Div1LongestGTime: double (nullable = true)\n",
      " |-- Div1WheelsOff: integer (nullable = true)\n",
      " |-- Div1TailNum: string (nullable = true)\n",
      " |-- Div2Airport: string (nullable = true)\n",
      " |-- Div2AirportID: integer (nullable = true)\n",
      " |-- Div2AirportSeqID: integer (nullable = true)\n",
      " |-- Div2WheelsOn: integer (nullable = true)\n",
      " |-- Div2TotalGTime: double (nullable = true)\n",
      " |-- Div2LongestGTime: double (nullable = true)\n",
      " |-- Div2WheelsOff: integer (nullable = true)\n",
      " |-- Div2TailNum: string (nullable = true)\n",
      " |-- Div3Airport: string (nullable = true)\n",
      " |-- Div3AirportID: integer (nullable = true)\n",
      " |-- Div3AirportSeqID: integer (nullable = true)\n",
      " |-- Div3WheelsOn: integer (nullable = true)\n",
      " |-- Div3TotalGTime: double (nullable = true)\n",
      " |-- Div3LongestGTime: double (nullable = true)\n",
      " |-- Div3WheelsOff: integer (nullable = true)\n",
      " |-- Div3TailNum: string (nullable = true)\n",
      " |-- Div4Airport: string (nullable = true)\n",
      " |-- Div4AirportID: string (nullable = true)\n",
      " |-- Div4AirportSeqID: string (nullable = true)\n",
      " |-- Div4WheelsOn: string (nullable = true)\n",
      " |-- Div4TotalGTime: string (nullable = true)\n",
      " |-- Div4LongestGTime: string (nullable = true)\n",
      " |-- Div4WheelsOff: string (nullable = true)\n",
      " |-- Div4TailNum: string (nullable = true)\n",
      " |-- Div5Airport: string (nullable = true)\n",
      " |-- Div5AirportID: string (nullable = true)\n",
      " |-- Div5AirportSeqID: string (nullable = true)\n",
      " |-- Div5WheelsOn: string (nullable = true)\n",
      " |-- Div5TotalGTime: string (nullable = true)\n",
      " |-- Div5LongestGTime: string (nullable = true)\n",
      " |-- Div5WheelsOff: string (nullable = true)\n",
      " |-- Div5TailNum: string (nullable = true)\n",
      " |-- _c109: string (nullable = true)\n",
      "\n"
     ]
    },
    {
     "name": "stderr",
     "output_type": "stream",
     "text": [
      "25/05/09 17:36:52 WARN CSVHeaderChecker: CSV header does not conform to the schema.\n",
      " Header: Year, Quarter, Month, DayofMonth, DayOfWeek, FlightDate, Reporting_Airline, DOT_ID_Reporting_Airline, IATA_CODE_Reporting_Airline, Tail_Number, Flight_Number_Reporting_Airline, OriginAirportID, OriginAirportSeqID, OriginCityMarketID, Origin, OriginCityName, OriginState, OriginStateFips, OriginStateName, OriginWac, DestAirportID, DestAirportSeqID, DestCityMarketID, Dest, DestCityName, DestState, DestStateFips, DestStateName, DestWac, CRSDepTime, DepTime, DepDelay, DepDelayMinutes, DepDel15, DepartureDelayGroups, DepTimeBlk, TaxiOut, WheelsOff, WheelsOn, TaxiIn, CRSArrTime, ArrTime, ArrDelay, ArrDelayMinutes, ArrDel15, ArrivalDelayGroups, ArrTimeBlk, Cancelled, CancellationCode, Diverted, CRSElapsedTime, ActualElapsedTime, AirTime, Flights, Distance, DistanceGroup, CarrierDelay, WeatherDelay, NASDelay, SecurityDelay, LateAircraftDelay, FirstDepTime, TotalAddGTime, LongestAddGTime, DivAirportLandings, DivReachedDest, DivActualElapsedTime, DivArrDelay, DivDistance, Div1Airport, Div1AirportID, Div1AirportSeqID, Div1WheelsOn, Div1TotalGTime, Div1LongestGTime, Div1WheelsOff, Div1TailNum, Div2Airport, Div2AirportID, Div2AirportSeqID, Div2WheelsOn, Div2TotalGTime, Div2LongestGTime, Div2WheelsOff, Div2TailNum, Div3Airport, Div3AirportID, Div3AirportSeqID, Div3WheelsOn, Div3TotalGTime, Div3LongestGTime, Div3WheelsOff, Div3TailNum, Div4Airport, Div4AirportID, Div4AirportSeqID, Div4WheelsOn, Div4TotalGTime, Div4LongestGTime, Div4WheelsOff, Div4TailNum, Div5Airport, Div5AirportID, Div5AirportSeqID, Div5WheelsOn, Div5TotalGTime, Div5LongestGTime, Div5WheelsOff, Div5TailNum, \n",
      " Schema: Year, Quarter, Month, DayofMonth, DayOfWeek, FlightDate, Reporting_Airline, DOT_ID_Reporting_Airline, IATA_CODE_Reporting_Airline, Tail_Number, Flight_Number_Reporting_Airline, OriginAirportID, OriginAirportSeqID, OriginCityMarketID, Origin, OriginCityName, OriginState, OriginStateFips, OriginStateName, OriginWac, DestAirportID, DestAirportSeqID, DestCityMarketID, Dest, DestCityName, DestState, DestStateFips, DestStateName, DestWac, CRSDepTime, DepTime, DepDelay, DepDelayMinutes, DepDel15, DepartureDelayGroups, DepTimeBlk, TaxiOut, WheelsOff, WheelsOn, TaxiIn, CRSArrTime, ArrTime, ArrDelay, ArrDelayMinutes, ArrDel15, ArrivalDelayGroups, ArrTimeBlk, Cancelled, CancellationCode, Diverted, CRSElapsedTime, ActualElapsedTime, AirTime, Flights, Distance, DistanceGroup, CarrierDelay, WeatherDelay, NASDelay, SecurityDelay, LateAircraftDelay, FirstDepTime, TotalAddGTime, LongestAddGTime, DivAirportLandings, DivReachedDest, DivActualElapsedTime, DivArrDelay, DivDistance, Div1Airport, Div1AirportID, Div1AirportSeqID, Div1WheelsOn, Div1TotalGTime, Div1LongestGTime, Div1WheelsOff, Div1TailNum, Div2Airport, Div2AirportID, Div2AirportSeqID, Div2WheelsOn, Div2TotalGTime, Div2LongestGTime, Div2WheelsOff, Div2TailNum, Div3Airport, Div3AirportID, Div3AirportSeqID, Div3WheelsOn, Div3TotalGTime, Div3LongestGTime, Div3WheelsOff, Div3TailNum, Div4Airport, Div4AirportID, Div4AirportSeqID, Div4WheelsOn, Div4TotalGTime, Div4LongestGTime, Div4WheelsOff, Div4TailNum, Div5Airport, Div5AirportID, Div5AirportSeqID, Div5WheelsOn, Div5TotalGTime, Div5LongestGTime, Div5WheelsOff, Div5TailNum, _c109\n",
      "Expected: _c109 but found: \n",
      "CSV file: hdfs://localhost:9000/user/ssn/airline_data/On_Time_Reporting_Carrier_On_Time_Performance_(1987_present)_2024_1.csv\n"
     ]
    }
   ],
   "source": [
    "df = spark.read \\\n",
    "    .option(\"header\", \"true\") \\\n",
    "    .option(\"inferSchema\", \"true\") \\\n",
    "    .csv(\"hdfs://localhost:9000/user/ssn/airline_data/*.csv\")\n",
    "df.show(5)\n",
    "df.printSchema()\n"
   ]
  },
  {
   "cell_type": "markdown",
   "id": "64ed69d1-0e98-41e0-96d4-c3ff1a8dd1ef",
   "metadata": {},
   "source": [
    "### Average Departure and Arrival Delays by Day of Week"
   ]
  },
  {
   "cell_type": "code",
   "execution_count": 5,
   "id": "8006585e-2957-46fe-b07d-cf640e6eeb5d",
   "metadata": {},
   "outputs": [
    {
     "name": "stdout",
     "output_type": "stream",
     "text": [
      " Average Departure and Arrival Delays by Day of Week:\n"
     ]
    },
    {
     "name": "stderr",
     "output_type": "stream",
     "text": [
      "[Stage 3:======================================================>  (24 + 1) / 25]\r"
     ]
    },
    {
     "name": "stdout",
     "output_type": "stream",
     "text": [
      "+---------+------------------+-----------------+\n",
      "|DayOfWeek|       AvgDepDelay|      AvgArrDelay|\n",
      "+---------+------------------+-----------------+\n",
      "|        1|12.732981348582861|7.025029487104243|\n",
      "|        2|10.461864081536971| 4.39359769421264|\n",
      "|        3|10.415939915930556|4.825223011256957|\n",
      "|        4|13.155883724303209|8.178800868027931|\n",
      "|        5|14.662681586274218|9.607454169575464|\n",
      "|        6|12.589481874313925|6.453122999593656|\n",
      "|        7|14.393895904811984|8.774946156229994|\n",
      "+---------+------------------+-----------------+\n",
      "\n"
     ]
    },
    {
     "name": "stderr",
     "output_type": "stream",
     "text": [
      "                                                                                \r"
     ]
    }
   ],
   "source": [
    "from pyspark.sql.functions import avg\n",
    "\n",
    "print(\" Average Departure and Arrival Delays by Day of Week:\")\n",
    "df.groupBy(\"DayOfWeek\") \\\n",
    "  .agg(\n",
    "      avg(\"DepDelay\").alias(\"AvgDepDelay\"),\n",
    "      avg(\"ArrDelay\").alias(\"AvgArrDelay\")\n",
    "  ).orderBy(\"DayOfWeek\").show()\n",
    "\n"
   ]
  },
  {
   "cell_type": "markdown",
   "id": "a6f94841-6619-444c-8396-7d891dc7eaa8",
   "metadata": {},
   "source": [
    "### On-Time Performance by Airline\n"
   ]
  },
  {
   "cell_type": "code",
   "execution_count": 7,
   "id": "8a8b4da9-138e-4d19-9715-992b3b22b452",
   "metadata": {},
   "outputs": [
    {
     "name": "stdout",
     "output_type": "stream",
     "text": [
      "=== On-Time Performance by Airline (Percentage Delayed) ===\n"
     ]
    },
    {
     "name": "stderr",
     "output_type": "stream",
     "text": [
      "                                                                                \r"
     ]
    },
    {
     "name": "stdout",
     "output_type": "stream",
     "text": [
      "+-----------------+------------------+\n",
      "|Reporting_Airline|    PercentDelayed|\n",
      "+-----------------+------------------+\n",
      "|               F9|27.714623254263543|\n",
      "|               B6|25.813607592262382|\n",
      "|               AA|25.612785921213167|\n",
      "|               NK|24.986245566390018|\n",
      "|               WN|23.374933501523874|\n",
      "|               G4|21.248231628464058|\n",
      "|               AS|20.125457613486073|\n",
      "|               OH|19.807406945292342|\n",
      "|               UA|19.026934726811405|\n",
      "|               MQ|18.770980065542904|\n",
      "|               DL|17.169085448517738|\n",
      "|               OO|17.152771175967295|\n",
      "|               9E|14.923573031066503|\n",
      "|               HA|13.306404929441578|\n",
      "|               YX| 11.72645694492272|\n",
      "+-----------------+------------------+\n",
      "\n"
     ]
    }
   ],
   "source": [
    "print(\"=== On-Time Performance by Airline (Percentage Delayed) ===\")\n",
    "df.groupBy(\"Reporting_Airline\") \\\n",
    "  .agg((avg(\"DepDel15\") * 100).alias(\"PercentDelayed\")) \\\n",
    "  .orderBy(\"PercentDelayed\", ascending=False).show()\n"
   ]
  },
  {
   "cell_type": "markdown",
   "id": "744ffb32-dc0c-4cfc-bd4d-9a4b57caed73",
   "metadata": {},
   "source": [
    "### Cancellation Rate by Origin Airport"
   ]
  },
  {
   "cell_type": "code",
   "execution_count": 8,
   "id": "7ba37252-69cd-4778-948f-114b603ca523",
   "metadata": {},
   "outputs": [
    {
     "name": "stdout",
     "output_type": "stream",
     "text": [
      "=== Cancellation Rate by Origin Airport ===\n"
     ]
    },
    {
     "name": "stderr",
     "output_type": "stream",
     "text": [
      "[Stage 9:======================================================>  (24 + 1) / 25]\r"
     ]
    },
    {
     "name": "stdout",
     "output_type": "stream",
     "text": [
      "+------+------------------+\n",
      "|Origin|        CancelRate|\n",
      "+------+------------------+\n",
      "|   EWN|7.8431372549019605|\n",
      "|   ADK|7.6923076923076925|\n",
      "|   BIH| 6.934306569343065|\n",
      "|   GST| 6.666666666666667|\n",
      "|   ASE|  6.54158215010142|\n",
      "|   EAU| 6.451612903225806|\n",
      "|   CNY| 6.451612903225806|\n",
      "|   OTZ|6.0109289617486334|\n",
      "|   JMS| 5.691056910569105|\n",
      "|   ACK| 5.492537313432836|\n",
      "|   BRW|  5.21978021978022|\n",
      "|   MVY| 4.837209302325581|\n",
      "|   DVL| 4.277286135693215|\n",
      "|   CMX|  4.10958904109589|\n",
      "|   PBG| 3.992015968063872|\n",
      "|   MCW|3.6682615629984054|\n",
      "|   LAR|3.6682615629984054|\n",
      "|   OME|3.5616438356164384|\n",
      "|   LBL|  3.53356890459364|\n",
      "|   SRQ| 3.524473797913709|\n",
      "+------+------------------+\n",
      "only showing top 20 rows\n",
      "\n"
     ]
    },
    {
     "name": "stderr",
     "output_type": "stream",
     "text": [
      "                                                                                \r"
     ]
    }
   ],
   "source": [
    "print(\"=== Cancellation Rate by Origin Airport ===\")\n",
    "df.groupBy(\"Origin\") \\\n",
    "  .agg((avg(\"Cancelled\") * 100).alias(\"CancelRate\")) \\\n",
    "  .orderBy(\"CancelRate\", ascending=False).show()\n"
   ]
  },
  {
   "cell_type": "markdown",
   "id": "31e7aff7-ea02-4e91-a1e1-95cf0f3f78cf",
   "metadata": {},
   "source": [
    "### Busiest Airports by Number of Departures"
   ]
  },
  {
   "cell_type": "code",
   "execution_count": 9,
   "id": "65dfe668-c5d3-4855-9390-100d46d6725a",
   "metadata": {},
   "outputs": [
    {
     "name": "stdout",
     "output_type": "stream",
     "text": [
      "=== Busiest Airports (by Departure Count) ===\n"
     ]
    },
    {
     "name": "stderr",
     "output_type": "stream",
     "text": [
      "[Stage 12:=====================================================>  (24 + 1) / 25]\r"
     ]
    },
    {
     "name": "stdout",
     "output_type": "stream",
     "text": [
      "+------+------+\n",
      "|Origin| count|\n",
      "+------+------+\n",
      "|   ATL|341910|\n",
      "|   DFW|313582|\n",
      "|   DEN|308645|\n",
      "|   ORD|280052|\n",
      "|   CLT|217555|\n",
      "|   LAX|194053|\n",
      "|   PHX|193551|\n",
      "|   LAS|189252|\n",
      "|   SEA|163724|\n",
      "|   LGA|162432|\n",
      "|   MCO|159553|\n",
      "|   BOS|143490|\n",
      "|   DCA|140016|\n",
      "|   SFO|134978|\n",
      "|   DTW|131367|\n",
      "|   EWR|128979|\n",
      "|   MSP|126779|\n",
      "|   JFK|123348|\n",
      "|   IAH|115940|\n",
      "|   SLC|113247|\n",
      "+------+------+\n",
      "only showing top 20 rows\n",
      "\n"
     ]
    },
    {
     "name": "stderr",
     "output_type": "stream",
     "text": [
      "                                                                                \r"
     ]
    }
   ],
   "source": [
    "print(\"=== Busiest Airports (by Departure Count) ===\")\n",
    "df.groupBy(\"Origin\") \\\n",
    "  .count() \\\n",
    "  .orderBy(\"count\", ascending=False) \\\n",
    "  .show()\n"
   ]
  },
  {
   "cell_type": "markdown",
   "id": "110e2cf9-956c-4a41-b828-acd70e75dcc3",
   "metadata": {},
   "source": [
    "### Hourly Delay Trends"
   ]
  },
  {
   "cell_type": "code",
   "execution_count": 10,
   "id": "58b53f05-6e51-4c4c-8b41-d65e4aefde68",
   "metadata": {},
   "outputs": [
    {
     "name": "stdout",
     "output_type": "stream",
     "text": [
      "=== Average Departure Delay by Time Block ===\n"
     ]
    },
    {
     "name": "stderr",
     "output_type": "stream",
     "text": [
      "[Stage 15:=====================================================>  (24 + 1) / 25]\r"
     ]
    },
    {
     "name": "stdout",
     "output_type": "stream",
     "text": [
      "+----------+------------------+\n",
      "|DepTimeBlk|          AvgDelay|\n",
      "+----------+------------------+\n",
      "| 0001-0559| 6.031159056004206|\n",
      "| 0600-0659| 4.012741915358007|\n",
      "| 0700-0759| 4.915185412825241|\n",
      "| 0800-0859|5.8123940817767235|\n",
      "| 0900-0959|7.2120234012507565|\n",
      "| 1000-1059| 8.692152857333463|\n",
      "| 1100-1159| 9.910065399503678|\n",
      "| 1200-1259|11.455687940597732|\n",
      "| 1300-1359|12.918527332372836|\n",
      "| 1400-1459|14.583383139587006|\n",
      "| 1500-1559|15.885922541070121|\n",
      "| 1600-1659|17.315141657037724|\n",
      "| 1700-1759|18.022344182342078|\n",
      "| 1800-1859|19.832197808105196|\n",
      "| 1900-1959|20.771263782688784|\n",
      "| 2000-2059|21.345682217350614|\n",
      "| 2100-2159| 20.41499668961578|\n",
      "| 2200-2259|19.852344343902498|\n",
      "| 2300-2359|15.426155580608794|\n",
      "+----------+------------------+\n",
      "\n"
     ]
    },
    {
     "name": "stderr",
     "output_type": "stream",
     "text": [
      "                                                                                \r"
     ]
    }
   ],
   "source": [
    "print(\"=== Average Departure Delay by Time Block ===\")\n",
    "df.groupBy(\"DepTimeBlk\") \\\n",
    "  .agg(avg(\"DepDelay\").alias(\"AvgDelay\")) \\\n",
    "  .orderBy(\"DepTimeBlk\") \\\n",
    "  .show()\n"
   ]
  },
  {
   "cell_type": "markdown",
   "id": "66767b12-c78a-4cf2-9fef-8a24568847bb",
   "metadata": {},
   "source": [
    "### Top Delayed Routes"
   ]
  },
  {
   "cell_type": "code",
   "execution_count": 12,
   "id": "271a5904-84f0-43be-be2f-891c6ef4c8fb",
   "metadata": {},
   "outputs": [
    {
     "name": "stdout",
     "output_type": "stream",
     "text": [
      "=== Top Delayed Routes by Average Arrival Delay ===\n"
     ]
    },
    {
     "name": "stderr",
     "output_type": "stream",
     "text": [
      "[Stage 18:=====================================================>  (24 + 1) / 25]\r"
     ]
    },
    {
     "name": "stdout",
     "output_type": "stream",
     "text": [
      "+----------+-----------------+\n",
      "|     Route|      AvgArrDelay|\n",
      "+----------+-----------------+\n",
      "|JFK -> LGA|            755.0|\n",
      "|SDF -> SLC|            365.0|\n",
      "|IAD -> MSN|            325.0|\n",
      "|AVL -> USA|            310.0|\n",
      "|SRQ -> IAH|            299.6|\n",
      "|IAH -> SDF|            194.0|\n",
      "|MVY -> CLT|190.0909090909091|\n",
      "|PIE -> VPS|            178.0|\n",
      "|OKC -> CAE|            171.0|\n",
      "|LAX -> ATW|            164.0|\n",
      "+----------+-----------------+\n",
      "only showing top 10 rows\n",
      "\n"
     ]
    },
    {
     "name": "stderr",
     "output_type": "stream",
     "text": [
      "                                                                                \r"
     ]
    }
   ],
   "source": [
    "\n",
    "from pyspark.sql.functions import concat_ws\n",
    "\n",
    "print(\"=== Top Delayed Routes by Average Arrival Delay ===\")\n",
    "df.withColumn(\"Route\", concat_ws(\" -> \", \"Origin\", \"Dest\")) \\\n",
    "  .groupBy(\"Route\") \\\n",
    "  .agg(avg(\"ArrDelay\").alias(\"AvgArrDelay\")) \\\n",
    "  .orderBy(\"AvgArrDelay\", ascending=False) \\\n",
    "  .show(10)\n"
   ]
  },
  {
   "cell_type": "code",
   "execution_count": null,
   "id": "47439c01-d272-4c23-a7f2-669a63a8f0cd",
   "metadata": {},
   "outputs": [],
   "source": []
  }
 ],
 "metadata": {
  "kernelspec": {
   "display_name": "python_env",
   "language": "python",
   "name": "python_env"
  },
  "language_info": {
   "codemirror_mode": {
    "name": "ipython",
    "version": 3
   },
   "file_extension": ".py",
   "mimetype": "text/x-python",
   "name": "python",
   "nbconvert_exporter": "python",
   "pygments_lexer": "ipython3",
   "version": "3.12.6"
  }
 },
 "nbformat": 4,
 "nbformat_minor": 5
}
