{
 "cells": [
  {
   "cell_type": "code",
   "execution_count": 3,
   "id": "07285cc0",
   "metadata": {},
   "outputs": [
    {
     "name": "stderr",
     "output_type": "stream",
     "text": [
      "25/05/03 13:47:01 WARN Utils: Your hostname, Shubhams-MacBook-Air.local resolves to a loopback address: 127.0.0.1; using 10.251.62.189 instead (on interface en0)\n",
      "25/05/03 13:47:01 WARN Utils: Set SPARK_LOCAL_IP if you need to bind to another address\n",
      "Setting default log level to \"WARN\".\n",
      "To adjust logging level use sc.setLogLevel(newLevel). For SparkR, use setLogLevel(newLevel).\n",
      "25/05/03 13:47:01 WARN NativeCodeLoader: Unable to load native-hadoop library for your platform... using builtin-java classes where applicable\n",
      "25/05/03 13:47:05 WARN SparkStringUtils: Truncated the string representation of a plan since it was too large. This behavior can be adjusted by setting 'spark.sql.debug.maxToStringFields'.\n",
      "25/05/03 13:47:05 WARN CSVHeaderChecker: CSV header does not conform to the schema.\n",
      " Header: Year, Quarter, Month, DayofMonth, DayOfWeek, FlightDate, Reporting_Airline, DOT_ID_Reporting_Airline, IATA_CODE_Reporting_Airline, Tail_Number, Flight_Number_Reporting_Airline, OriginAirportID, OriginAirportSeqID, OriginCityMarketID, Origin, OriginCityName, OriginState, OriginStateFips, OriginStateName, OriginWac, DestAirportID, DestAirportSeqID, DestCityMarketID, Dest, DestCityName, DestState, DestStateFips, DestStateName, DestWac, CRSDepTime, DepTime, DepDelay, DepDelayMinutes, DepDel15, DepartureDelayGroups, DepTimeBlk, TaxiOut, WheelsOff, WheelsOn, TaxiIn, CRSArrTime, ArrTime, ArrDelay, ArrDelayMinutes, ArrDel15, ArrivalDelayGroups, ArrTimeBlk, Cancelled, CancellationCode, Diverted, CRSElapsedTime, ActualElapsedTime, AirTime, Flights, Distance, DistanceGroup, CarrierDelay, WeatherDelay, NASDelay, SecurityDelay, LateAircraftDelay, FirstDepTime, TotalAddGTime, LongestAddGTime, DivAirportLandings, DivReachedDest, DivActualElapsedTime, DivArrDelay, DivDistance, Div1Airport, Div1AirportID, Div1AirportSeqID, Div1WheelsOn, Div1TotalGTime, Div1LongestGTime, Div1WheelsOff, Div1TailNum, Div2Airport, Div2AirportID, Div2AirportSeqID, Div2WheelsOn, Div2TotalGTime, Div2LongestGTime, Div2WheelsOff, Div2TailNum, Div3Airport, Div3AirportID, Div3AirportSeqID, Div3WheelsOn, Div3TotalGTime, Div3LongestGTime, Div3WheelsOff, Div3TailNum, Div4Airport, Div4AirportID, Div4AirportSeqID, Div4WheelsOn, Div4TotalGTime, Div4LongestGTime, Div4WheelsOff, Div4TailNum, Div5Airport, Div5AirportID, Div5AirportSeqID, Div5WheelsOn, Div5TotalGTime, Div5LongestGTime, Div5WheelsOff, Div5TailNum, \n",
      " Schema: Year, Quarter, Month, DayofMonth, DayOfWeek, FlightDate, Reporting_Airline, DOT_ID_Reporting_Airline, IATA_CODE_Reporting_Airline, Tail_Number, Flight_Number_Reporting_Airline, OriginAirportID, OriginAirportSeqID, OriginCityMarketID, Origin, OriginCityName, OriginState, OriginStateFips, OriginStateName, OriginWac, DestAirportID, DestAirportSeqID, DestCityMarketID, Dest, DestCityName, DestState, DestStateFips, DestStateName, DestWac, CRSDepTime, DepTime, DepDelay, DepDelayMinutes, DepDel15, DepartureDelayGroups, DepTimeBlk, TaxiOut, WheelsOff, WheelsOn, TaxiIn, CRSArrTime, ArrTime, ArrDelay, ArrDelayMinutes, ArrDel15, ArrivalDelayGroups, ArrTimeBlk, Cancelled, CancellationCode, Diverted, CRSElapsedTime, ActualElapsedTime, AirTime, Flights, Distance, DistanceGroup, CarrierDelay, WeatherDelay, NASDelay, SecurityDelay, LateAircraftDelay, FirstDepTime, TotalAddGTime, LongestAddGTime, DivAirportLandings, DivReachedDest, DivActualElapsedTime, DivArrDelay, DivDistance, Div1Airport, Div1AirportID, Div1AirportSeqID, Div1WheelsOn, Div1TotalGTime, Div1LongestGTime, Div1WheelsOff, Div1TailNum, Div2Airport, Div2AirportID, Div2AirportSeqID, Div2WheelsOn, Div2TotalGTime, Div2LongestGTime, Div2WheelsOff, Div2TailNum, Div3Airport, Div3AirportID, Div3AirportSeqID, Div3WheelsOn, Div3TotalGTime, Div3LongestGTime, Div3WheelsOff, Div3TailNum, Div4Airport, Div4AirportID, Div4AirportSeqID, Div4WheelsOn, Div4TotalGTime, Div4LongestGTime, Div4WheelsOff, Div4TailNum, Div5Airport, Div5AirportID, Div5AirportSeqID, Div5WheelsOn, Div5TotalGTime, Div5LongestGTime, Div5WheelsOff, Div5TailNum, _c109\n",
      "Expected: _c109 but found: \n",
      "CSV file: hdfs://localhost:9000/user/ketkimaddiwar/airline_data/2024_06.csv\n"
     ]
    },
    {
     "name": "stdout",
     "output_type": "stream",
     "text": [
      "+----+-------+-----+----------+---------+----------+-----------------+------------------------+---------------------------+-----------+-------------------------------+---------------+------------------+------------------+------+--------------+-----------+---------------+---------------+---------+-------------+----------------+----------------+----+------------+---------+-------------+-------------+-------+----------+-------+--------+---------------+--------+--------------------+----------+-------+---------+--------+------+----------+-------+--------+---------------+--------+------------------+----------+---------+----------------+--------+--------------+-----------------+-------+-------+--------+-------------+------------+------------+--------+-------------+-----------------+------------+-------------+---------------+------------------+--------------+--------------------+-----------+-----------+-----------+-------------+----------------+------------+--------------+----------------+-------------+-----------+-----------+-------------+----------------+------------+--------------+----------------+-------------+-----------+-----------+-------------+----------------+------------+--------------+----------------+-------------+-----------+-----------+-------------+----------------+------------+--------------+----------------+-------------+-----------+-----------+-------------+----------------+------------+--------------+----------------+-------------+-----------+-----+\n",
      "|Year|Quarter|Month|DayofMonth|DayOfWeek|FlightDate|Reporting_Airline|DOT_ID_Reporting_Airline|IATA_CODE_Reporting_Airline|Tail_Number|Flight_Number_Reporting_Airline|OriginAirportID|OriginAirportSeqID|OriginCityMarketID|Origin|OriginCityName|OriginState|OriginStateFips|OriginStateName|OriginWac|DestAirportID|DestAirportSeqID|DestCityMarketID|Dest|DestCityName|DestState|DestStateFips|DestStateName|DestWac|CRSDepTime|DepTime|DepDelay|DepDelayMinutes|DepDel15|DepartureDelayGroups|DepTimeBlk|TaxiOut|WheelsOff|WheelsOn|TaxiIn|CRSArrTime|ArrTime|ArrDelay|ArrDelayMinutes|ArrDel15|ArrivalDelayGroups|ArrTimeBlk|Cancelled|CancellationCode|Diverted|CRSElapsedTime|ActualElapsedTime|AirTime|Flights|Distance|DistanceGroup|CarrierDelay|WeatherDelay|NASDelay|SecurityDelay|LateAircraftDelay|FirstDepTime|TotalAddGTime|LongestAddGTime|DivAirportLandings|DivReachedDest|DivActualElapsedTime|DivArrDelay|DivDistance|Div1Airport|Div1AirportID|Div1AirportSeqID|Div1WheelsOn|Div1TotalGTime|Div1LongestGTime|Div1WheelsOff|Div1TailNum|Div2Airport|Div2AirportID|Div2AirportSeqID|Div2WheelsOn|Div2TotalGTime|Div2LongestGTime|Div2WheelsOff|Div2TailNum|Div3Airport|Div3AirportID|Div3AirportSeqID|Div3WheelsOn|Div3TotalGTime|Div3LongestGTime|Div3WheelsOff|Div3TailNum|Div4Airport|Div4AirportID|Div4AirportSeqID|Div4WheelsOn|Div4TotalGTime|Div4LongestGTime|Div4WheelsOff|Div4TailNum|Div5Airport|Div5AirportID|Div5AirportSeqID|Div5WheelsOn|Div5TotalGTime|Div5LongestGTime|Div5WheelsOff|Div5TailNum|_c109|\n",
      "+----+-------+-----+----------+---------+----------+-----------------+------------------------+---------------------------+-----------+-------------------------------+---------------+------------------+------------------+------+--------------+-----------+---------------+---------------+---------+-------------+----------------+----------------+----+------------+---------+-------------+-------------+-------+----------+-------+--------+---------------+--------+--------------------+----------+-------+---------+--------+------+----------+-------+--------+---------------+--------+------------------+----------+---------+----------------+--------+--------------+-----------------+-------+-------+--------+-------------+------------+------------+--------+-------------+-----------------+------------+-------------+---------------+------------------+--------------+--------------------+-----------+-----------+-----------+-------------+----------------+------------+--------------+----------------+-------------+-----------+-----------+-------------+----------------+------------+--------------+----------------+-------------+-----------+-----------+-------------+----------------+------------+--------------+----------------+-------------+-----------+-----------+-------------+----------------+------------+--------------+----------------+-------------+-----------+-----------+-------------+----------------+------------+--------------+----------------+-------------+-----------+-----+\n",
      "|2024|      2|    6|         7|        5|2024-06-07|               9E|                   20363|                         9E|     N272PQ|                           4800|          10994|           1099402|             30994|   CHS|Charleston, SC|         SC|             45| South Carolina|       37|        12478|         1247805|           31703| JFK|New York, NY|       NY|           36|     New York|     22|      0700|   0650|  -10.00|           0.00|    0.00|                  -1| 0700-0759|  15.00|     0705|    0830| 11.00|      0900|   0841|  -19.00|           0.00|    0.00|                -2| 0900-0959|     0.00|            NULL|    0.00|        120.00|           111.00|  85.00|   1.00|  636.00|            3|        NULL|        NULL|    NULL|         NULL|             NULL|        NULL|         NULL|           NULL|                 0|          NULL|                NULL|       NULL|       NULL|       NULL|         NULL|            NULL|        NULL|          NULL|            NULL|         NULL|       NULL|       NULL|         NULL|            NULL|        NULL|          NULL|            NULL|         NULL|       NULL|       NULL|         NULL|            NULL|        NULL|          NULL|            NULL|         NULL|       NULL|       NULL|         NULL|            NULL|        NULL|          NULL|            NULL|         NULL|       NULL|       NULL|         NULL|            NULL|        NULL|          NULL|            NULL|         NULL|       NULL| NULL|\n",
      "|2024|      2|    6|         8|        6|2024-06-08|               9E|                   20363|                         9E|     N302PQ|                           4800|          10994|           1099402|             30994|   CHS|Charleston, SC|         SC|             45| South Carolina|       37|        12478|         1247805|           31703| JFK|New York, NY|       NY|           36|     New York|     22|      0700|   0654|   -6.00|           0.00|    0.00|                  -1| 0700-0759|  14.00|     0708|    0841|  8.00|      0900|   0849|  -11.00|           0.00|    0.00|                -1| 0900-0959|     0.00|            NULL|    0.00|        120.00|           115.00|  93.00|   1.00|  636.00|            3|        NULL|        NULL|    NULL|         NULL|             NULL|        NULL|         NULL|           NULL|                 0|          NULL|                NULL|       NULL|       NULL|       NULL|         NULL|            NULL|        NULL|          NULL|            NULL|         NULL|       NULL|       NULL|         NULL|            NULL|        NULL|          NULL|            NULL|         NULL|       NULL|       NULL|         NULL|            NULL|        NULL|          NULL|            NULL|         NULL|       NULL|       NULL|         NULL|            NULL|        NULL|          NULL|            NULL|         NULL|       NULL|       NULL|         NULL|            NULL|        NULL|          NULL|            NULL|         NULL|       NULL| NULL|\n",
      "|2024|      2|    6|         9|        7|2024-06-09|               9E|                   20363|                         9E|     N676CA|                           4800|          10994|           1099402|             30994|   CHS|Charleston, SC|         SC|             45| South Carolina|       37|        12478|         1247805|           31703| JFK|New York, NY|       NY|           36|     New York|     22|      0700|   0656|   -4.00|           0.00|    0.00|                  -1| 0700-0759|  14.00|     0710|    0840|  8.00|      0900|   0848|  -12.00|           0.00|    0.00|                -1| 0900-0959|     0.00|            NULL|    0.00|        120.00|           112.00|  90.00|   1.00|  636.00|            3|        NULL|        NULL|    NULL|         NULL|             NULL|        NULL|         NULL|           NULL|                 0|          NULL|                NULL|       NULL|       NULL|       NULL|         NULL|            NULL|        NULL|          NULL|            NULL|         NULL|       NULL|       NULL|         NULL|            NULL|        NULL|          NULL|            NULL|         NULL|       NULL|       NULL|         NULL|            NULL|        NULL|          NULL|            NULL|         NULL|       NULL|       NULL|         NULL|            NULL|        NULL|          NULL|            NULL|         NULL|       NULL|       NULL|         NULL|            NULL|        NULL|          NULL|            NULL|         NULL|       NULL| NULL|\n",
      "|2024|      2|    6|        10|        1|2024-06-10|               9E|                   20363|                         9E|     N301PQ|                           4800|          10994|           1099402|             30994|   CHS|Charleston, SC|         SC|             45| South Carolina|       37|        12478|         1247805|           31703| JFK|New York, NY|       NY|           36|     New York|     22|      0700|   1043|  223.00|         223.00|    1.00|                  12| 0700-0759|  13.00|     1056|    1214|  6.00|      0900|   1220|  200.00|         200.00|    1.00|                12| 0900-0959|     0.00|            NULL|    0.00|        120.00|            97.00|  78.00|   1.00|  636.00|            3|        4.00|        0.00|    0.00|         0.00|           196.00|        NULL|         NULL|           NULL|                 0|          NULL|                NULL|       NULL|       NULL|       NULL|         NULL|            NULL|        NULL|          NULL|            NULL|         NULL|       NULL|       NULL|         NULL|            NULL|        NULL|          NULL|            NULL|         NULL|       NULL|       NULL|         NULL|            NULL|        NULL|          NULL|            NULL|         NULL|       NULL|       NULL|         NULL|            NULL|        NULL|          NULL|            NULL|         NULL|       NULL|       NULL|         NULL|            NULL|        NULL|          NULL|            NULL|         NULL|       NULL| NULL|\n",
      "|2024|      2|    6|        11|        2|2024-06-11|               9E|                   20363|                         9E|     N335PQ|                           4800|          10994|           1099402|             30994|   CHS|Charleston, SC|         SC|             45| South Carolina|       37|        12478|         1247805|           31703| JFK|New York, NY|       NY|           36|     New York|     22|      0700|   0657|   -3.00|           0.00|    0.00|                  -1| 0700-0759|  18.00|     0715|    0840|  7.00|      0900|   0847|  -13.00|           0.00|    0.00|                -1| 0900-0959|     0.00|            NULL|    0.00|        120.00|           110.00|  85.00|   1.00|  636.00|            3|        NULL|        NULL|    NULL|         NULL|             NULL|        NULL|         NULL|           NULL|                 0|          NULL|                NULL|       NULL|       NULL|       NULL|         NULL|            NULL|        NULL|          NULL|            NULL|         NULL|       NULL|       NULL|         NULL|            NULL|        NULL|          NULL|            NULL|         NULL|       NULL|       NULL|         NULL|            NULL|        NULL|          NULL|            NULL|         NULL|       NULL|       NULL|         NULL|            NULL|        NULL|          NULL|            NULL|         NULL|       NULL|       NULL|         NULL|            NULL|        NULL|          NULL|            NULL|         NULL|       NULL| NULL|\n",
      "+----+-------+-----+----------+---------+----------+-----------------+------------------------+---------------------------+-----------+-------------------------------+---------------+------------------+------------------+------+--------------+-----------+---------------+---------------+---------+-------------+----------------+----------------+----+------------+---------+-------------+-------------+-------+----------+-------+--------+---------------+--------+--------------------+----------+-------+---------+--------+------+----------+-------+--------+---------------+--------+------------------+----------+---------+----------------+--------+--------------+-----------------+-------+-------+--------+-------------+------------+------------+--------+-------------+-----------------+------------+-------------+---------------+------------------+--------------+--------------------+-----------+-----------+-----------+-------------+----------------+------------+--------------+----------------+-------------+-----------+-----------+-------------+----------------+------------+--------------+----------------+-------------+-----------+-----------+-------------+----------------+------------+--------------+----------------+-------------+-----------+-----------+-------------+----------------+------------+--------------+----------------+-------------+-----------+-----------+-------------+----------------+------------+--------------+----------------+-------------+-----------+-----+\n",
      "only showing top 5 rows\n",
      "\n"
     ]
    },
    {
     "name": "stderr",
     "output_type": "stream",
     "text": [
      "                                                                                \r"
     ]
    },
    {
     "data": {
      "text/plain": [
       "7079061"
      ]
     },
     "execution_count": 3,
     "metadata": {},
     "output_type": "execute_result"
    }
   ],
   "source": [
    "from pyspark.sql import SparkSession\n",
    "\n",
    "spark = SparkSession.builder \\\n",
    "    .appName(\"Airline Data Analysis\") \\\n",
    "    .getOrCreate()\n",
    "\n",
    "# Reload the DataFrame from HDFS (optional if you still have `df`)\n",
    "df = spark.read.option(\"header\", \"true\").csv(\"hdfs://localhost:9000/user/ketkimaddiwar/airline_data/\")\n",
    "df.show(5)\n",
    "# Now run count again\n",
    "df.count()\n"
   ]
  },
  {
   "cell_type": "code",
   "execution_count": 4,
   "id": "7598cab4",
   "metadata": {},
   "outputs": [
    {
     "data": {
      "text/plain": [
       "['Year',\n",
       " 'Quarter',\n",
       " 'Month',\n",
       " 'DayofMonth',\n",
       " 'DayOfWeek',\n",
       " 'FlightDate',\n",
       " 'Reporting_Airline',\n",
       " 'DOT_ID_Reporting_Airline',\n",
       " 'IATA_CODE_Reporting_Airline',\n",
       " 'Tail_Number',\n",
       " 'Flight_Number_Reporting_Airline',\n",
       " 'OriginAirportID',\n",
       " 'OriginAirportSeqID',\n",
       " 'OriginCityMarketID',\n",
       " 'Origin',\n",
       " 'OriginCityName',\n",
       " 'OriginState',\n",
       " 'OriginStateFips',\n",
       " 'OriginStateName',\n",
       " 'OriginWac',\n",
       " 'DestAirportID',\n",
       " 'DestAirportSeqID',\n",
       " 'DestCityMarketID',\n",
       " 'Dest',\n",
       " 'DestCityName',\n",
       " 'DestState',\n",
       " 'DestStateFips',\n",
       " 'DestStateName',\n",
       " 'DestWac',\n",
       " 'CRSDepTime',\n",
       " 'DepTime',\n",
       " 'DepDelay',\n",
       " 'DepDelayMinutes',\n",
       " 'DepDel15',\n",
       " 'DepartureDelayGroups',\n",
       " 'DepTimeBlk',\n",
       " 'TaxiOut',\n",
       " 'WheelsOff',\n",
       " 'WheelsOn',\n",
       " 'TaxiIn',\n",
       " 'CRSArrTime',\n",
       " 'ArrTime',\n",
       " 'ArrDelay',\n",
       " 'ArrDelayMinutes',\n",
       " 'ArrDel15',\n",
       " 'ArrivalDelayGroups',\n",
       " 'ArrTimeBlk',\n",
       " 'Cancelled',\n",
       " 'CancellationCode',\n",
       " 'Diverted',\n",
       " 'CRSElapsedTime',\n",
       " 'ActualElapsedTime',\n",
       " 'AirTime',\n",
       " 'Flights',\n",
       " 'Distance',\n",
       " 'DistanceGroup',\n",
       " 'CarrierDelay',\n",
       " 'WeatherDelay',\n",
       " 'NASDelay',\n",
       " 'SecurityDelay',\n",
       " 'LateAircraftDelay',\n",
       " 'FirstDepTime',\n",
       " 'TotalAddGTime',\n",
       " 'LongestAddGTime',\n",
       " 'DivAirportLandings',\n",
       " 'DivReachedDest',\n",
       " 'DivActualElapsedTime',\n",
       " 'DivArrDelay',\n",
       " 'DivDistance',\n",
       " 'Div1Airport',\n",
       " 'Div1AirportID',\n",
       " 'Div1AirportSeqID',\n",
       " 'Div1WheelsOn',\n",
       " 'Div1TotalGTime',\n",
       " 'Div1LongestGTime',\n",
       " 'Div1WheelsOff',\n",
       " 'Div1TailNum',\n",
       " 'Div2Airport',\n",
       " 'Div2AirportID',\n",
       " 'Div2AirportSeqID',\n",
       " 'Div2WheelsOn',\n",
       " 'Div2TotalGTime',\n",
       " 'Div2LongestGTime',\n",
       " 'Div2WheelsOff',\n",
       " 'Div2TailNum',\n",
       " 'Div3Airport',\n",
       " 'Div3AirportID',\n",
       " 'Div3AirportSeqID',\n",
       " 'Div3WheelsOn',\n",
       " 'Div3TotalGTime',\n",
       " 'Div3LongestGTime',\n",
       " 'Div3WheelsOff',\n",
       " 'Div3TailNum',\n",
       " 'Div4Airport',\n",
       " 'Div4AirportID',\n",
       " 'Div4AirportSeqID',\n",
       " 'Div4WheelsOn',\n",
       " 'Div4TotalGTime',\n",
       " 'Div4LongestGTime',\n",
       " 'Div4WheelsOff',\n",
       " 'Div4TailNum',\n",
       " 'Div5Airport',\n",
       " 'Div5AirportID',\n",
       " 'Div5AirportSeqID',\n",
       " 'Div5WheelsOn',\n",
       " 'Div5TotalGTime',\n",
       " 'Div5LongestGTime',\n",
       " 'Div5WheelsOff',\n",
       " 'Div5TailNum',\n",
       " '_c109']"
      ]
     },
     "execution_count": 4,
     "metadata": {},
     "output_type": "execute_result"
    }
   ],
   "source": [
    "df.columns\n"
   ]
  },
  {
   "cell_type": "code",
   "execution_count": 5,
   "id": "b7e8718d",
   "metadata": {},
   "outputs": [],
   "source": [
    "weather_delay_df = df.filter(df.WeatherDelay > 0)"
   ]
  },
  {
   "cell_type": "code",
   "execution_count": 6,
   "id": "f67ab5bb",
   "metadata": {},
   "outputs": [
    {
     "name": "stderr",
     "output_type": "stream",
     "text": [
      "                                                                                \r"
     ]
    },
    {
     "data": {
      "text/plain": [
       "88905"
      ]
     },
     "execution_count": 6,
     "metadata": {},
     "output_type": "execute_result"
    }
   ],
   "source": [
    "weather_delay_df.count()\n"
   ]
  },
  {
   "cell_type": "code",
   "execution_count": 46,
   "id": "d676e84c",
   "metadata": {},
   "outputs": [
    {
     "name": "stdout",
     "output_type": "stream",
     "text": [
      "+--------+---------------+--------+---------------+------------+----------+\n",
      "|DepDelay|DepDelayMinutes|ArrDelay|ArrDelayMinutes|WeatherDelay|FlightDate|\n",
      "+--------+---------------+--------+---------------+------------+----------+\n",
      "|33.00   |33.00          |27.00   |27.00          |7.00        |2024-06-21|\n",
      "|22.00   |22.00          |29.00   |29.00          |14.00       |2024-06-29|\n",
      "|48.00   |48.00          |38.00   |38.00          |7.00        |2024-06-25|\n",
      "|146.00  |146.00         |138.00  |138.00         |138.00      |2024-06-20|\n",
      "|35.00   |35.00          |41.00   |41.00          |13.00       |2024-06-07|\n",
      "|84.00   |84.00          |76.00   |76.00          |76.00       |2024-06-22|\n",
      "|60.00   |60.00          |38.00   |38.00          |6.00        |2024-06-17|\n",
      "|173.00  |173.00         |142.00  |142.00         |142.00      |2024-06-30|\n",
      "|123.00  |123.00         |125.00  |125.00         |123.00      |2024-06-30|\n",
      "|105.00  |105.00         |90.00   |90.00          |90.00       |2024-06-14|\n",
      "|110.00  |110.00         |90.00   |90.00          |77.00       |2024-06-14|\n",
      "|40.00   |40.00          |46.00   |46.00          |37.00       |2024-06-26|\n",
      "|10.00   |10.00          |17.00   |17.00          |10.00       |2024-06-04|\n",
      "|68.00   |68.00          |57.00   |57.00          |51.00       |2024-06-24|\n",
      "|80.00   |80.00          |76.00   |76.00          |49.00       |2024-06-24|\n",
      "|53.00   |53.00          |43.00   |43.00          |43.00       |2024-06-24|\n",
      "|28.00   |28.00          |59.00   |59.00          |28.00       |2024-06-04|\n",
      "|28.00   |28.00          |102.00  |102.00         |7.00        |2024-06-27|\n",
      "|24.00   |24.00          |22.00   |22.00          |22.00       |2024-06-13|\n",
      "|67.00   |67.00          |66.00   |66.00          |15.00       |2024-06-24|\n",
      "+--------+---------------+--------+---------------+------------+----------+\n",
      "only showing top 20 rows\n",
      "\n"
     ]
    }
   ],
   "source": [
    "weather_delay_df.select(\"DepDelay\",\"DepDelayMinutes\",\"ArrDelay\",\"ArrDelayMinutes\", \"WeatherDelay\",\"FlightDate\").show(20, truncate=False)\n"
   ]
  },
  {
   "cell_type": "code",
   "execution_count": 7,
   "id": "b80fd312",
   "metadata": {},
   "outputs": [
    {
     "name": "stderr",
     "output_type": "stream",
     "text": [
      "[Stage 11:===================================>                    (16 + 8) / 25]\r"
     ]
    },
    {
     "name": "stdout",
     "output_type": "stream",
     "text": [
      "Weather related delays: 88905 (1.26% of total)\n"
     ]
    },
    {
     "name": "stderr",
     "output_type": "stream",
     "text": [
      "\r",
      "[Stage 11:==========================================>             (19 + 6) / 25]\r",
      "\r",
      "                                                                                \r"
     ]
    }
   ],
   "source": [
    "total_flights = df.count()\n",
    "weather_delayed = weather_delay_df.count()\n",
    "percentage = (weather_delayed / total_flights) * 100\n",
    "print(f\"Weather related delays: {weather_delayed} ({percentage:.2f}% of total)\")\n"
   ]
  },
  {
   "cell_type": "code",
   "execution_count": 10,
   "id": "9393dd6d",
   "metadata": {},
   "outputs": [
    {
     "name": "stderr",
     "output_type": "stream",
     "text": [
      "                                                                                \r"
     ]
    },
    {
     "name": "stdout",
     "output_type": "stream",
     "text": [
      "Total WeatherDelay flights: 88905\n"
     ]
    },
    {
     "name": "stderr",
     "output_type": "stream",
     "text": [
      "                                                                                \r"
     ]
    },
    {
     "name": "stdout",
     "output_type": "stream",
     "text": [
      "Only Departure Weather Delays: 7870\n"
     ]
    },
    {
     "name": "stderr",
     "output_type": "stream",
     "text": [
      "                                                                                \r"
     ]
    },
    {
     "name": "stdout",
     "output_type": "stream",
     "text": [
      "Only Arrival Weather Delays: 2691\n"
     ]
    },
    {
     "name": "stderr",
     "output_type": "stream",
     "text": [
      "                                                                                \r"
     ]
    },
    {
     "name": "stdout",
     "output_type": "stream",
     "text": [
      "Both Departure & Arrival Weather Delays: 65687\n"
     ]
    },
    {
     "name": "stderr",
     "output_type": "stream",
     "text": [
      "[Stage 41:===================================>                    (16 + 8) / 25]\r"
     ]
    },
    {
     "name": "stdout",
     "output_type": "stream",
     "text": [
      "Unattributed Weather Delays: 12657\n"
     ]
    },
    {
     "name": "stderr",
     "output_type": "stream",
     "text": [
      "\r",
      "[Stage 41:===================================================>    (23 + 2) / 25]\r",
      "\r",
      "                                                                                \r"
     ]
    }
   ],
   "source": [
    "from pyspark.sql.functions import col\n",
    "\n",
    "# Filter only the flights where WeatherDelay > 0\n",
    "weather_df = df.filter(col(\"WeatherDelay\") > 0)\n",
    "\n",
    "# 1. Only Departure Delay due to Weather\n",
    "only_dep_weather = weather_df.filter(\n",
    "    (col(\"DepDelay\") >= col(\"WeatherDelay\")) &\n",
    "    (col(\"ArrDelay\") < col(\"WeatherDelay\"))\n",
    ")\n",
    "\n",
    "# 2. Only Arrival Delay due to Weather\n",
    "only_arr_weather = weather_df.filter(\n",
    "    (col(\"DepDelay\") < col(\"WeatherDelay\")) &\n",
    "    (col(\"ArrDelay\") >= col(\"WeatherDelay\"))\n",
    ")\n",
    "\n",
    "# 3. Both Departure and Arrival Delays due to Weather\n",
    "both_weather = weather_df.filter(\n",
    "    (col(\"DepDelay\") >= col(\"WeatherDelay\")) &\n",
    "    (col(\"ArrDelay\") >= col(\"WeatherDelay\"))\n",
    ")\n",
    "\n",
    "# 4. Unattributed Weather Delay (not clearly visible in dep or arr delay)\n",
    "unattributed_weather = weather_df.filter(\n",
    "    (col(\"DepDelay\") < col(\"WeatherDelay\")) &\n",
    "    (col(\"ArrDelay\") < col(\"WeatherDelay\"))\n",
    ")\n",
    "\n",
    "# Count each group\n",
    "print(\"Total WeatherDelay flights:\", weather_df.count())\n",
    "print(\"Only Departure Weather Delays:\", only_dep_weather.count())\n",
    "print(\"Only Arrival Weather Delays:\", only_arr_weather.count())\n",
    "print(\"Both Departure & Arrival Weather Delays:\", both_weather.count())\n",
    "print(\"Unattributed Weather Delays:\", unattributed_weather.count())\n"
   ]
  },
  {
   "cell_type": "code",
   "execution_count": 11,
   "id": "f3692f5f",
   "metadata": {},
   "outputs": [],
   "source": [
    "###########################"
   ]
  },
  {
   "cell_type": "code",
   "execution_count": 12,
   "id": "a6259e9f",
   "metadata": {},
   "outputs": [
    {
     "name": "stderr",
     "output_type": "stream",
     "text": [
      "[Stage 44:===================================>                    (16 + 8) / 25]\r"
     ]
    },
    {
     "name": "stdout",
     "output_type": "stream",
     "text": [
      "Total flights delayed due to weather: 88905\n"
     ]
    },
    {
     "name": "stderr",
     "output_type": "stream",
     "text": [
      "\r",
      "[Stage 44:=====================================================>  (24 + 1) / 25]\r",
      "\r",
      "                                                                                \r"
     ]
    }
   ],
   "source": [
    "from pyspark.sql.functions import col\n",
    "\n",
    "# Total flights delayed due to weather\n",
    "weather_delayed_flights = df.filter(col(\"WeatherDelay\") > 0)\n",
    "weather_delayed_count = weather_delayed_flights.count()\n",
    "\n",
    "print(f\"Total flights delayed due to weather: {weather_delayed_count}\")\n"
   ]
  },
  {
   "cell_type": "code",
   "execution_count": 13,
   "id": "09e410cd",
   "metadata": {},
   "outputs": [
    {
     "name": "stderr",
     "output_type": "stream",
     "text": [
      "[Stage 47:===================================>                    (16 + 8) / 25]\r"
     ]
    },
    {
     "name": "stdout",
     "output_type": "stream",
     "text": [
      "+-----------------+-----------------+-----------------+\n",
      "|avg_weather_delay|min_weather_delay|max_weather_delay|\n",
      "+-----------------+-----------------+-----------------+\n",
      "| 69.6909397671672|             1.00|           997.00|\n",
      "+-----------------+-----------------+-----------------+\n",
      "\n"
     ]
    },
    {
     "name": "stderr",
     "output_type": "stream",
     "text": [
      "\r",
      "[Stage 47:=================================================>      (22 + 3) / 25]\r",
      "\r",
      "                                                                                \r"
     ]
    }
   ],
   "source": [
    "from pyspark.sql.functions import avg, min, max\n",
    "\n",
    "# Summary statistics for weather delays\n",
    "weather_delay_stats = weather_delayed_flights.select(\"WeatherDelay\").agg(\n",
    "    avg(\"WeatherDelay\").alias(\"avg_weather_delay\"),\n",
    "    min(\"WeatherDelay\").alias(\"min_weather_delay\"),\n",
    "    max(\"WeatherDelay\").alias(\"max_weather_delay\")\n",
    ")\n",
    "\n",
    "weather_delay_stats.show()\n"
   ]
  },
  {
   "cell_type": "code",
   "execution_count": 14,
   "id": "6dd646cf",
   "metadata": {},
   "outputs": [
    {
     "name": "stderr",
     "output_type": "stream",
     "text": [
      "[Stage 50:========================================>               (18 + 7) / 25]\r"
     ]
    },
    {
     "name": "stdout",
     "output_type": "stream",
     "text": [
      "+-----+-----+\n",
      "|Month|count|\n",
      "+-----+-----+\n",
      "|    1|12282|\n",
      "|   10| 1830|\n",
      "|   11| 3890|\n",
      "|   12| 7939|\n",
      "|    2| 3692|\n",
      "|    3| 5765|\n",
      "|    4| 5921|\n",
      "|    5|12205|\n",
      "|    6| 9757|\n",
      "|    7|11861|\n",
      "|    8| 9229|\n",
      "|    9| 4534|\n",
      "+-----+-----+\n",
      "\n"
     ]
    },
    {
     "name": "stderr",
     "output_type": "stream",
     "text": [
      "\r",
      "                                                                                \r"
     ]
    }
   ],
   "source": [
    "#averge weather delays by month\n",
    "from pyspark.sql.functions import month\n",
    "\n",
    "# Add month column if not already present (use FlightDate if available)\n",
    "monthly_weather_delays = weather_delayed_flights.groupBy(\"Month\").count().orderBy(\"Month\")\n",
    "\n",
    "monthly_weather_delays.show(12)\n"
   ]
  },
  {
   "cell_type": "code",
   "execution_count": 15,
   "id": "e564d890",
   "metadata": {},
   "outputs": [
    {
     "name": "stderr",
     "output_type": "stream",
     "text": [
      "[Stage 53:===================================>                    (16 + 8) / 25]\r"
     ]
    },
    {
     "name": "stdout",
     "output_type": "stream",
     "text": [
      "+-----------------+-----+\n",
      "|Reporting_Airline|count|\n",
      "+-----------------+-----+\n",
      "|AA               |20217|\n",
      "|OO               |17677|\n",
      "|MQ               |8305 |\n",
      "|DL               |7930 |\n",
      "|UA               |6991 |\n",
      "|WN               |6791 |\n",
      "|OH               |5254 |\n",
      "|NK               |2792 |\n",
      "|G4               |2653 |\n",
      "|YX               |2586 |\n",
      "|AS               |2068 |\n",
      "|9E               |1890 |\n",
      "|B6               |1577 |\n",
      "|F9               |1426 |\n",
      "|HA               |748  |\n",
      "+-----------------+-----+\n",
      "\n"
     ]
    },
    {
     "name": "stderr",
     "output_type": "stream",
     "text": [
      "\r",
      "[Stage 53:===================================================>    (23 + 2) / 25]\r",
      "\r",
      "                                                                                \r"
     ]
    }
   ],
   "source": [
    "#Carrier-wise Weather Delays\n",
    "carrier_weather_delays = weather_delayed_flights.groupBy(\"Reporting_Airline\").count().orderBy(\"count\", ascending=False)\n",
    "carrier_weather_delays.show(truncate=False)\n"
   ]
  },
  {
   "cell_type": "code",
   "execution_count": 16,
   "id": "c95c05a0",
   "metadata": {},
   "outputs": [
    {
     "name": "stderr",
     "output_type": "stream",
     "text": [
      "[Stage 56:======================================>                 (17 + 8) / 25]\r"
     ]
    },
    {
     "name": "stdout",
     "output_type": "stream",
     "text": [
      "+---------+-----+\n",
      "|DayOfWeek|count|\n",
      "+---------+-----+\n",
      "|        1|13860|\n",
      "|        2|13044|\n",
      "|        3|10711|\n",
      "|        4|13279|\n",
      "|        5|13211|\n",
      "|        6|11217|\n",
      "|        7|13583|\n",
      "+---------+-----+\n",
      "\n"
     ]
    },
    {
     "name": "stderr",
     "output_type": "stream",
     "text": [
      "\r",
      "                                                                                \r"
     ]
    }
   ],
   "source": [
    "# weather-related delays by day of the week\n",
    "# Group weather delay records by DayOfWeek and count them\n",
    "weather_by_day = df.filter(df.WeatherDelay > 0) \\\n",
    "    .groupBy(\"DayOfWeek\") \\\n",
    "    .count() \\\n",
    "    .orderBy(\"DayOfWeek\")\n",
    "\n",
    "weather_by_day.show()\n"
   ]
  },
  {
   "cell_type": "code",
   "execution_count": 17,
   "id": "12a468f7",
   "metadata": {},
   "outputs": [
    {
     "name": "stderr",
     "output_type": "stream",
     "text": [
      "[Stage 59:==========================================>             (19 + 6) / 25]\r"
     ]
    },
    {
     "name": "stdout",
     "output_type": "stream",
     "text": [
      "+------+------------------+\n",
      "|Origin|AvgWeatherDelay   |\n",
      "+------+------------------+\n",
      "|SPN   |505.5             |\n",
      "|HYS   |473.5             |\n",
      "|STC   |458.0             |\n",
      "|EAR   |389.0             |\n",
      "|DEC   |325.1666666666667 |\n",
      "|LBF   |307.5             |\n",
      "|MCW   |266.5             |\n",
      "|PVU   |241.1304347826087 |\n",
      "|JST   |237.75            |\n",
      "|WYS   |236.1818181818182 |\n",
      "|OTH   |230.625           |\n",
      "|DIK   |222.22222222222223|\n",
      "|SUX   |211.64285714285714|\n",
      "|PBG   |208.8125          |\n",
      "|PIB   |208.5             |\n",
      "|JMS   |208.125           |\n",
      "|BFF   |201.25            |\n",
      "|PSM   |199.83333333333334|\n",
      "|ACV   |177.06521739130434|\n",
      "|VCT   |175.33333333333334|\n",
      "+------+------------------+\n",
      "only showing top 20 rows\n",
      "\n"
     ]
    },
    {
     "name": "stderr",
     "output_type": "stream",
     "text": [
      "\r",
      "[Stage 59:===================================================>    (23 + 2) / 25]\r",
      "\r",
      "                                                                                \r"
     ]
    }
   ],
   "source": [
    "#Average weather delay duration by origin airport\n",
    "\n",
    "from pyspark.sql.functions import col\n",
    "\n",
    "# Create a new DataFrame with WeatherDelay casted to double\n",
    "df_casted = df.withColumn(\"WeatherDelay\", col(\"WeatherDelay\").cast(\"double\"))\n",
    "\n",
    "# Now perform the aggregation\n",
    "avg_weather_delay_by_origin = df_casted.filter(col(\"WeatherDelay\") > 0) \\\n",
    "    .groupBy(\"Origin\") \\\n",
    "    .avg(\"WeatherDelay\") \\\n",
    "    .withColumnRenamed(\"avg(WeatherDelay)\", \"AvgWeatherDelay\") \\\n",
    "    .orderBy(\"AvgWeatherDelay\", ascending=False)\n",
    "\n",
    "avg_weather_delay_by_origin.show(20, truncate=False)\n"
   ]
  },
  {
   "cell_type": "code",
   "execution_count": 18,
   "id": "14777e60",
   "metadata": {},
   "outputs": [
    {
     "name": "stderr",
     "output_type": "stream",
     "text": [
      "[Stage 62:===================================>                    (16 + 8) / 25]\r"
     ]
    },
    {
     "name": "stdout",
     "output_type": "stream",
     "text": [
      "+----+-----------------+\n",
      "|Dest|WeatherDelayCount|\n",
      "+----+-----------------+\n",
      "|DFW |8271             |\n",
      "|CLT |3824             |\n",
      "|ATL |3696             |\n",
      "|ORD |3532             |\n",
      "|DEN |2645             |\n",
      "|MSP |2205             |\n",
      "|DTW |2190             |\n",
      "|LAX |2082             |\n",
      "|LGA |2045             |\n",
      "|SEA |1956             |\n",
      "|DCA |1711             |\n",
      "|PHX |1571             |\n",
      "|LAS |1545             |\n",
      "|SFO |1495             |\n",
      "|MIA |1492             |\n",
      "|MCO |1436             |\n",
      "|PHL |1409             |\n",
      "|BOS |1397             |\n",
      "|SLC |1363             |\n",
      "|EWR |1346             |\n",
      "+----+-----------------+\n",
      "only showing top 20 rows\n",
      "\n"
     ]
    },
    {
     "name": "stderr",
     "output_type": "stream",
     "text": [
      "\r",
      "[Stage 62:=================================================>      (22 + 3) / 25]\r",
      "\r",
      "                                                                                \r"
     ]
    }
   ],
   "source": [
    "\n",
    "#Top 20 Arrival Airports with the Most Weather Delays\n",
    "arrival_weather_delay_airports = df_casted.filter(col(\"WeatherDelay\") > 0) \\\n",
    "    .groupBy(\"Dest\") \\\n",
    "    .count() \\\n",
    "    .withColumnRenamed(\"count\", \"WeatherDelayCount\") \\\n",
    "    .orderBy(\"WeatherDelayCount\", ascending=False)\n",
    "\n",
    "arrival_weather_delay_airports.show(20, truncate=False)\n"
   ]
  },
  {
   "cell_type": "code",
   "execution_count": 19,
   "id": "82bbd6e0",
   "metadata": {},
   "outputs": [
    {
     "name": "stderr",
     "output_type": "stream",
     "text": [
      "[Stage 65:======================================>                 (17 + 8) / 25]\r"
     ]
    },
    {
     "name": "stdout",
     "output_type": "stream",
     "text": [
      "+----+------------------------+\n",
      "|Dest|ArrivalWeatherDelayCount|\n",
      "+----+------------------------+\n",
      "|HNL |166                     |\n",
      "|PIE |74                      |\n",
      "|SFB |28                      |\n",
      "|LIH |26                      |\n",
      "|OGG |15                      |\n",
      "|PGD |12                      |\n",
      "|KOA |12                      |\n",
      "|ITO |10                      |\n",
      "|BNA |7                       |\n",
      "|VPS |6                       |\n",
      "+----+------------------------+\n",
      "only showing top 10 rows\n",
      "\n"
     ]
    },
    {
     "name": "stderr",
     "output_type": "stream",
     "text": [
      "\r",
      "                                                                                \r"
     ]
    }
   ],
   "source": [
    "from pyspark.sql.functions import col\n",
    "\n",
    "arrival_weather_df = df_casted.filter(\n",
    "    (col(\"WeatherDelay\") > 0) &\n",
    "    (col(\"DepDelay\") < col(\"WeatherDelay\")) &\n",
    "    (col(\"ArrDelay\") >= col(\"WeatherDelay\"))\n",
    ")\n",
    "\n",
    "arrival_airport_weather_delay = arrival_weather_df.groupBy(\"Dest\") \\\n",
    "    .count() \\\n",
    "    .withColumnRenamed(\"count\", \"ArrivalWeatherDelayCount\") \\\n",
    "    .orderBy(\"ArrivalWeatherDelayCount\", ascending=False)\n",
    "\n",
    "arrival_airport_weather_delay.show(10, truncate=False)\n"
   ]
  },
  {
   "cell_type": "code",
   "execution_count": 20,
   "id": "0876b7b2",
   "metadata": {},
   "outputs": [
    {
     "name": "stderr",
     "output_type": "stream",
     "text": [
      "                                                                                \r"
     ]
    },
    {
     "name": "stdout",
     "output_type": "stream",
     "text": [
      "Arrival City Caused Delays: 2691\n"
     ]
    },
    {
     "name": "stderr",
     "output_type": "stream",
     "text": [
      "                                                                                \r"
     ]
    },
    {
     "name": "stdout",
     "output_type": "stream",
     "text": [
      "Departure City Caused Delays: 7870\n"
     ]
    },
    {
     "name": "stderr",
     "output_type": "stream",
     "text": [
      "                                                                                \r"
     ]
    },
    {
     "name": "stdout",
     "output_type": "stream",
     "text": [
      "Both Cities Likely Involved: 65687\n"
     ]
    },
    {
     "name": "stderr",
     "output_type": "stream",
     "text": [
      "[Stage 77:===================================>                    (16 + 8) / 25]\r"
     ]
    },
    {
     "name": "stdout",
     "output_type": "stream",
     "text": [
      "Total Weather Delay Rows: 88905\n",
      "Unattributed Weather Delay Rows: 12657\n"
     ]
    },
    {
     "name": "stderr",
     "output_type": "stream",
     "text": [
      "\r",
      "[Stage 77:========================================>               (18 + 7) / 25]\r",
      "\r",
      "                                                                                \r"
     ]
    }
   ],
   "source": [
    "from pyspark.sql.functions import col\n",
    "\n",
    "# Filter only the rows with WeatherDelay > 0\n",
    "weather_df = df.filter(col(\"WeatherDelay\") > 0)\n",
    "\n",
    "# Category 1: Only Arrival-caused\n",
    "arrival_only = weather_df.filter(\n",
    "    (col(\"DepDelay\") < col(\"WeatherDelay\")) & \n",
    "    (col(\"ArrDelay\") >= col(\"WeatherDelay\"))\n",
    ")\n",
    "arrival_count = arrival_only.count()\n",
    "print(f\"Arrival City Caused Delays: {arrival_count}\")\n",
    "\n",
    "# Category 2: Only Departure-caused\n",
    "departure_only = weather_df.filter(\n",
    "    (col(\"DepDelay\") >= col(\"WeatherDelay\")) & \n",
    "    (col(\"ArrDelay\") < col(\"WeatherDelay\"))\n",
    ")\n",
    "departure_count = departure_only.count()\n",
    "print(f\"Departure City Caused Delays: {departure_count}\")\n",
    "\n",
    "# Category 3: Both Cities Likely Involved\n",
    "both_cities = weather_df.filter(\n",
    "    (col(\"DepDelay\") >= col(\"WeatherDelay\")) & \n",
    "    (col(\"ArrDelay\") >= col(\"WeatherDelay\"))\n",
    ")\n",
    "both_count = both_cities.count()\n",
    "print(f\"Both Cities Likely Involved: {both_count}\")\n",
    "\n",
    "# Total rows with WeatherDelay > 0\n",
    "total_weather_delays = weather_df.count()\n",
    "print(f\"Total Weather Delay Rows: {total_weather_delays}\")\n",
    "\n",
    "# Category 4: Unattributed (those that didn’t fall in above 3)\n",
    "known_total = arrival_count + departure_count + both_count\n",
    "unattributed_count = total_weather_delays - known_total\n",
    "print(f\"Unattributed Weather Delay Rows: {unattributed_count}\")\n"
   ]
  },
  {
   "cell_type": "code",
   "execution_count": 21,
   "id": "bb177ae1",
   "metadata": {},
   "outputs": [
    {
     "name": "stderr",
     "output_type": "stream",
     "text": [
      "[Stage 80:=====================================================>  (24 + 1) / 25]\r"
     ]
    },
    {
     "name": "stdout",
     "output_type": "stream",
     "text": [
      "+------+----+-----------------+\n",
      "|Origin|Dest|WeatherDelayCount|\n",
      "+------+----+-----------------+\n",
      "|LIT   |DFW |271              |\n",
      "|MCO   |DFW |271              |\n",
      "|MCO   |CLT |211              |\n",
      "|XNA   |DFW |209              |\n",
      "|MCO   |PHL |193              |\n",
      "|MAF   |DFW |191              |\n",
      "|DFW   |LAX |187              |\n",
      "|MCO   |ATL |173              |\n",
      "|MCO   |MIA |172              |\n",
      "|DFW   |AUS |167              |\n",
      "|DFW   |PHX |165              |\n",
      "|ORD   |LGA |163              |\n",
      "|LFT   |DFW |163              |\n",
      "|DFW   |LAS |160              |\n",
      "|DFW   |SAT |155              |\n",
      "|DFW   |ATL |155              |\n",
      "|DFW   |LGA |153              |\n",
      "|IAH   |DFW |152              |\n",
      "|MIA   |DFW |152              |\n",
      "|ORD   |EWR |151              |\n",
      "+------+----+-----------------+\n",
      "only showing top 20 rows\n",
      "\n"
     ]
    },
    {
     "name": "stderr",
     "output_type": "stream",
     "text": [
      "\r",
      "                                                                                \r"
     ]
    }
   ],
   "source": [
    "from pyspark.sql.functions import col, count\n",
    "\n",
    "# Filter rows where WeatherDelay > 0\n",
    "weather_delay_df = df.filter(col(\"WeatherDelay\") > 0)\n",
    "\n",
    "# Group by Origin and Dest and count\n",
    "airport_pairs_delay_count = weather_delay_df.groupBy(\"Origin\", \"Dest\") \\\n",
    "    .agg(count(\"*\").alias(\"WeatherDelayCount\")) \\\n",
    "    .orderBy(col(\"WeatherDelayCount\").desc())\n",
    "\n",
    "# Show the top 20 origin-destination pairs\n",
    "airport_pairs_delay_count.show(20, truncate=False)\n"
   ]
  },
  {
   "cell_type": "code",
   "execution_count": 22,
   "id": "2d7bdf0b",
   "metadata": {},
   "outputs": [
    {
     "name": "stderr",
     "output_type": "stream",
     "text": [
      "[Stage 83:=====================================================>  (24 + 1) / 25]\r"
     ]
    },
    {
     "name": "stdout",
     "output_type": "stream",
     "text": [
      "Total unique origin-destination pairs with weather delay: 5541\n"
     ]
    },
    {
     "name": "stderr",
     "output_type": "stream",
     "text": [
      "\r",
      "                                                                                \r"
     ]
    }
   ],
   "source": [
    "# Count of unique origin-destination pairs with weather delay\n",
    "unique_weather_routes_count = weather_delay_df.select(\"Origin\", \"Dest\").distinct().count()\n",
    "\n",
    "print(\"Total unique origin-destination pairs with weather delay:\", unique_weather_routes_count)\n"
   ]
  },
  {
   "cell_type": "code",
   "execution_count": 40,
   "id": "cf4ec568",
   "metadata": {},
   "outputs": [
    {
     "name": "stdout",
     "output_type": "stream",
     "text": [
      "+----------+\n",
      "|FlightDate|\n",
      "+----------+\n",
      "|2024-06-07|\n",
      "|2024-06-08|\n",
      "|2024-06-09|\n",
      "|2024-06-10|\n",
      "|2024-06-11|\n",
      "+----------+\n",
      "only showing top 5 rows\n",
      "\n"
     ]
    }
   ],
   "source": [
    "from pyspark.sql.functions import to_date\n",
    "\n",
    "# Convert FlightDate to proper date format (yyyy-MM-dd)\n",
    "df = df.withColumn(\"FlightDate\", to_date(\"FlightDate\", \"yyyy-MM-dd\"))\n",
    "\n",
    "# Confirm schema\n",
    "df.select(\"FlightDate\").show(5)"
   ]
  },
  {
   "cell_type": "code",
   "execution_count": 26,
   "id": "6c663ccc",
   "metadata": {},
   "outputs": [
    {
     "name": "stderr",
     "output_type": "stream",
     "text": [
      "[Stage 105:====================================================>  (24 + 1) / 25]\r"
     ]
    },
    {
     "name": "stdout",
     "output_type": "stream",
     "text": [
      "+------+----------+\n",
      "|Origin|FlightDate|\n",
      "+------+----------+\n",
      "|   TLH|2024-06-04|\n",
      "|   BDL|2024-06-25|\n",
      "|   TPA|2024-06-24|\n",
      "|   GSO|2024-06-14|\n",
      "|   MSY|2024-06-06|\n",
      "+------+----------+\n",
      "only showing top 5 rows\n",
      "\n"
     ]
    },
    {
     "name": "stderr",
     "output_type": "stream",
     "text": [
      "\r",
      "                                                                                \r"
     ]
    }
   ],
   "source": [
    "from pyspark.sql.functions import col\n",
    "\n",
    "# Step 1: Extract Origin airport and date for weather-affected flights\n",
    "weather_keys_df = df.filter(col(\"WeatherDelay\") > 0) \\\n",
    "    .select(\"Origin\", \"FlightDate\") \\\n",
    "    .distinct()\n",
    "\n",
    "# Show a sample\n",
    "weather_keys_df.count()\n",
    "weather_keys_df.show(5)\n"
   ]
  },
  {
   "cell_type": "code",
   "execution_count": 29,
   "id": "9168384a",
   "metadata": {},
   "outputs": [
    {
     "name": "stderr",
     "output_type": "stream",
     "text": [
      "[Stage 120:=============================================>         (41 + 8) / 50]\r"
     ]
    },
    {
     "name": "stdout",
     "output_type": "stream",
     "text": [
      "Total unique airport codes found: 348\n",
      "['BGM', 'DLG', 'PSE', 'MSY', 'PPG', 'GEG', 'SNA', 'BUR', 'GRB', 'GTF']\n"
     ]
    },
    {
     "name": "stderr",
     "output_type": "stream",
     "text": [
      "\r",
      "[Stage 120:=====================================================> (49 + 1) / 50]\r",
      "\r",
      "                                                                                \r"
     ]
    }
   ],
   "source": [
    "# Combine Origin and Dest columns and get distinct airport codes\n",
    "unique_airports_df = df.select(\"Origin\").union(df.select(\"Dest\")).distinct()\n",
    "\n",
    "# Convert to list of codes\n",
    "airport_codes = [row[\"Origin\"] for row in unique_airports_df.collect()]\n",
    "print(\"Total unique airport codes found:\", len(airport_codes))\n",
    "print(airport_codes[:10])  # Print first 10 as a sample\n"
   ]
  },
  {
   "cell_type": "code",
   "execution_count": 36,
   "id": "35d4a91a",
   "metadata": {},
   "outputs": [
    {
     "data": {
      "text/html": [
       "<div>\n",
       "<style scoped>\n",
       "    .dataframe tbody tr th:only-of-type {\n",
       "        vertical-align: middle;\n",
       "    }\n",
       "\n",
       "    .dataframe tbody tr th {\n",
       "        vertical-align: top;\n",
       "    }\n",
       "\n",
       "    .dataframe thead th {\n",
       "        text-align: right;\n",
       "    }\n",
       "</style>\n",
       "<table border=\"1\" class=\"dataframe\">\n",
       "  <thead>\n",
       "    <tr style=\"text-align: right;\">\n",
       "      <th></th>\n",
       "      <th>AirportID</th>\n",
       "      <th>Name</th>\n",
       "      <th>City</th>\n",
       "      <th>Country</th>\n",
       "      <th>IATA</th>\n",
       "      <th>ICAO</th>\n",
       "      <th>Latitude</th>\n",
       "      <th>Longitude</th>\n",
       "      <th>Altitude</th>\n",
       "      <th>Timezone</th>\n",
       "      <th>DST</th>\n",
       "      <th>TzDatabaseTimeZone</th>\n",
       "      <th>Type</th>\n",
       "      <th>Source</th>\n",
       "    </tr>\n",
       "  </thead>\n",
       "  <tbody>\n",
       "    <tr>\n",
       "      <th>0</th>\n",
       "      <td>1</td>\n",
       "      <td>Goroka Airport</td>\n",
       "      <td>Goroka</td>\n",
       "      <td>Papua New Guinea</td>\n",
       "      <td>GKA</td>\n",
       "      <td>AYGA</td>\n",
       "      <td>-6.081690</td>\n",
       "      <td>145.391998</td>\n",
       "      <td>5282</td>\n",
       "      <td>10</td>\n",
       "      <td>U</td>\n",
       "      <td>Pacific/Port_Moresby</td>\n",
       "      <td>airport</td>\n",
       "      <td>OurAirports</td>\n",
       "    </tr>\n",
       "    <tr>\n",
       "      <th>1</th>\n",
       "      <td>2</td>\n",
       "      <td>Madang Airport</td>\n",
       "      <td>Madang</td>\n",
       "      <td>Papua New Guinea</td>\n",
       "      <td>MAG</td>\n",
       "      <td>AYMD</td>\n",
       "      <td>-5.207080</td>\n",
       "      <td>145.789001</td>\n",
       "      <td>20</td>\n",
       "      <td>10</td>\n",
       "      <td>U</td>\n",
       "      <td>Pacific/Port_Moresby</td>\n",
       "      <td>airport</td>\n",
       "      <td>OurAirports</td>\n",
       "    </tr>\n",
       "    <tr>\n",
       "      <th>2</th>\n",
       "      <td>3</td>\n",
       "      <td>Mount Hagen Kagamuga Airport</td>\n",
       "      <td>Mount Hagen</td>\n",
       "      <td>Papua New Guinea</td>\n",
       "      <td>HGU</td>\n",
       "      <td>AYMH</td>\n",
       "      <td>-5.826790</td>\n",
       "      <td>144.296005</td>\n",
       "      <td>5388</td>\n",
       "      <td>10</td>\n",
       "      <td>U</td>\n",
       "      <td>Pacific/Port_Moresby</td>\n",
       "      <td>airport</td>\n",
       "      <td>OurAirports</td>\n",
       "    </tr>\n",
       "    <tr>\n",
       "      <th>3</th>\n",
       "      <td>4</td>\n",
       "      <td>Nadzab Airport</td>\n",
       "      <td>Nadzab</td>\n",
       "      <td>Papua New Guinea</td>\n",
       "      <td>LAE</td>\n",
       "      <td>AYNZ</td>\n",
       "      <td>-6.569803</td>\n",
       "      <td>146.725977</td>\n",
       "      <td>239</td>\n",
       "      <td>10</td>\n",
       "      <td>U</td>\n",
       "      <td>Pacific/Port_Moresby</td>\n",
       "      <td>airport</td>\n",
       "      <td>OurAirports</td>\n",
       "    </tr>\n",
       "    <tr>\n",
       "      <th>4</th>\n",
       "      <td>5</td>\n",
       "      <td>Port Moresby Jacksons International Airport</td>\n",
       "      <td>Port Moresby</td>\n",
       "      <td>Papua New Guinea</td>\n",
       "      <td>POM</td>\n",
       "      <td>AYPY</td>\n",
       "      <td>-9.443380</td>\n",
       "      <td>147.220001</td>\n",
       "      <td>146</td>\n",
       "      <td>10</td>\n",
       "      <td>U</td>\n",
       "      <td>Pacific/Port_Moresby</td>\n",
       "      <td>airport</td>\n",
       "      <td>OurAirports</td>\n",
       "    </tr>\n",
       "  </tbody>\n",
       "</table>\n",
       "</div>"
      ],
      "text/plain": [
       "   AirportID                                         Name          City  \\\n",
       "0          1                               Goroka Airport        Goroka   \n",
       "1          2                               Madang Airport        Madang   \n",
       "2          3                 Mount Hagen Kagamuga Airport   Mount Hagen   \n",
       "3          4                               Nadzab Airport        Nadzab   \n",
       "4          5  Port Moresby Jacksons International Airport  Port Moresby   \n",
       "\n",
       "            Country IATA  ICAO  Latitude   Longitude  Altitude Timezone DST  \\\n",
       "0  Papua New Guinea  GKA  AYGA -6.081690  145.391998      5282       10   U   \n",
       "1  Papua New Guinea  MAG  AYMD -5.207080  145.789001        20       10   U   \n",
       "2  Papua New Guinea  HGU  AYMH -5.826790  144.296005      5388       10   U   \n",
       "3  Papua New Guinea  LAE  AYNZ -6.569803  146.725977       239       10   U   \n",
       "4  Papua New Guinea  POM  AYPY -9.443380  147.220001       146       10   U   \n",
       "\n",
       "     TzDatabaseTimeZone     Type       Source  \n",
       "0  Pacific/Port_Moresby  airport  OurAirports  \n",
       "1  Pacific/Port_Moresby  airport  OurAirports  \n",
       "2  Pacific/Port_Moresby  airport  OurAirports  \n",
       "3  Pacific/Port_Moresby  airport  OurAirports  \n",
       "4  Pacific/Port_Moresby  airport  OurAirports  "
      ]
     },
     "execution_count": 36,
     "metadata": {},
     "output_type": "execute_result"
    }
   ],
   "source": [
    "import pandas as pd\n",
    "\n",
    "columns = [\"AirportID\", \"Name\", \"City\", \"Country\", \"IATA\", \"ICAO\", \"Latitude\", \"Longitude\",\n",
    "           \"Altitude\", \"Timezone\", \"DST\", \"TzDatabaseTimeZone\", \"Type\", \"Source\"]\n",
    "\n",
    "airports_df = pd.read_csv(\n",
    "    \"/Users/ketkimaddiwar/Documents/SJSU_Study/Data_228/Project/airports.dat.txt\",\n",
    "    header=None,\n",
    "    names=columns\n",
    ")\n",
    "\n",
    "# Filter rows with valid IATA codes (3-letter airport codes)\n",
    "airports_df = airports_df[airports_df[\"IATA\"].notnull() & (airports_df[\"IATA\"].str.len() == 3)]\n",
    "\n",
    "airports_df.head()\n"
   ]
  },
  {
   "cell_type": "code",
   "execution_count": 33,
   "id": "756da3c7",
   "metadata": {},
   "outputs": [
    {
     "name": "stdout",
     "output_type": "stream",
     "text": [
      "JFK: (40.63980103, -73.77890015)\n",
      "SFO: (37.61899948120117, -122.375)\n"
     ]
    }
   ],
   "source": [
    "# Step 3: Create mapping of IATA → (latitude, longitude)\n",
    "airport_coordinates = {\n",
    "    row[\"IATA\"]: (row[\"Latitude\"], row[\"Longitude\"])\n",
    "    for _, row in airports_df.iterrows()\n",
    "}\n",
    "\n",
    "# Example: Print coordinates for JFK and SFO\n",
    "print(\"JFK:\", airport_coordinates.get(\"JFK\"))\n",
    "print(\"SFO:\", airport_coordinates.get(\"SFO\"))\n"
   ]
  },
  {
   "cell_type": "code",
   "execution_count": null,
   "id": "75fedd22",
   "metadata": {},
   "outputs": [],
   "source": []
  }
 ],
 "metadata": {
  "kernelspec": {
   "display_name": "Python 3 (ipykernel)",
   "language": "python",
   "name": "python3"
  },
  "language_info": {
   "codemirror_mode": {
    "name": "ipython",
    "version": 3
   },
   "file_extension": ".py",
   "mimetype": "text/x-python",
   "name": "python",
   "nbconvert_exporter": "python",
   "pygments_lexer": "ipython3",
   "version": "3.11.8"
  }
 },
 "nbformat": 4,
 "nbformat_minor": 5
}
