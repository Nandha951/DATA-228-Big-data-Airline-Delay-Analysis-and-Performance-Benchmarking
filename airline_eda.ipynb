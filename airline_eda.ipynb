{
 "cells": [
  {
   "cell_type": "code",
   "execution_count": 3,
   "id": "1012c59c",
   "metadata": {},
   "outputs": [
    {
     "name": "stderr",
     "output_type": "stream",
     "text": [
      "your 131072x1 screen size is bogus. expect trouble\n",
      "25/04/28 19:37:48 WARN Utils: Your hostname, LAPTOP-MLUH4T0H resolves to a loopback address: 127.0.1.1; using 10.255.255.254 instead (on interface lo)\n",
      "25/04/28 19:37:48 WARN Utils: Set SPARK_LOCAL_IP if you need to bind to another address\n",
      "Setting default log level to \"WARN\".\n",
      "To adjust logging level use sc.setLogLevel(newLevel). For SparkR, use setLogLevel(newLevel).\n",
      "25/04/28 19:37:49 WARN NativeCodeLoader: Unable to load native-hadoop library for your platform... using builtin-java classes where applicable\n",
      "25/04/28 19:38:00 WARN SparkStringUtils: Truncated the string representation of a plan since it was too large. This behavior can be adjusted by setting 'spark.sql.debug.maxToStringFields'.\n"
     ]
    },
    {
     "name": "stdout",
     "output_type": "stream",
     "text": [
      "+----+-------+-----+----------+---------+----------+-----------------+------------------------+---------------------------+-----------+-------------------------------+---------------+------------------+------------------+------+--------------+-----------+---------------+---------------+---------+-------------+----------------+----------------+----+------------+---------+-------------+-------------+-------+----------+-------+--------+---------------+--------+--------------------+----------+-------+---------+--------+------+----------+-------+--------+---------------+--------+------------------+----------+---------+----------------+--------+--------------+-----------------+-------+-------+--------+-------------+------------+------------+--------+-------------+-----------------+------------+-------------+---------------+------------------+--------------+--------------------+-----------+-----------+-----------+-------------+----------------+------------+--------------+----------------+-------------+-----------+-----------+-------------+----------------+------------+--------------+----------------+-------------+-----------+-----------+-------------+----------------+------------+--------------+----------------+-------------+-----------+-----------+-------------+----------------+------------+--------------+----------------+-------------+-----------+-----------+-------------+----------------+------------+--------------+----------------+-------------+-----------+-----+\n",
      "|Year|Quarter|Month|DayofMonth|DayOfWeek|FlightDate|Reporting_Airline|DOT_ID_Reporting_Airline|IATA_CODE_Reporting_Airline|Tail_Number|Flight_Number_Reporting_Airline|OriginAirportID|OriginAirportSeqID|OriginCityMarketID|Origin|OriginCityName|OriginState|OriginStateFips|OriginStateName|OriginWac|DestAirportID|DestAirportSeqID|DestCityMarketID|Dest|DestCityName|DestState|DestStateFips|DestStateName|DestWac|CRSDepTime|DepTime|DepDelay|DepDelayMinutes|DepDel15|DepartureDelayGroups|DepTimeBlk|TaxiOut|WheelsOff|WheelsOn|TaxiIn|CRSArrTime|ArrTime|ArrDelay|ArrDelayMinutes|ArrDel15|ArrivalDelayGroups|ArrTimeBlk|Cancelled|CancellationCode|Diverted|CRSElapsedTime|ActualElapsedTime|AirTime|Flights|Distance|DistanceGroup|CarrierDelay|WeatherDelay|NASDelay|SecurityDelay|LateAircraftDelay|FirstDepTime|TotalAddGTime|LongestAddGTime|DivAirportLandings|DivReachedDest|DivActualElapsedTime|DivArrDelay|DivDistance|Div1Airport|Div1AirportID|Div1AirportSeqID|Div1WheelsOn|Div1TotalGTime|Div1LongestGTime|Div1WheelsOff|Div1TailNum|Div2Airport|Div2AirportID|Div2AirportSeqID|Div2WheelsOn|Div2TotalGTime|Div2LongestGTime|Div2WheelsOff|Div2TailNum|Div3Airport|Div3AirportID|Div3AirportSeqID|Div3WheelsOn|Div3TotalGTime|Div3LongestGTime|Div3WheelsOff|Div3TailNum|Div4Airport|Div4AirportID|Div4AirportSeqID|Div4WheelsOn|Div4TotalGTime|Div4LongestGTime|Div4WheelsOff|Div4TailNum|Div5Airport|Div5AirportID|Div5AirportSeqID|Div5WheelsOn|Div5TotalGTime|Div5LongestGTime|Div5WheelsOff|Div5TailNum|_c109|\n",
      "+----+-------+-----+----------+---------+----------+-----------------+------------------------+---------------------------+-----------+-------------------------------+---------------+------------------+------------------+------+--------------+-----------+---------------+---------------+---------+-------------+----------------+----------------+----+------------+---------+-------------+-------------+-------+----------+-------+--------+---------------+--------+--------------------+----------+-------+---------+--------+------+----------+-------+--------+---------------+--------+------------------+----------+---------+----------------+--------+--------------+-----------------+-------+-------+--------+-------------+------------+------------+--------+-------------+-----------------+------------+-------------+---------------+------------------+--------------+--------------------+-----------+-----------+-----------+-------------+----------------+------------+--------------+----------------+-------------+-----------+-----------+-------------+----------------+------------+--------------+----------------+-------------+-----------+-----------+-------------+----------------+------------+--------------+----------------+-------------+-----------+-----------+-------------+----------------+------------+--------------+----------------+-------------+-----------+-----------+-------------+----------------+------------+--------------+----------------+-------------+-----------+-----+\n",
      "|2024|      1|    1|         8|        1|2024-01-08|               9E|                   20363|                         9E|     N485PX|                           4801|          12953|           1295304|             31703|   LGA|  New York, NY|         NY|             36|       New York|       22|        13871|         1387102|           33316| OMA|   Omaha, NE|       NE|           31|     Nebraska|     65|      0856|   0851|   -5.00|           0.00|    0.00|                  -1| 0800-0859|  25.00|     0916|    1120|  4.00|      1135|   1124|  -11.00|           0.00|    0.00|                -1| 1100-1159|     0.00|            NULL|    0.00|        219.00|           213.00| 184.00|   1.00| 1148.00|            5|        NULL|        NULL|    NULL|         NULL|             NULL|        NULL|         NULL|           NULL|                 0|          NULL|                NULL|       NULL|       NULL|       NULL|         NULL|            NULL|        NULL|          NULL|            NULL|         NULL|       NULL|       NULL|         NULL|            NULL|        NULL|          NULL|            NULL|         NULL|       NULL|       NULL|         NULL|            NULL|        NULL|          NULL|            NULL|         NULL|       NULL|       NULL|         NULL|            NULL|        NULL|          NULL|            NULL|         NULL|       NULL|       NULL|         NULL|            NULL|        NULL|          NULL|            NULL|         NULL|       NULL| NULL|\n",
      "|2024|      1|    1|         9|        2|2024-01-09|               9E|                   20363|                         9E|     N912XJ|                           4801|          12953|           1295304|             31703|   LGA|  New York, NY|         NY|             36|       New York|       22|        13871|         1387102|           33316| OMA|   Omaha, NE|       NE|           31|     Nebraska|     65|      0856|   0851|   -5.00|           0.00|    0.00|                  -1| 0800-0859|  16.00|     0907|    1055| 12.00|      1135|   1107|  -28.00|           0.00|    0.00|                -2| 1100-1159|     0.00|            NULL|    0.00|        219.00|           196.00| 168.00|   1.00| 1148.00|            5|        NULL|        NULL|    NULL|         NULL|             NULL|        NULL|         NULL|           NULL|                 0|          NULL|                NULL|       NULL|       NULL|       NULL|         NULL|            NULL|        NULL|          NULL|            NULL|         NULL|       NULL|       NULL|         NULL|            NULL|        NULL|          NULL|            NULL|         NULL|       NULL|       NULL|         NULL|            NULL|        NULL|          NULL|            NULL|         NULL|       NULL|       NULL|         NULL|            NULL|        NULL|          NULL|            NULL|         NULL|       NULL|       NULL|         NULL|            NULL|        NULL|          NULL|            NULL|         NULL|       NULL| NULL|\n",
      "|2024|      1|    1|        10|        3|2024-01-10|               9E|                   20363|                         9E|     N918XJ|                           4801|          12953|           1295304|             31703|   LGA|  New York, NY|         NY|             36|       New York|       22|        13871|         1387102|           33316| OMA|   Omaha, NE|       NE|           31|     Nebraska|     65|      0856|   0850|   -6.00|           0.00|    0.00|                  -1| 0800-0859|  17.00|     0907|    1104|  6.00|      1135|   1110|  -25.00|           0.00|    0.00|                -2| 1100-1159|     0.00|            NULL|    0.00|        219.00|           200.00| 177.00|   1.00| 1148.00|            5|        NULL|        NULL|    NULL|         NULL|             NULL|        NULL|         NULL|           NULL|                 0|          NULL|                NULL|       NULL|       NULL|       NULL|         NULL|            NULL|        NULL|          NULL|            NULL|         NULL|       NULL|       NULL|         NULL|            NULL|        NULL|          NULL|            NULL|         NULL|       NULL|       NULL|         NULL|            NULL|        NULL|          NULL|            NULL|         NULL|       NULL|       NULL|         NULL|            NULL|        NULL|          NULL|            NULL|         NULL|       NULL|       NULL|         NULL|            NULL|        NULL|          NULL|            NULL|         NULL|       NULL| NULL|\n",
      "|2024|      1|    1|        11|        4|2024-01-11|               9E|                   20363|                         9E|     N490PX|                           4801|          12953|           1295304|             31703|   LGA|  New York, NY|         NY|             36|       New York|       22|        13871|         1387102|           33316| OMA|   Omaha, NE|       NE|           31|     Nebraska|     65|      0856|   0919|   23.00|          23.00|    1.00|                   1| 0800-0859|  27.00|     0946|    1154|  8.00|      1135|   1202|   27.00|          27.00|    1.00|                 1| 1100-1159|     0.00|            NULL|    0.00|        219.00|           223.00| 188.00|   1.00| 1148.00|            5|        0.00|        0.00|    4.00|         0.00|            23.00|        NULL|         NULL|           NULL|                 0|          NULL|                NULL|       NULL|       NULL|       NULL|         NULL|            NULL|        NULL|          NULL|            NULL|         NULL|       NULL|       NULL|         NULL|            NULL|        NULL|          NULL|            NULL|         NULL|       NULL|       NULL|         NULL|            NULL|        NULL|          NULL|            NULL|         NULL|       NULL|       NULL|         NULL|            NULL|        NULL|          NULL|            NULL|         NULL|       NULL|       NULL|         NULL|            NULL|        NULL|          NULL|            NULL|         NULL|       NULL| NULL|\n",
      "|2024|      1|    1|        12|        5|2024-01-12|               9E|                   20363|                         9E|     N915XJ|                           4801|          12953|           1295304|             31703|   LGA|  New York, NY|         NY|             36|       New York|       22|        13871|         1387102|           33316| OMA|   Omaha, NE|       NE|           31|     Nebraska|     65|      0856|   0851|   -5.00|           0.00|    0.00|                  -1| 0800-0859|  24.00|     0915|    1120| 17.00|      1135|   1137|    2.00|           2.00|    0.00|                 0| 1100-1159|     0.00|            NULL|    0.00|        219.00|           226.00| 185.00|   1.00| 1148.00|            5|        NULL|        NULL|    NULL|         NULL|             NULL|        NULL|         NULL|           NULL|                 0|          NULL|                NULL|       NULL|       NULL|       NULL|         NULL|            NULL|        NULL|          NULL|            NULL|         NULL|       NULL|       NULL|         NULL|            NULL|        NULL|          NULL|            NULL|         NULL|       NULL|       NULL|         NULL|            NULL|        NULL|          NULL|            NULL|         NULL|       NULL|       NULL|         NULL|            NULL|        NULL|          NULL|            NULL|         NULL|       NULL|       NULL|         NULL|            NULL|        NULL|          NULL|            NULL|         NULL|       NULL| NULL|\n",
      "+----+-------+-----+----------+---------+----------+-----------------+------------------------+---------------------------+-----------+-------------------------------+---------------+------------------+------------------+------+--------------+-----------+---------------+---------------+---------+-------------+----------------+----------------+----+------------+---------+-------------+-------------+-------+----------+-------+--------+---------------+--------+--------------------+----------+-------+---------+--------+------+----------+-------+--------+---------------+--------+------------------+----------+---------+----------------+--------+--------------+-----------------+-------+-------+--------+-------------+------------+------------+--------+-------------+-----------------+------------+-------------+---------------+------------------+--------------+--------------------+-----------+-----------+-----------+-------------+----------------+------------+--------------+----------------+-------------+-----------+-----------+-------------+----------------+------------+--------------+----------------+-------------+-----------+-----------+-------------+----------------+------------+--------------+----------------+-------------+-----------+-----------+-------------+----------------+------------+--------------+----------------+-------------+-----------+-----------+-------------+----------------+------------+--------------+----------------+-------------+-----------+-----+\n",
      "only showing top 5 rows\n",
      "\n"
     ]
    },
    {
     "name": "stderr",
     "output_type": "stream",
     "text": [
      "25/04/28 19:38:01 WARN CSVHeaderChecker: CSV header does not conform to the schema.\n",
      " Header: Year, Quarter, Month, DayofMonth, DayOfWeek, FlightDate, Reporting_Airline, DOT_ID_Reporting_Airline, IATA_CODE_Reporting_Airline, Tail_Number, Flight_Number_Reporting_Airline, OriginAirportID, OriginAirportSeqID, OriginCityMarketID, Origin, OriginCityName, OriginState, OriginStateFips, OriginStateName, OriginWac, DestAirportID, DestAirportSeqID, DestCityMarketID, Dest, DestCityName, DestState, DestStateFips, DestStateName, DestWac, CRSDepTime, DepTime, DepDelay, DepDelayMinutes, DepDel15, DepartureDelayGroups, DepTimeBlk, TaxiOut, WheelsOff, WheelsOn, TaxiIn, CRSArrTime, ArrTime, ArrDelay, ArrDelayMinutes, ArrDel15, ArrivalDelayGroups, ArrTimeBlk, Cancelled, CancellationCode, Diverted, CRSElapsedTime, ActualElapsedTime, AirTime, Flights, Distance, DistanceGroup, CarrierDelay, WeatherDelay, NASDelay, SecurityDelay, LateAircraftDelay, FirstDepTime, TotalAddGTime, LongestAddGTime, DivAirportLandings, DivReachedDest, DivActualElapsedTime, DivArrDelay, DivDistance, Div1Airport, Div1AirportID, Div1AirportSeqID, Div1WheelsOn, Div1TotalGTime, Div1LongestGTime, Div1WheelsOff, Div1TailNum, Div2Airport, Div2AirportID, Div2AirportSeqID, Div2WheelsOn, Div2TotalGTime, Div2LongestGTime, Div2WheelsOff, Div2TailNum, Div3Airport, Div3AirportID, Div3AirportSeqID, Div3WheelsOn, Div3TotalGTime, Div3LongestGTime, Div3WheelsOff, Div3TailNum, Div4Airport, Div4AirportID, Div4AirportSeqID, Div4WheelsOn, Div4TotalGTime, Div4LongestGTime, Div4WheelsOff, Div4TailNum, Div5Airport, Div5AirportID, Div5AirportSeqID, Div5WheelsOn, Div5TotalGTime, Div5LongestGTime, Div5WheelsOff, Div5TailNum, \n",
      " Schema: Year, Quarter, Month, DayofMonth, DayOfWeek, FlightDate, Reporting_Airline, DOT_ID_Reporting_Airline, IATA_CODE_Reporting_Airline, Tail_Number, Flight_Number_Reporting_Airline, OriginAirportID, OriginAirportSeqID, OriginCityMarketID, Origin, OriginCityName, OriginState, OriginStateFips, OriginStateName, OriginWac, DestAirportID, DestAirportSeqID, DestCityMarketID, Dest, DestCityName, DestState, DestStateFips, DestStateName, DestWac, CRSDepTime, DepTime, DepDelay, DepDelayMinutes, DepDel15, DepartureDelayGroups, DepTimeBlk, TaxiOut, WheelsOff, WheelsOn, TaxiIn, CRSArrTime, ArrTime, ArrDelay, ArrDelayMinutes, ArrDel15, ArrivalDelayGroups, ArrTimeBlk, Cancelled, CancellationCode, Diverted, CRSElapsedTime, ActualElapsedTime, AirTime, Flights, Distance, DistanceGroup, CarrierDelay, WeatherDelay, NASDelay, SecurityDelay, LateAircraftDelay, FirstDepTime, TotalAddGTime, LongestAddGTime, DivAirportLandings, DivReachedDest, DivActualElapsedTime, DivArrDelay, DivDistance, Div1Airport, Div1AirportID, Div1AirportSeqID, Div1WheelsOn, Div1TotalGTime, Div1LongestGTime, Div1WheelsOff, Div1TailNum, Div2Airport, Div2AirportID, Div2AirportSeqID, Div2WheelsOn, Div2TotalGTime, Div2LongestGTime, Div2WheelsOff, Div2TailNum, Div3Airport, Div3AirportID, Div3AirportSeqID, Div3WheelsOn, Div3TotalGTime, Div3LongestGTime, Div3WheelsOff, Div3TailNum, Div4Airport, Div4AirportID, Div4AirportSeqID, Div4WheelsOn, Div4TotalGTime, Div4LongestGTime, Div4WheelsOff, Div4TailNum, Div5Airport, Div5AirportID, Div5AirportSeqID, Div5WheelsOn, Div5TotalGTime, Div5LongestGTime, Div5WheelsOff, Div5TailNum, _c109\n",
      "Expected: _c109 but found: \n",
      "CSV file: hdfs://localhost:9000/user/aishanee/2024_1.csv\n"
     ]
    }
   ],
   "source": [
    "from pyspark.sql import SparkSession\n",
    "\n",
    "spark = SparkSession.builder \\\n",
    "    .appName(\"ReadFromHDFS\") \\\n",
    "    .getOrCreate()\n",
    "\n",
    "# Read CSV file from HDFS\n",
    "df = spark.read.option(\"header\", \"true\").csv(\"hdfs://localhost:9000/user/aishanee/*.csv\")\n",
    "\n",
    "# Show results\n",
    "df.show(5)\n"
   ]
  },
  {
   "cell_type": "code",
   "execution_count": 4,
   "id": "d249feba",
   "metadata": {},
   "outputs": [
    {
     "name": "stdout",
     "output_type": "stream",
     "text": [
      "root\n",
      " |-- Year: string (nullable = true)\n",
      " |-- Quarter: string (nullable = true)\n",
      " |-- Month: string (nullable = true)\n",
      " |-- DayofMonth: string (nullable = true)\n",
      " |-- DayOfWeek: string (nullable = true)\n",
      " |-- FlightDate: string (nullable = true)\n",
      " |-- Reporting_Airline: string (nullable = true)\n",
      " |-- DOT_ID_Reporting_Airline: string (nullable = true)\n",
      " |-- IATA_CODE_Reporting_Airline: string (nullable = true)\n",
      " |-- Tail_Number: string (nullable = true)\n",
      " |-- Flight_Number_Reporting_Airline: string (nullable = true)\n",
      " |-- OriginAirportID: string (nullable = true)\n",
      " |-- OriginAirportSeqID: string (nullable = true)\n",
      " |-- OriginCityMarketID: string (nullable = true)\n",
      " |-- Origin: string (nullable = true)\n",
      " |-- OriginCityName: string (nullable = true)\n",
      " |-- OriginState: string (nullable = true)\n",
      " |-- OriginStateFips: string (nullable = true)\n",
      " |-- OriginStateName: string (nullable = true)\n",
      " |-- OriginWac: string (nullable = true)\n",
      " |-- DestAirportID: string (nullable = true)\n",
      " |-- DestAirportSeqID: string (nullable = true)\n",
      " |-- DestCityMarketID: string (nullable = true)\n",
      " |-- Dest: string (nullable = true)\n",
      " |-- DestCityName: string (nullable = true)\n",
      " |-- DestState: string (nullable = true)\n",
      " |-- DestStateFips: string (nullable = true)\n",
      " |-- DestStateName: string (nullable = true)\n",
      " |-- DestWac: string (nullable = true)\n",
      " |-- CRSDepTime: string (nullable = true)\n",
      " |-- DepTime: string (nullable = true)\n",
      " |-- DepDelay: string (nullable = true)\n",
      " |-- DepDelayMinutes: string (nullable = true)\n",
      " |-- DepDel15: string (nullable = true)\n",
      " |-- DepartureDelayGroups: string (nullable = true)\n",
      " |-- DepTimeBlk: string (nullable = true)\n",
      " |-- TaxiOut: string (nullable = true)\n",
      " |-- WheelsOff: string (nullable = true)\n",
      " |-- WheelsOn: string (nullable = true)\n",
      " |-- TaxiIn: string (nullable = true)\n",
      " |-- CRSArrTime: string (nullable = true)\n",
      " |-- ArrTime: string (nullable = true)\n",
      " |-- ArrDelay: string (nullable = true)\n",
      " |-- ArrDelayMinutes: string (nullable = true)\n",
      " |-- ArrDel15: string (nullable = true)\n",
      " |-- ArrivalDelayGroups: string (nullable = true)\n",
      " |-- ArrTimeBlk: string (nullable = true)\n",
      " |-- Cancelled: string (nullable = true)\n",
      " |-- CancellationCode: string (nullable = true)\n",
      " |-- Diverted: string (nullable = true)\n",
      " |-- CRSElapsedTime: string (nullable = true)\n",
      " |-- ActualElapsedTime: string (nullable = true)\n",
      " |-- AirTime: string (nullable = true)\n",
      " |-- Flights: string (nullable = true)\n",
      " |-- Distance: string (nullable = true)\n",
      " |-- DistanceGroup: string (nullable = true)\n",
      " |-- CarrierDelay: string (nullable = true)\n",
      " |-- WeatherDelay: string (nullable = true)\n",
      " |-- NASDelay: string (nullable = true)\n",
      " |-- SecurityDelay: string (nullable = true)\n",
      " |-- LateAircraftDelay: string (nullable = true)\n",
      " |-- FirstDepTime: string (nullable = true)\n",
      " |-- TotalAddGTime: string (nullable = true)\n",
      " |-- LongestAddGTime: string (nullable = true)\n",
      " |-- DivAirportLandings: string (nullable = true)\n",
      " |-- DivReachedDest: string (nullable = true)\n",
      " |-- DivActualElapsedTime: string (nullable = true)\n",
      " |-- DivArrDelay: string (nullable = true)\n",
      " |-- DivDistance: string (nullable = true)\n",
      " |-- Div1Airport: string (nullable = true)\n",
      " |-- Div1AirportID: string (nullable = true)\n",
      " |-- Div1AirportSeqID: string (nullable = true)\n",
      " |-- Div1WheelsOn: string (nullable = true)\n",
      " |-- Div1TotalGTime: string (nullable = true)\n",
      " |-- Div1LongestGTime: string (nullable = true)\n",
      " |-- Div1WheelsOff: string (nullable = true)\n",
      " |-- Div1TailNum: string (nullable = true)\n",
      " |-- Div2Airport: string (nullable = true)\n",
      " |-- Div2AirportID: string (nullable = true)\n",
      " |-- Div2AirportSeqID: string (nullable = true)\n",
      " |-- Div2WheelsOn: string (nullable = true)\n",
      " |-- Div2TotalGTime: string (nullable = true)\n",
      " |-- Div2LongestGTime: string (nullable = true)\n",
      " |-- Div2WheelsOff: string (nullable = true)\n",
      " |-- Div2TailNum: string (nullable = true)\n",
      " |-- Div3Airport: string (nullable = true)\n",
      " |-- Div3AirportID: string (nullable = true)\n",
      " |-- Div3AirportSeqID: string (nullable = true)\n",
      " |-- Div3WheelsOn: string (nullable = true)\n",
      " |-- Div3TotalGTime: string (nullable = true)\n",
      " |-- Div3LongestGTime: string (nullable = true)\n",
      " |-- Div3WheelsOff: string (nullable = true)\n",
      " |-- Div3TailNum: string (nullable = true)\n",
      " |-- Div4Airport: string (nullable = true)\n",
      " |-- Div4AirportID: string (nullable = true)\n",
      " |-- Div4AirportSeqID: string (nullable = true)\n",
      " |-- Div4WheelsOn: string (nullable = true)\n",
      " |-- Div4TotalGTime: string (nullable = true)\n",
      " |-- Div4LongestGTime: string (nullable = true)\n",
      " |-- Div4WheelsOff: string (nullable = true)\n",
      " |-- Div4TailNum: string (nullable = true)\n",
      " |-- Div5Airport: string (nullable = true)\n",
      " |-- Div5AirportID: string (nullable = true)\n",
      " |-- Div5AirportSeqID: string (nullable = true)\n",
      " |-- Div5WheelsOn: string (nullable = true)\n",
      " |-- Div5TotalGTime: string (nullable = true)\n",
      " |-- Div5LongestGTime: string (nullable = true)\n",
      " |-- Div5WheelsOff: string (nullable = true)\n",
      " |-- Div5TailNum: string (nullable = true)\n",
      " |-- _c109: string (nullable = true)\n",
      "\n"
     ]
    }
   ],
   "source": [
    "df.printSchema()"
   ]
  },
  {
   "cell_type": "code",
   "execution_count": 6,
   "id": "0566e9a3",
   "metadata": {},
   "outputs": [
    {
     "data": {
      "text/plain": [
       "['Year',\n",
       " 'Quarter',\n",
       " 'Month',\n",
       " 'DayofMonth',\n",
       " 'DayOfWeek',\n",
       " 'FlightDate',\n",
       " 'Reporting_Airline',\n",
       " 'DOT_ID_Reporting_Airline',\n",
       " 'IATA_CODE_Reporting_Airline',\n",
       " 'Tail_Number',\n",
       " 'Flight_Number_Reporting_Airline',\n",
       " 'OriginAirportID',\n",
       " 'OriginAirportSeqID',\n",
       " 'OriginCityMarketID',\n",
       " 'Origin',\n",
       " 'OriginCityName',\n",
       " 'OriginState',\n",
       " 'OriginStateFips',\n",
       " 'OriginStateName',\n",
       " 'OriginWac',\n",
       " 'DestAirportID',\n",
       " 'DestAirportSeqID',\n",
       " 'DestCityMarketID',\n",
       " 'Dest',\n",
       " 'DestCityName',\n",
       " 'DestState',\n",
       " 'DestStateFips',\n",
       " 'DestStateName',\n",
       " 'DestWac',\n",
       " 'CRSDepTime',\n",
       " 'DepTime',\n",
       " 'DepDelay',\n",
       " 'DepDelayMinutes',\n",
       " 'DepDel15',\n",
       " 'DepartureDelayGroups',\n",
       " 'DepTimeBlk',\n",
       " 'TaxiOut',\n",
       " 'WheelsOff',\n",
       " 'WheelsOn',\n",
       " 'TaxiIn',\n",
       " 'CRSArrTime',\n",
       " 'ArrTime',\n",
       " 'ArrDelay',\n",
       " 'ArrDelayMinutes',\n",
       " 'ArrDel15',\n",
       " 'ArrivalDelayGroups',\n",
       " 'ArrTimeBlk',\n",
       " 'Cancelled',\n",
       " 'CancellationCode',\n",
       " 'Diverted',\n",
       " 'CRSElapsedTime',\n",
       " 'ActualElapsedTime',\n",
       " 'AirTime',\n",
       " 'Flights',\n",
       " 'Distance',\n",
       " 'DistanceGroup',\n",
       " 'CarrierDelay',\n",
       " 'WeatherDelay',\n",
       " 'NASDelay',\n",
       " 'SecurityDelay',\n",
       " 'LateAircraftDelay',\n",
       " 'FirstDepTime',\n",
       " 'TotalAddGTime',\n",
       " 'LongestAddGTime',\n",
       " 'DivAirportLandings',\n",
       " 'DivReachedDest',\n",
       " 'DivActualElapsedTime',\n",
       " 'DivArrDelay',\n",
       " 'DivDistance',\n",
       " 'Div1Airport',\n",
       " 'Div1AirportID',\n",
       " 'Div1AirportSeqID',\n",
       " 'Div1WheelsOn',\n",
       " 'Div1TotalGTime',\n",
       " 'Div1LongestGTime',\n",
       " 'Div1WheelsOff',\n",
       " 'Div1TailNum',\n",
       " 'Div2Airport',\n",
       " 'Div2AirportID',\n",
       " 'Div2AirportSeqID',\n",
       " 'Div2WheelsOn',\n",
       " 'Div2TotalGTime',\n",
       " 'Div2LongestGTime',\n",
       " 'Div2WheelsOff',\n",
       " 'Div2TailNum',\n",
       " 'Div3Airport',\n",
       " 'Div3AirportID',\n",
       " 'Div3AirportSeqID',\n",
       " 'Div3WheelsOn',\n",
       " 'Div3TotalGTime',\n",
       " 'Div3LongestGTime',\n",
       " 'Div3WheelsOff',\n",
       " 'Div3TailNum',\n",
       " 'Div4Airport',\n",
       " 'Div4AirportID',\n",
       " 'Div4AirportSeqID',\n",
       " 'Div4WheelsOn',\n",
       " 'Div4TotalGTime',\n",
       " 'Div4LongestGTime',\n",
       " 'Div4WheelsOff',\n",
       " 'Div4TailNum',\n",
       " 'Div5Airport',\n",
       " 'Div5AirportID',\n",
       " 'Div5AirportSeqID',\n",
       " 'Div5WheelsOn',\n",
       " 'Div5TotalGTime',\n",
       " 'Div5LongestGTime',\n",
       " 'Div5WheelsOff',\n",
       " 'Div5TailNum',\n",
       " '_c109']"
      ]
     },
     "execution_count": 6,
     "metadata": {},
     "output_type": "execute_result"
    }
   ],
   "source": [
    "# Print all column names\n",
    "df.columns"
   ]
  },
  {
   "cell_type": "code",
   "execution_count": 5,
   "id": "a8a40f1a",
   "metadata": {},
   "outputs": [],
   "source": [
    "#Keep columns with time, airline details, routes, airline delays, delay reasons, delay \n",
    "\n",
    "df = df.select('Year',\t'Quarter',\t'Month',\t'DayofMonth',\t'DayOfWeek',\t'FlightDate',\t'Reporting_Airline',\t'DOT_ID_Reporting_Airline',\t'IATA_CODE_Reporting_Airline',\t'Tail_Number',\t'Flight_Number_Reporting_Airline',\t'OriginAirportID',\t'OriginAirportSeqID',\t'OriginCityMarketID',\t'Origin',\t'OriginCityName',\t'OriginState',\t'OriginStateFips',\t'OriginStateName',\t'OriginWac',\t'DestAirportID',\t'DestAirportSeqID',\t'DestCityMarketID',\t'Dest',\t'DestCityName',\t'DestState',\t'DestStateFips',\t'DestStateName',\t'DestWac',\t'CRSDepTime',\t'DepTime',\t'DepDelay',\t'DepDelayMinutes',\t'DepDel15',\t'DepartureDelayGroups',\t'DepTimeBlk',\t'TaxiOut',\t'WheelsOff',\t'WheelsOn',\t'TaxiIn',\t'CRSArrTime',\t'ArrTime',\t'ArrDelay',\t'ArrDelayMinutes',\t'ArrDel15',\t'ArrivalDelayGroups',\t'ArrTimeBlk',\t'Cancelled',\t'CancellationCode',\t'Diverted',\t'CRSElapsedTime',\t'ActualElapsedTime',\t'AirTime',\t'Flights',\t'Distance',\t'DistanceGroup',\t'CarrierDelay',\t'WeatherDelay',\t'NASDelay',\t'SecurityDelay',\t'LateAircraftDelay')\n"
   ]
  },
  {
   "cell_type": "code",
   "execution_count": 11,
   "id": "d81276a0",
   "metadata": {},
   "outputs": [
    {
     "name": "stderr",
     "output_type": "stream",
     "text": [
      "[Stage 3:======================================================>  (24 + 1) / 25]\r"
     ]
    },
    {
     "name": "stdout",
     "output_type": "stream",
     "text": [
      "+----+-------+-----+----------+---------+----------+-----------------+------------------------+---------------------------+-----------+-------------------------------+---------------+------------------+------------------+------+--------------+-----------+---------------+---------------+---------+-------------+----------------+----------------+----+------------+---------+-------------+-------------+-------+----------+-------+--------+---------------+--------+--------------------+----------+-------+---------+--------+------+----------+-------+--------+---------------+--------+------------------+----------+---------+----------------+--------+--------------+-----------------+-------+-------+--------+-------------+------------+------------+--------+-------------+-----------------+\n",
      "|Year|Quarter|Month|DayofMonth|DayOfWeek|FlightDate|Reporting_Airline|DOT_ID_Reporting_Airline|IATA_CODE_Reporting_Airline|Tail_Number|Flight_Number_Reporting_Airline|OriginAirportID|OriginAirportSeqID|OriginCityMarketID|Origin|OriginCityName|OriginState|OriginStateFips|OriginStateName|OriginWac|DestAirportID|DestAirportSeqID|DestCityMarketID|Dest|DestCityName|DestState|DestStateFips|DestStateName|DestWac|CRSDepTime|DepTime|DepDelay|DepDelayMinutes|DepDel15|DepartureDelayGroups|DepTimeBlk|TaxiOut|WheelsOff|WheelsOn|TaxiIn|CRSArrTime|ArrTime|ArrDelay|ArrDelayMinutes|ArrDel15|ArrivalDelayGroups|ArrTimeBlk|Cancelled|CancellationCode|Diverted|CRSElapsedTime|ActualElapsedTime|AirTime|Flights|Distance|DistanceGroup|CarrierDelay|WeatherDelay|NASDelay|SecurityDelay|LateAircraftDelay|\n",
      "+----+-------+-----+----------+---------+----------+-----------------+------------------------+---------------------------+-----------+-------------------------------+---------------+------------------+------------------+------+--------------+-----------+---------------+---------------+---------+-------------+----------------+----------------+----+------------+---------+-------------+-------------+-------+----------+-------+--------+---------------+--------+--------------------+----------+-------+---------+--------+------+----------+-------+--------+---------------+--------+------------------+----------+---------+----------------+--------+--------------+-----------------+-------+-------+--------+-------------+------------+------------+--------+-------------+-----------------+\n",
      "|   0|      0|    0|         0|        0|         0|                0|                       0|                          0|      20152|                              1|              0|                 0|                 0|     0|             0|          0|              0|              0|        0|            0|               0|               0|   0|           0|        0|            0|            0|      0|         0|  92659|   92970|          92970|   92970|               92970|         0|  95734|    95734|   97856| 97856|         0|  97854|  113814|         113814|  113814|            113814|         0|        0|         6982746|       0|             1|           113814| 113814|      0|       0|            0|     5629097|     5629097| 5629097|      5629097|          5629097|\n",
      "+----+-------+-----+----------+---------+----------+-----------------+------------------------+---------------------------+-----------+-------------------------------+---------------+------------------+------------------+------+--------------+-----------+---------------+---------------+---------+-------------+----------------+----------------+----+------------+---------+-------------+-------------+-------+----------+-------+--------+---------------+--------+--------------------+----------+-------+---------+--------+------+----------+-------+--------+---------------+--------+------------------+----------+---------+----------------+--------+--------------+-----------------+-------+-------+--------+-------------+------------+------------+--------+-------------+-----------------+\n",
      "\n"
     ]
    },
    {
     "name": "stderr",
     "output_type": "stream",
     "text": [
      "                                                                                \r"
     ]
    }
   ],
   "source": [
    "#Count null values for each column\n",
    "from pyspark.sql.functions import col, count, when\n",
    "null_counts = df.select([count(when(col(c).isNull(), c)).alias(c) for c in df.columns])\n",
    "null_counts.show()\n"
   ]
  },
  {
   "cell_type": "code",
   "execution_count": 14,
   "id": "97a36d0e",
   "metadata": {},
   "outputs": [
    {
     "name": "stderr",
     "output_type": "stream",
     "text": [
      "[Stage 12:=====================================================>  (24 + 1) / 25]\r"
     ]
    },
    {
     "name": "stdout",
     "output_type": "stream",
     "text": [
      "Total number of rows: 7079061\n"
     ]
    },
    {
     "name": "stderr",
     "output_type": "stream",
     "text": [
      "                                                                                \r"
     ]
    }
   ],
   "source": [
    "#Count rows\n",
    "row_count = df.count()\n",
    "print(f\"Total number of rows: {row_count}\")"
   ]
  },
  {
   "cell_type": "code",
   "execution_count": 15,
   "id": "6f1a57b7",
   "metadata": {},
   "outputs": [
    {
     "name": "stderr",
     "output_type": "stream",
     "text": [
      "[Stage 15:=====================================================>  (24 + 1) / 25]\r"
     ]
    },
    {
     "name": "stdout",
     "output_type": "stream",
     "text": [
      "+-----------------+--------------+\n",
      "|Reporting_Airline|DelayedFlights|\n",
      "+-----------------+--------------+\n",
      "|               WN|        687600|\n",
      "|               AA|        406153|\n",
      "|               DL|        328277|\n",
      "|               UA|        263919|\n",
      "|               OO|        205013|\n",
      "|               NK|        103667|\n",
      "|               B6|         96644|\n",
      "|               AS|         93861|\n",
      "|               MQ|         89276|\n",
      "|               F9|         84262|\n",
      "+-----------------+--------------+\n",
      "only showing top 10 rows\n",
      "\n"
     ]
    },
    {
     "name": "stderr",
     "output_type": "stream",
     "text": [
      "                                                                                \r"
     ]
    }
   ],
   "source": [
    "#Calculate Airlines with highest number of delayed flights\n",
    "# df.createOrReplaceTempView(\"flights\")\n",
    "delays = spark.sql(\"\"\"\n",
    "SELECT Reporting_Airline, COUNT(*) AS DelayedFlights\n",
    "FROM flights\n",
    "WHERE DepDelay > 0\n",
    "GROUP BY Reporting_Airline\n",
    "ORDER BY DelayedFlights DESC\n",
    "\"\"\")\n",
    "delays.show(10)"
   ]
  },
  {
   "cell_type": "code",
   "execution_count": 13,
   "id": "87dd77fa",
   "metadata": {},
   "outputs": [
    {
     "name": "stderr",
     "output_type": "stream",
     "text": [
      "[Stage 9:======================================================>  (24 + 1) / 25]\r"
     ]
    },
    {
     "name": "stdout",
     "output_type": "stream",
     "text": [
      "+------+----+------------+----------+\n",
      "|Origin|Dest|TotalFlights|TotalDelay|\n",
      "+------+----+------------+----------+\n",
      "|   LAX| SFO|       11390|  170049.0|\n",
      "|   SAN| SFO|        6240|  132596.0|\n",
      "|   ATL| MCO|        8771|  132255.0|\n",
      "|   MCO| ATL|        8821|  126419.0|\n",
      "|   FLL| ATL|        7592|  120377.0|\n",
      "|   AUS| DFW|        4808|  112657.0|\n",
      "|   MIA| ATL|        6610|  112250.0|\n",
      "|   ATL| MIA|        6603|  112084.0|\n",
      "|   ORD| LGA|       10695|  111514.0|\n",
      "|   DFW| LAS|        6058|  109006.0|\n",
      "+------+----+------------+----------+\n",
      "only showing top 10 rows\n",
      "\n"
     ]
    },
    {
     "name": "stderr",
     "output_type": "stream",
     "text": [
      "                                                                                \r"
     ]
    }
   ],
   "source": [
    "#Calculate routes with highest delays\n",
    "from pyspark.sql import functions as F\n",
    "df.createOrReplaceTempView(\"flights\")\n",
    "df_delays = spark.sql(\"\"\"\n",
    "    SELECT Origin, Dest, COUNT(*) AS TotalFlights, SUM(ArrDelay) AS TotalDelay\n",
    "    FROM flights\n",
    "    WHERE ArrDelay IS NOT NULL\n",
    "    GROUP BY Origin, Dest\n",
    "    ORDER BY TotalDelay DESC\n",
    "\"\"\")\n",
    "df_delays.show(10)\n"
   ]
  },
  {
   "cell_type": "code",
   "execution_count": 7,
   "id": "81cc9ab3",
   "metadata": {},
   "outputs": [
    {
     "name": "stderr",
     "output_type": "stream",
     "text": [
      "25/04/28 19:39:35 WARN CSVHeaderChecker: CSV header does not conform to the schema.\n",
      " Header: AvgDepDelay, , \n",
      " Schema: Reporting_Airline, Origin, Dest\n",
      "Expected: Reporting_Airline but found: AvgDepDelay\n",
      "CSV file: hdfs://localhost:9000/user/aishanee/airline_delays.csv/part-00000-84225469-5044-4d7b-a916-2874f6a77c19-c000.csv\n"
     ]
    },
    {
     "name": "stdout",
     "output_type": "stream",
     "text": [
      "Total number of rows: 25335\n"
     ]
    },
    {
     "name": "stderr",
     "output_type": "stream",
     "text": [
      "                                                                                \r"
     ]
    }
   ],
   "source": [
    "#Group by routes, airlines and calculate average delays, number of delayed flights,cancelled_flights, total flights\n",
    "# df.createOrReplaceTempView(\"flights\")\n",
    "df_grouped = spark.sql(\"\"\"\n",
    "    SELECT Origin, Dest, Reporting_Airline, COUNT(*) AS TotalFlights,\n",
    "           SUM(CASE WHEN DepDelay > 0 THEN 1 ELSE 0 END) AS DelayedFlights,\n",
    "           SUM(CASE WHEN Cancelled = 1 THEN 1 ELSE 0 END) AS CancelledFlights,\n",
    "           AVG(DepDelay) AS AvgDepDelay,\n",
    "           AVG(ArrDelay) AS AvgArrDelay\n",
    "    FROM flights\n",
    "    GROUP BY Origin, Dest, Reporting_Airline\n",
    "    ORDER BY TotalFlights DESC\n",
    "\"\"\")\n",
    "#Count rows\n",
    "row_count = df_grouped.count()\n",
    "print(f\"Total number of rows: {row_count}\")"
   ]
  },
  {
   "cell_type": "code",
   "execution_count": 8,
   "id": "38d279d5",
   "metadata": {},
   "outputs": [
    {
     "name": "stderr",
     "output_type": "stream",
     "text": [
      "25/04/28 19:40:04 WARN CSVHeaderChecker: CSV header does not conform to the schema.\n",
      " Header: AvgDepDelay, , , , , \n",
      " Schema: Reporting_Airline, Origin, Dest, DepDelay, ArrDelay, Cancelled\n",
      "Expected: Reporting_Airline but found: AvgDepDelay\n",
      "CSV file: hdfs://localhost:9000/user/aishanee/airline_delays.csv/part-00000-84225469-5044-4d7b-a916-2874f6a77c19-c000.csv\n"
     ]
    },
    {
     "name": "stdout",
     "output_type": "stream",
     "text": [
      "+------+----+-----------------+------------+--------------+----------------+------------------+------------------+\n",
      "|Origin|Dest|Reporting_Airline|TotalFlights|DelayedFlights|CancelledFlights|       AvgDepDelay|       AvgArrDelay|\n",
      "+------+----+-----------------+------------+--------------+----------------+------------------+------------------+\n",
      "|   OGG| HNL|               HA|        7622|          2655|              95|2.6930535263647233| 2.833732057416268|\n",
      "|   HNL| OGG|               HA|        7614|          3090|              81|3.5439946914399467| 3.733669676048858|\n",
      "|   HNL| LIH|               HA|        6446|          2220|             101| 2.680837663360101|3.7392401072047927|\n",
      "|   LIH| HNL|               HA|        6446|          2252|             105|2.5964358933922096| 2.002208550244518|\n",
      "|   SEA| ANC|               AS|        5928|          3237|              71| 10.95732331853875| 7.755210112743423|\n",
      "|   ANC| SEA|               AS|        5926|          2023|              83| 4.778918548939083|1.0335731414868106|\n",
      "|   KOA| HNL|               HA|        5855|          2105|              59| 3.096774193548387| 3.340811044003451|\n",
      "|   HNL| KOA|               HA|        5853|          2250|              53|3.4821643977253145| 4.340348456097982|\n",
      "|   ATL| MCO|               DL|        5461|          2323|              55|14.338512763596004|15.416944753429737|\n",
      "|   MCO| ATL|               DL|        5459|          2173|              61| 16.80455724342349|14.042647876877433|\n",
      "+------+----+-----------------+------------+--------------+----------------+------------------+------------------+\n",
      "only showing top 10 rows\n",
      "\n"
     ]
    },
    {
     "name": "stderr",
     "output_type": "stream",
     "text": [
      "                                                                                \r"
     ]
    }
   ],
   "source": [
    "df_grouped.show(10)"
   ]
  },
  {
   "cell_type": "code",
   "execution_count": 17,
   "id": "1baf2de2",
   "metadata": {},
   "outputs": [
    {
     "name": "stderr",
     "output_type": "stream",
     "text": [
      "                                                                                \r"
     ]
    }
   ],
   "source": [
    "#Export to CSV\n",
    "df_grouped.coalesce(1).write.csv(\"hdfs://localhost:9000/user/aishanee/airline_delays.csv\", header=True, mode=\"overwrite\")"
   ]
  },
  {
   "cell_type": "code",
   "execution_count": 9,
   "id": "ff2f1a59",
   "metadata": {},
   "outputs": [],
   "source": [
    "#Read the CSV file from HDFS\n",
    "df_grouped = spark.read.option(\"header\", \"true\").csv(\"hdfs://localhost:9000/user/aishanee/airline_delays.csv\")"
   ]
  },
  {
   "cell_type": "markdown",
   "id": "e1f60dc1",
   "metadata": {},
   "source": [
    "Top 10 airlines with highest % delayed flights"
   ]
  },
  {
   "cell_type": "code",
   "execution_count": 16,
   "id": "6d02a6ec",
   "metadata": {},
   "outputs": [
    {
     "name": "stderr",
     "output_type": "stream",
     "text": [
      "[Stage 35:>                                                         (0 + 1) / 1]\r"
     ]
    },
    {
     "name": "stdout",
     "output_type": "stream",
     "text": [
      "+-----------------+-------------------+------------+------------------+\n",
      "|Reporting_Airline|TotalDelayedFlights|TotalFlights| PercentageDelayed|\n",
      "+-----------------+-------------------+------------+------------------+\n",
      "|               WN|           687600.0|   1419419.0|   48.442355639878|\n",
      "|               AA|           406153.0|    984306.0| 41.26287963295967|\n",
      "|               F9|            84262.0|    208624.0| 40.38940869698597|\n",
      "|               B6|            96644.0|    240282.0|40.221073571886365|\n",
      "|               NK|           103667.0|    261103.0| 39.70348866156268|\n",
      "|               HA|            30865.0|     78530.0| 39.30345091048007|\n",
      "|               AS|            93861.0|    245819.0| 38.18297202413158|\n",
      "|               UA|           263919.0|    760451.0| 34.70558918326099|\n",
      "|               G4|            39828.0|    117210.0| 33.98003583312004|\n",
      "|               DL|           328277.0|   1009174.0|32.529276418139986|\n",
      "+-----------------+-------------------+------------+------------------+\n",
      "only showing top 10 rows\n",
      "\n"
     ]
    },
    {
     "name": "stderr",
     "output_type": "stream",
     "text": [
      "                                                                                \r"
     ]
    }
   ],
   "source": [
    "#Show top 10 airlines by % of delayed flights from df_grouped and plot in chart\n",
    "\n",
    "df_grouped.createOrReplaceTempView(\"flights_grouped\")\n",
    "delays = spark.sql(\"\"\"\n",
    "SELECT Reporting_Airline, \n",
    "       SUM(DelayedFlights) AS TotalDelayedFlights,\n",
    "       SUM(TotalFlights) AS TotalFlights,\n",
    "       (SUM(DelayedFlights) / SUM(TotalFlights)) * 100 AS PercentageDelayed\n",
    "FROM flights_grouped\n",
    "GROUP BY Reporting_Airline\n",
    "ORDER BY PercentageDelayed DESC\n",
    "\"\"\")\n",
    "delays.show(10)\n",
    "\n"
   ]
  },
  {
   "cell_type": "markdown",
   "id": "37ca75ca",
   "metadata": {},
   "source": [
    "Top 10 airlines with highest avg departure delays"
   ]
  },
  {
   "cell_type": "code",
   "execution_count": null,
   "id": "eaad15a8",
   "metadata": {},
   "outputs": [
    {
     "name": "stdout",
     "output_type": "stream",
     "text": [
      "+-----------------+------------------+------------------+\n",
      "|Reporting_Airline|       AvgDepDelay|       AvgArrDelay|\n",
      "+-----------------+------------------+------------------+\n",
      "|               AA|22.644269138353444|17.700201483223562|\n",
      "|               F9| 21.40118767682888|18.591162344014876|\n",
      "|               B6|  18.4576087342187|12.391772367447047|\n",
      "|               NK| 16.61767846765395| 10.62937708924737|\n",
      "|               OH|15.820320741752033|11.481598629763685|\n",
      "|               G4| 15.59139156652168|11.495455470825565|\n",
      "|               OO|13.821371167657112| 9.515528875683788|\n",
      "|               UA|13.327235280790724| 7.383185329182126|\n",
      "|               WN|12.554003797929532| 6.324827581832263|\n",
      "|               DL|11.911720952360257| 5.214149775878415|\n",
      "+-----------------+------------------+------------------+\n",
      "only showing top 10 rows\n",
      "\n"
     ]
    }
   ],
   "source": [
    "#compute average delay for each airline for delayed flights from grouped_df\n",
    "delays = spark.sql(\"\"\"\n",
    "SELECT Reporting_Airline, \n",
    "       AVG(AvgDepDelay) AS AvgDepDelay,\n",
    "       AVG(AvgArrDelay) AS AvgArrDelay\n",
    "FROM flights_grouped\n",
    "WHERE DelayedFlights > 0\n",
    "GROUP BY Reporting_Airline\n",
    "ORDER BY AvgDepDelay DESC\n",
    "\"\"\")\n",
    "delays.show(10)\n",
    "\n",
    "\n",
    "\n"
   ]
  },
  {
   "cell_type": "markdown",
   "id": "e1e63990",
   "metadata": {},
   "source": [
    "Top 10 airlines with highest avg arrival delays"
   ]
  },
  {
   "cell_type": "code",
   "execution_count": 13,
   "id": "d8817144",
   "metadata": {},
   "outputs": [
    {
     "name": "stdout",
     "output_type": "stream",
     "text": [
      "+-----------------+------------------+------------------+\n",
      "|Reporting_Airline|       AvgDepDelay|       AvgArrDelay|\n",
      "+-----------------+------------------+------------------+\n",
      "|               F9| 21.40118767682888|18.591162344014876|\n",
      "|               AA|22.644269138353444|17.700201483223562|\n",
      "|               B6|  18.4576087342187|12.391772367447047|\n",
      "|               G4| 15.59139156652168|11.495455470825565|\n",
      "|               OH|15.820320741752033|11.481598629763685|\n",
      "|               NK| 16.61767846765395| 10.62937708924737|\n",
      "|               OO|13.821371167657112| 9.515528875683788|\n",
      "|               MQ|11.584161763651025|7.3993747132252725|\n",
      "|               UA|13.327235280790724| 7.383185329182126|\n",
      "|               WN|12.554003797929532| 6.324827581832263|\n",
      "+-----------------+------------------+------------------+\n",
      "only showing top 10 rows\n",
      "\n"
     ]
    }
   ],
   "source": [
    "#compute average delay for each airline for delayed flights from grouped_df\n",
    "delays = spark.sql(\"\"\"\n",
    "SELECT Reporting_Airline, \n",
    "       AVG(AvgDepDelay) AS AvgDepDelay,\n",
    "       AVG(AvgArrDelay) AS AvgArrDelay\n",
    "FROM flights_grouped\n",
    "WHERE DelayedFlights > 0\n",
    "GROUP BY Reporting_Airline\n",
    "ORDER BY AvgArrDelay DESC\n",
    "\"\"\")\n",
    "delays.show(10)"
   ]
  },
  {
   "cell_type": "markdown",
   "id": "f81d5f70",
   "metadata": {},
   "source": [
    "Top 10 airlines with highest avg total delays"
   ]
  },
  {
   "cell_type": "code",
   "execution_count": 14,
   "id": "4f5e46fd",
   "metadata": {},
   "outputs": [
    {
     "name": "stdout",
     "output_type": "stream",
     "text": [
      "+-----------------+------------------+\n",
      "|Reporting_Airline|     AvgTotalDelay|\n",
      "+-----------------+------------------+\n",
      "|               AA| 40.34447062157697|\n",
      "|               F9| 39.99235002084379|\n",
      "|               B6| 30.84938110166574|\n",
      "|               OH|27.301919371515716|\n",
      "|               NK|27.247055556901323|\n",
      "|               G4|27.086847037347265|\n",
      "|               OO| 22.87500089070552|\n",
      "|               UA|20.710420609972843|\n",
      "|               MQ|18.983536476876303|\n",
      "|               WN| 18.87883137976178|\n",
      "+-----------------+------------------+\n",
      "only showing top 10 rows\n",
      "\n"
     ]
    }
   ],
   "source": [
    "#compute total (dep+arr) average delay for each airline for delayed flights from grouped_df\n",
    "delays = spark.sql(\"\"\"\n",
    "SELECT Reporting_Airline, \n",
    "       AVG(AvgDepDelay + AvgArrDelay) AS AvgTotalDelay\n",
    "FROM flights_grouped\n",
    "WHERE DelayedFlights > 0\n",
    "GROUP BY Reporting_Airline\n",
    "ORDER BY AvgTotalDelay DESC\n",
    "\"\"\")\n",
    "delays.show(10)"
   ]
  },
  {
   "cell_type": "code",
   "execution_count": null,
   "id": "d4751937",
   "metadata": {},
   "outputs": [
    {
     "name": "stderr",
     "output_type": "stream",
     "text": [
      "[Stage 46:>                                                         (0 + 1) / 1]\r"
     ]
    },
    {
     "name": "stdout",
     "output_type": "stream",
     "text": [
      "+------+----+-------------------+------------+-----------------+\n",
      "|Origin|Dest|TotalDelayedFlights|TotalFlights|PercentageDelayed|\n",
      "+------+----+-------------------+------------+-----------------+\n",
      "|   CLE| PBI|                2.0|         2.0|            100.0|\n",
      "|   OMA| CMH|                2.0|         2.0|            100.0|\n",
      "|   JFK| LGA|                1.0|         1.0|            100.0|\n",
      "|   RAP| XWA|                1.0|         1.0|            100.0|\n",
      "|   DAL| DTW|                1.0|         1.0|            100.0|\n",
      "|   SJC| GRB|                1.0|         1.0|            100.0|\n",
      "|   BTR| OKC|                1.0|         1.0|            100.0|\n",
      "|   SBN| MIA|                1.0|         1.0|            100.0|\n",
      "|   CAE| OKC|                1.0|         1.0|            100.0|\n",
      "|   LFT| MSY|                1.0|         1.0|            100.0|\n",
      "+------+----+-------------------+------------+-----------------+\n",
      "only showing top 10 rows\n",
      "\n"
     ]
    },
    {
     "name": "stderr",
     "output_type": "stream",
     "text": [
      "                                                                                \r"
     ]
    }
   ],
   "source": [
    "#Routes with highest %delays from grouped_df\n",
    "delays = spark.sql(\"\"\"\n",
    "SELECT Origin, Dest, \n",
    "       SUM(DelayedFlights) AS TotalDelayedFlights,\n",
    "       SUM(TotalFlights) AS TotalFlights,\n",
    "       (SUM(DelayedFlights) / SUM(TotalFlights)) * 100 AS PercentageDelayed\n",
    "FROM flights_grouped\n",
    "GROUP BY Origin, Dest\n",
    "ORDER BY PercentageDelayed DESC\n",
    "\"\"\")\n",
    "delays.show(10)"
   ]
  },
  {
   "cell_type": "code",
   "execution_count": 19,
   "id": "af73e4b1",
   "metadata": {},
   "outputs": [
    {
     "name": "stderr",
     "output_type": "stream",
     "text": [
      "[Stage 49:>                                                         (0 + 1) / 1]\r"
     ]
    },
    {
     "name": "stdout",
     "output_type": "stream",
     "text": [
      "+------+----+-------------------+------------+------------------+\n",
      "|Origin|Dest|TotalDelayedFlights|TotalFlights| PercentageDelayed|\n",
      "+------+----+-------------------+------------+------------------+\n",
      "|   SFO| LAX|             4861.0|     11499.0| 42.27324115140447|\n",
      "|   LAX| SFO|             4555.0|     11526.0|39.519347562033666|\n",
      "|   DEN| PHX|             4383.0|      9446.0|46.400592843531655|\n",
      "|   LAS| LAX|             4096.0|      9559.0| 42.84967046762213|\n",
      "|   ATL| MCO|             4040.0|      8935.0| 45.21544487968663|\n",
      "|   DEN| LAS|             3955.0|      8162.0| 48.45626072041166|\n",
      "|   MCO| ATL|             3871.0|      8967.0|43.169398907103826|\n",
      "|   HNL| OGG|             3865.0|     11634.0|33.221591885851815|\n",
      "|   ORD| LGA|             3856.0|     10969.0|35.153614732427755|\n",
      "|   PHX| DEN|             3808.0|      9479.0| 40.17301403101593|\n",
      "+------+----+-------------------+------------+------------------+\n",
      "only showing top 10 rows\n",
      "\n"
     ]
    },
    {
     "name": "stderr",
     "output_type": "stream",
     "text": [
      "                                                                                \r"
     ]
    }
   ],
   "source": [
    "#Routes with highest no of delayed flights from grouped_df\n",
    "delays = spark.sql(\"\"\"\n",
    "SELECT Origin, Dest, \n",
    "       SUM(DelayedFlights) AS TotalDelayedFlights,\n",
    "       SUM(TotalFlights) AS TotalFlights,\n",
    "       (SUM(DelayedFlights) / SUM(TotalFlights)) * 100 AS PercentageDelayed\n",
    "FROM flights_grouped\n",
    "GROUP BY Origin, Dest\n",
    "ORDER BY TotalDelayedFlights DESC\n",
    "\"\"\")\n",
    "delays.show(10)"
   ]
  },
  {
   "cell_type": "markdown",
   "id": "4760ec2a",
   "metadata": {},
   "source": []
  },
  {
   "cell_type": "code",
   "execution_count": 20,
   "id": "aa699262",
   "metadata": {},
   "outputs": [],
   "source": [
    "spark.stop()"
   ]
  }
 ],
 "metadata": {
  "kernelspec": {
   "display_name": "vespa",
   "language": "python",
   "name": "python3"
  },
  "language_info": {
   "codemirror_mode": {
    "name": "ipython",
    "version": 3
   },
   "file_extension": ".py",
   "mimetype": "text/x-python",
   "name": "python",
   "nbconvert_exporter": "python",
   "pygments_lexer": "ipython3",
   "version": "3.10.4"
  }
 },
 "nbformat": 4,
 "nbformat_minor": 5
}
